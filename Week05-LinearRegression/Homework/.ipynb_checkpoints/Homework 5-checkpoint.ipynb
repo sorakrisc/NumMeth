{
 "cells": [
  {
   "cell_type": "markdown",
   "metadata": {},
   "source": [
    "#Homework 5"
   ]
  },
  {
   "cell_type": "code",
   "execution_count": 2,
   "metadata": {},
   "outputs": [],
   "source": [
    "import numpy as np\n",
    "%matplotlib inline\n",
    "from matplotlib import pyplot as plt\n",
    "import math\n",
    "from math import exp"
   ]
  },
  {
   "cell_type": "markdown",
   "metadata": {},
   "source": [
    "1) If we use trapezoid rule to find the\n",
    "$$\\int \\limits_{x=1}^{3} e^{-x} \\; dx$$\n",
    "using $10$ pieces. What would be our value and what is our bound on error? Verify that you actual error is within the bound your got."
   ]
  },
  {
   "cell_type": "code",
   "execution_count": 3,
   "metadata": {},
   "outputs": [
    {
     "data": {
      "text/plain": [
       "0.31915197451352295"
      ]
     },
     "execution_count": 3,
     "metadata": {},
     "output_type": "execute_result"
    }
   ],
   "source": [
    "def f(x):\n",
    "    return math.e**(-x)\n",
    "def TrapezoidRule(f, a, b, n):\n",
    "    h=(b-a)/n\n",
    "    summ=0\n",
    "    for i in range(1,n):\n",
    "        summ+=f(a+i*h)\n",
    "    return (h/2)*(f(a)+f(b)) + h*summ\n",
    "TrapezoidRule(f, 1,3,10)"
   ]
  },
  {
   "cell_type": "markdown",
   "metadata": {},
   "source": [
    "If $f''(x)$ is continuous and M is any upper bound for $|f''(x)|$ on $a<=x<=b$, then the error for Trapezoidal Rule, $E_T$ , with $n$ partitions satisfies:\n",
    "\n",
    "Max error term at $x=1, f''(1) = \\frac{1}{e}$"
   ]
  },
  {
   "cell_type": "code",
   "execution_count": 5,
   "metadata": {},
   "outputs": [
    {
     "name": "stdout",
     "output_type": "stream",
     "text": [
      "Error Bound: |E_T| <= 0.0024525296078096157\n"
     ]
    }
   ],
   "source": [
    "m = 1/math.e\n",
    "b=3\n",
    "a=1\n",
    "n=10\n",
    "err = ((m)*((b-a)**3))/(12*n**2)\n",
    "print(\"Error Bound: |E_T| <=\", err)"
   ]
  },
  {
   "cell_type": "markdown",
   "metadata": {},
   "source": [
    "1.1) If we want to evaluate the integral in the previous question such that the answer is at most $10^{-6}$ from the real answer. How many pieces do we need?"
   ]
  },
  {
   "cell_type": "code",
   "execution_count": 9,
   "metadata": {},
   "outputs": [
    {
     "name": "stdout",
     "output_type": "stream",
     "text": [
      "496 pieces\n"
     ]
    }
   ],
   "source": [
    "m = 1/math.e\n",
    "b=3\n",
    "a=1\n",
    "n=10\n",
    "err = ((m)*((b-a)**3))/(12*n**2)\n",
    "while(err>10**-6):\n",
    "    n=n+1\n",
    "    err=((m)*((b-a)**3))/(12*n**2)\n",
    "print(n,\"pieces\")"
   ]
  },
  {
   "cell_type": "markdown",
   "metadata": {},
   "source": [
    "2) Simple linear regression. Fit the data in `prob2.txt` with a straight line. Plot to verify."
   ]
  },
  {
   "cell_type": "code",
   "execution_count": 14,
   "metadata": {},
   "outputs": [],
   "source": [
    "def solveSysEq(A, B):\n",
    "    def forward(A, B):\n",
    "        newA = A.copy()\n",
    "        newB = B.copy()\n",
    "        for pivot_row in range(len(A)):\n",
    "            for pivot_elim in range(pivot_row+1,len(A)):\n",
    "                c = newA[pivot_elim][pivot_row]/newA[pivot_row,pivot_row]\n",
    "                newA[pivot_elim] = newA[pivot_elim]-(c*newA[pivot_row])\n",
    "                newB[pivot_elim] = newB[pivot_elim]-(c*newB[pivot_row])\n",
    "        for pivot_row in range(len(A)-1, -1, -1):\n",
    "            for pivot_elim in range(pivot_row-1, -1, -1):\n",
    "                c = newA[pivot_elim][pivot_row]/newA[pivot_row,pivot_row]\n",
    "                newA[pivot_elim] = newA[pivot_elim]-(c*newA[pivot_row])\n",
    "                newB[pivot_elim] = newB[pivot_elim]-(c*newB[pivot_row])\n",
    "        return newA, newB\n",
    "    def backward(A, B):\n",
    "        newA = A.copy()\n",
    "        newB = B.copy()\n",
    "        for pivot_row in range(len(A)):\n",
    "            newB[pivot_row]=newB[pivot_row]/newA[pivot_row][pivot_row]\n",
    "\n",
    "        return newB\n",
    "    \n",
    "    Ap, Bp =forward(A,B)\n",
    "    return backward(Ap, Bp)\n"
   ]
  },
  {
   "cell_type": "code",
   "execution_count": 17,
   "metadata": {},
   "outputs": [
    {
     "data": {
      "text/plain": [
       "[<matplotlib.lines.Line2D at 0x10fef8470>]"
      ]
     },
     "execution_count": 17,
     "metadata": {},
     "output_type": "execute_result"
    },
    {
     "data": {
      "image/png": "[encoded data removed]",
      "text/plain": [
       "<matplotlib.figure.Figure at 0x10fef8358>"
      ]
     },
     "metadata": {},
     "output_type": "display_data"
    }
   ],
   "source": [
    "x, y = np.loadtxt('prob2.txt')\n",
    "plt.plot(x,y,\".\")\n",
    "newX = np.array(x)\n",
    "\n",
    "newY = np.array(y)\n",
    "sumX = sum(newX)\n",
    "n = len(x)\n",
    "    \n",
    "A = np.array(\n",
    "[\n",
    "    [sum(newX**2), sumX],\n",
    "    [sumX, n]\n",
    "])\n",
    "B = np.array([sum(newX*newY), sum(newY)])\n",
    "a,b =solveSysEq(A,B)\n",
    "def f(x, a, b):\n",
    "    return a*x + b\n",
    "xs = np.linspace(1,3,1000)\n",
    "ys = [f(x,a,b) for x in xs]\n",
    "plt.plot(xs,ys,color=\"red\")"
   ]
  },
  {
   "cell_type": "markdown",
   "metadata": {},
   "source": [
    "3) Simpson's rule. In the class, we learn how to use trapezoid rule to numerically the integral. In this problem you will find a better rule to evaluate the integral.\n",
    "\n",
    "You will show this in the next problem that\n",
    "\n",
    "$$\\int \\limits_{x=a}^{a+nh} f(x) \\; dx \\approx \\frac{h}{3} \\left(  f(x_0) + 4 \\sum^{n-1}_{i=1,3,5\\ldots} f(x_i) + 2 \\sum^{n-2}_{j=2,4,6\\ldots} f(x_j)+ f(x_n)\\right) $$\n",
    "\n",
    "where $x_i = a+ih$.\n",
    "\n",
    "\n"
   ]
  },
  {
   "cell_type": "markdown",
   "metadata": {},
   "source": [
    "3.1) Use Simpson's Rule described above to find\n",
    "\n",
    "$$\\int \\limits_{x=1}^{3} e^{-x} \\; dx$$\n",
    "\n",
    "using n = 10. This is the same integral as the one in problem 1."
   ]
  },
  {
   "cell_type": "code",
   "execution_count": 20,
   "metadata": {},
   "outputs": [
    {
     "name": "stdout",
     "output_type": "stream",
     "text": [
      "ans = 0.3180951868834287\n"
     ]
    }
   ],
   "source": [
    "def f(x):\n",
    "    return math.e**(-x)\n",
    "\n",
    "def simpson(a,b,n):\n",
    "    h = (b-a)/n\n",
    "    ans = f(a)+f(b)\n",
    "    for i in range(1,n):\n",
    "        if (i%2==0):\n",
    "            ans += 2*f(a+(i*h))\n",
    "        else:\n",
    "            ans += 4*f(a+(i*h))\n",
    "    return ans*(h/3)\n",
    "\n",
    "ans = simpson(1,3,10)\n",
    "print (\"ans =\",ans)"
   ]
  },
  {
   "cell_type": "markdown",
   "metadata": {},
   "source": [
    "Now we will try to understand why the formula shown above works. The key idea is that instead of approximating the area under the curve using trapezoid shape. We will use parabola to approximate the shape. Let us consider a curve $f(x)$ that we want to integrate\n",
    "\n",
    "$$\\int \\limits_{x=a}^{x=a+2h} f(x) \\;dx$$\n",
    "\n",
    "We will use parabola to approximate the area. This parabola will have to pass through three points.\n",
    "    $$[x, f(x)], [x+h, f(x+h)], [x+2h, f(x+2h)]$$\n",
    "    \n",
    "Concretely, suppose that we want to calculate\n",
    "\n",
    "$$\\int \\limits_{x=1}^{x=3} e^{-x} \\;dx $$\n",
    "\n",
    "with $h=1$. The parabola is shown below."
   ]
  },
  {
   "cell_type": "code",
   "execution_count": 28,
   "metadata": {},
   "outputs": [
    {
     "data": {
      "text/plain": [
       "<matplotlib.legend.Legend at 0x107055210>"
      ]
     },
     "execution_count": 28,
     "metadata": {},
     "output_type": "execute_result"
    },
    {
     "data": {
      "image/png": "[encoded data removed]",
      "text/plain": [
       "<matplotlib.figure.Figure at 0x108070990>"
      ]
     },
     "metadata": {},
     "output_type": "display_data"
    }
   ],
   "source": [
    "def f(x):\n",
    "    return math.exp(-x)\n",
    "#let h = 1\n",
    "#we are interested in parabola that passes through\n",
    "#(1, e^-1), (2, e^-2), (3, e^-3)\n",
    "#We can us Legendre Polynomail for this.\n",
    "def poly(x):\n",
    "    #legendre polynomial that passes through (1, e^-1), (2, e^-2), (3, e^-3)\n",
    "    return 0.74742 - 0.453038*x + 0.073498*x**2\n",
    "\n",
    "x = np.linspace(1, 3,100)\n",
    "ty = [f(xx) for xx in x]\n",
    "py = [poly(xx) for xx in x]\n",
    "plt.plot(x, ty, label='f(x)')\n",
    "plt.plot(x,py, label='legendre')\n",
    "plt.plot([1,2,3],[exp(-1),exp(-2),exp(-3)],'o',label=('x, x+h, x+2h'))\n",
    "plt.xlim(0.9,3.1)\n",
    "plt.grid()\n",
    "plt.legend(loc='upper right')"
   ]
  },
  {
   "cell_type": "markdown",
   "metadata": {
    "collapsed": true
   },
   "source": [
    "3.2)From the picture above we can estimate the area of the blue curve using the area under the green parabola. This approximation is much better than trapezoid one since it capture some of the curvature of the curve.\n",
    "\n",
    "Your job is\n",
    "\n",
    " 1. Find the polynomial of degree two that passes through \n",
    " \n",
    " $$[x,f(x)], [x+h, f(x+h)], [x+2h, f(x+2h)]$$\n",
    " \n",
    " 2. Show that the area under the polynomial you found ealirer is\n",
    " \n",
    " $$ A = \\frac{h}{3} \\left[f(x)+4 f(x+h) + f(x+2h) \\right] $$\n",
    " \n",
    " All you need to do is to find whatever you got in 1) analytically. Use Wolfram Alpha or Mathematica if needed."
   ]
  },
  {
   "cell_type": "code",
   "execution_count": 69,
   "metadata": {},
   "outputs": [
    {
     "name": "stdout",
     "output_type": "stream",
     "text": [
      "Area under the ploynomial = 0.319669214161919\n"
     ]
    },
    {
     "data": {
      "text/plain": [
       "<matplotlib.legend.Legend at 0x1129ec908>"
      ]
     },
     "execution_count": 69,
     "metadata": {},
     "output_type": "execute_result"
    },
    {
     "data": {
      "image/png": "[encoded data removed]",
      "text/plain": [
       "<matplotlib.figure.Figure at 0x112f19940>"
      ]
     },
     "metadata": {},
     "output_type": "display_data"
    }
   ],
   "source": [
    "def f(x):\n",
    "    return math.exp(-x)\n",
    "\n",
    "def function(x):\n",
    "    return f(1)*((x-2)*(x-3))/((1-2)*(1-3)) + f(2)*((x-1)*(x-3))/((2-1)*(2-3)) + f(3)*((x-1)*(x-2))/((3-1)*(3-2))\n",
    "\n",
    "def A(h, x):\n",
    "    return (h/3.0) * (function(x) + (4*function(x+h)) + function(x+(2*h)))\n",
    "\n",
    "def legendre(x, xs, ys):\n",
    "    product = 1\n",
    "    new_product = 1\n",
    "    new_summ = 0\n",
    "    for i in range(len(ys)):\n",
    "        for j in range(len(xs)):\n",
    "            if j != i:\n",
    "                product = (x-xs[j])/(xs[i]-xs[j])\n",
    "            product = new_product * product\n",
    "            new_product = product\n",
    "        summ = ys[i] * product\n",
    "        new_summ = new_summ + summ\n",
    "        new_product = 1\n",
    "    return new_summ\n",
    "\n",
    "area = A(1,1)\n",
    "print (\"Area under the ploynomial =\",area)\n",
    "xs = [1, 2, 3]\n",
    "ys = [f(1),  f(2), f(3)]\n",
    "x = np.linspace(1, 3, 100)\n",
    "y1 = [legendre(xx,xs,ys) for xx in x]\n",
    "y2 = [function(xx) for xx in x]\n",
    "plt.plot(xs,ys,'or')\n",
    "plt.plot(x,y1, label = 'legendre')\n",
    "plt.plot(x,y2, label = 'function')\n",
    "plt.grid()\n",
    "plt.legend()"
   ]
  },
  {
   "cell_type": "markdown",
   "metadata": {
    "collapsed": true
   },
   "source": [
    "3.3) Use what you found in 3.2. To show that if you subdivide the interval $[a,b]$ into $n$(even number) subdivision each one with with $h$ and we approximate the area of each two pieces using legendre polynomial as we have done in 3.1, we will find that\n",
    "\n",
    "$$\\int \\limits_{x=a}^{a+nh} f(x) \\; dx \\approx \\frac{h}{3} \\left(  f(x_0) + 4 \\sum^{n-1}_{i=1,3,5\\ldots} f(x_i) + 2 \\sum^{n-2}_{j=2,4,6\\ldots} f(x_j)+ f(x_n)\\right) $$\n",
    "\n",
    "This formula is called Simpson's 1/3 rule. It converges with $O(1/n^4)$. Much faster than Trapezoid. Proving this convergence behavior is similar to how we get one for trapezoid but the algebra is a lot more involved."
   ]
  },
  {
   "cell_type": "code",
   "execution_count": 70,
   "metadata": {},
   "outputs": [
    {
     "name": "stdout",
     "output_type": "stream",
     "text": [
      "ans = 0.319669214161919\n"
     ]
    }
   ],
   "source": [
    "def f(x):\n",
    "    return math.e**(-x)\n",
    "\n",
    "def simpson(a,b,n):\n",
    "    h = (b-a)/n\n",
    "    ans = f(a)+f(b)\n",
    "    for i in range(1,n):\n",
    "        if (i%2==0):\n",
    "            ans += 2*f(a+(i*h))\n",
    "        else:\n",
    "            ans += 4*f(a+(i*h))\n",
    "    return ans*(h/3)\n",
    "\n",
    "ans = simpson(1,3,2)\n",
    "print (\"ans =\",ans)"
   ]
  },
  {
   "cell_type": "markdown",
   "metadata": {},
   "source": [
    "4) Load the data in `prob4.txt`. We want to fit this data with the following function \n",
    "\n",
    "$$f(x) = a \\exp(-x) + c$$\n",
    "\n",
    "where $a$ and $c$ are parameters. \n",
    "\n",
    "Find the $a$ and $c$ that give you the \"best fit\".\n",
    "\n",
    "Make a plot to verify the answer."
   ]
  },
  {
   "cell_type": "code",
   "execution_count": 62,
   "metadata": {},
   "outputs": [
    {
     "data": {
      "text/plain": [
       "[<matplotlib.lines.Line2D at 0x112e82ef0>]"
      ]
     },
     "execution_count": 62,
     "metadata": {},
     "output_type": "execute_result"
    },
    {
     "data": {
      "image/png": "[encoded data removed]",
      "text/plain": [
       "<matplotlib.figure.Figure at 0x112e264a8>"
      ]
     },
     "metadata": {},
     "output_type": "display_data"
    }
   ],
   "source": [
    "x, y = np.loadtxt('prob4.txt')\n",
    "plt.plot(x,y,\".\")\n",
    "newpY = np.array(y)\n",
    "# print(x)\n",
    "newpX = np.array(x)\n",
    "# print(newpX)\n",
    "sumpX = sum(newpX)\n",
    "n = len(newpX)\n",
    "\n",
    "A = np.array(\n",
    "[\n",
    "    [np.sum(np.exp(-2*x)), np.sum(np.exp(-x))],\n",
    "    [np.sum(np.exp(-x)), n]\n",
    "])\n",
    "B = np.array([np.sum(np.exp(-x)*y), np.sum(y)])\n",
    "a,b =solveSysEq(A,B)\n",
    "def f(x, a, b):\n",
    "    return a*math.exp(-x) + b\n",
    "xs = np.linspace(1,3,1000)\n",
    "ys = [f(xx,a,b) for xx in xs]\n",
    "plt.plot(xs,ys,color=\"red\")"
   ]
  },
  {
   "cell_type": "code",
   "execution_count": 35,
   "metadata": {},
   "outputs": [
    {
     "data": {
      "text/plain": [
       "[<matplotlib.lines.Line2D at 0x1108f1438>]"
      ]
     },
     "execution_count": 35,
     "metadata": {},
     "output_type": "execute_result"
    },
    {
     "data": {
      "image/png": "[encoded data removed]",
      "text/plain": [
       "<matplotlib.figure.Figure at 0x1108f1ba8>"
      ]
     },
     "metadata": {},
     "output_type": "display_data"
    }
   ],
   "source": [
    "x, y = np.loadtxt('prob4.txt')\n",
    "plt.plot(x,y,\".\")\n",
    "newpY = np.array(y)\n",
    "newpX = np.array(x)\n",
    "sumpX = sum(newpX)\n",
    "sump2X = sum(newpX**2)\n",
    "sump3X = sum(newpX**3)\n",
    "n = len(newpX)\n",
    "A = np.array(\n",
    "[\n",
    "    [sum(newpX**4), sump3X, sump2X],\n",
    "    [sump3X, sump2X, sumpX],\n",
    "    [sump2X, sumpX, n]\n",
    "])\n",
    "B = np.array([sum((newpX**2)*newpY), sum(newpX*newpY), sum(newpY)])\n",
    "a,b,c =solveSysEq(A,B)\n",
    "def f(x, a, c):\n",
    "    return a*x**2+b*x + c\n",
    "xs = np.linspace(1,3,1000)\n",
    "ys = [f(xx,a,c) for xx in xs]\n",
    "plt.plot(xs,ys,color=\"red\")"
   ]
  },
  {
   "cell_type": "markdown",
   "metadata": {},
   "source": [
    "5) Shipyard. ship_speed_fuel.csv and ship_speed_fuel.txt contains data for fuel consumption and ship speed. You can load them up using loadtxt like shown below.\n",
    "\n",
    "    Variable Names\n",
    "    ship_leg (1-5)\n",
    "    speed    (knots)\n",
    "    fuel     (tons/day)\n",
    "    \n",
    "The plot below show clearly that there are two kinds of ship: small ship and a big ship. \n",
    "\n",
    "Source: S.Wang, Q. Meng (2012). \"Sailing Speed Optimization for Container\n",
    "Ships in a Liner Shipping Network,\" "
   ]
  },
  {
   "cell_type": "code",
   "execution_count": 64,
   "metadata": {},
   "outputs": [
    {
     "data": {
      "text/plain": [
       "[<matplotlib.lines.Line2D at 0x112c1a550>]"
      ]
     },
     "execution_count": 64,
     "metadata": {},
     "output_type": "execute_result"
    },
    {
     "data": {
      "image/png": "[encoded data removed]",
      "text/plain": [
       "<matplotlib.figure.Figure at 0x112d0d390>"
      ]
     },
     "metadata": {},
     "output_type": "display_data"
    }
   ],
   "source": [
    "ship = np.loadtxt(open(\"ship_speed_fuel.csv\",\"rb\"), delimiter=',', skiprows=1)\n",
    "#try to figure out what exactly is in the ship variable\n",
    "#see ship_speed_fuel.text for the meaning of each column\n",
    "shipno = ship[:, 0]\n",
    "speed = ship[:, 1]\n",
    "fuel = ship[:, 2]\n",
    "plt.plot(speed, fuel,'.')"
   ]
  },
  {
   "cell_type": "markdown",
   "metadata": {},
   "source": [
    "5.1) Physics dictates that the bigger the ship the more power it needs to maintain a fixed speed. Figure out which ship 1,2,3,4,5 is a big ship and which ship is a small ship."
   ]
  },
  {
   "cell_type": "code",
   "execution_count": 67,
   "metadata": {},
   "outputs": [
    {
     "name": "stdout",
     "output_type": "stream",
     "text": [
      "Big ships : 4, 5\n",
      "Small ships : 1, 2, 3\n"
     ]
    },
    {
     "data": {
      "image/png": "[encoded data removed]",
      "text/plain": [
       "<matplotlib.figure.Figure at 0x112fc87f0>"
      ]
     },
     "metadata": {},
     "output_type": "display_data"
    }
   ],
   "source": [
    "plt.plot(speed[0:20], fuel[0:20],'.',label = '1')\n",
    "plt.plot(speed[20:40], fuel[20:40],'.',label = '2')\n",
    "plt.plot(speed[40:60], fuel[40:60],'.',label = '3')\n",
    "plt.plot(speed[60:80], fuel[60:80],'.',label = '4')\n",
    "plt.plot(speed[80:100], fuel[80:100],'.',label = '5')\n",
    "plt.grid()\n",
    "plt.legend()\n",
    "\n",
    "print (\"Big ships : 4, 5\")\n",
    "print (\"Small ships : 1, 2, 3\")"
   ]
  },
  {
   "cell_type": "markdown",
   "metadata": {},
   "source": [
    "5.2) The ship fuel consumption,$c$, for a given speed, $v$ can be modeled with\n",
    "\n",
    "$$c = a v^b$$\n",
    "\n",
    "where $a$ and $b$ are parameter you need to find for best fit.\n",
    "\n",
    "This relation, is however not linear. It nees some manipulation to make it linear. We can take $\\ln$ on both side and obtain\n",
    "\n",
    "$$\\ln c = b \\ln v + \\ln a$$\n",
    "\n",
    "which is a linear relation. Your job for this one is to find $a$ and $b$ for big ship and small ship. Plot to verify. (You should have two set of parameters one for big ship and one for small ship)."
   ]
  },
  {
   "cell_type": "code",
   "execution_count": 68,
   "metadata": {},
   "outputs": [
    {
     "data": {
      "text/plain": [
       "<matplotlib.legend.Legend at 0x112f002e8>"
      ]
     },
     "execution_count": 68,
     "metadata": {},
     "output_type": "execute_result"
    },
    {
     "data": {
      "image/png": "[encoded data removed]",
      "text/plain": [
       "<matplotlib.figure.Figure at 0x1128ed4e0>"
      ]
     },
     "metadata": {},
     "output_type": "display_data"
    }
   ],
   "source": [
    "def f(x,a,b):\n",
    "    return b*x+a\n",
    "\n",
    "small_x = np.log(speed[:60])\n",
    "small_y = np.log(fuel[:60])\n",
    "plt.plot(small_x, small_y,'.')\n",
    "\n",
    "big_x = np.log(speed[60:])\n",
    "big_y = np.log(fuel[60:])\n",
    "plt.plot(big_x, big_y,'.')\n",
    "\n",
    "var_as = [[np.sum(small_x**2)/len(small_x), np.sum(small_x)/len(small_x)], [np.sum(small_x)/len(small_x), 1]]\n",
    "var_bs = [np.sum(small_x*small_y)/len(small_x), np.sum(small_y)/len(small_x)]\n",
    "\n",
    "vas , vbs = np.linalg.solve(var_as,var_bs)\n",
    "line_ys = [f(xx, vbs, vas) for xx in small_x]\n",
    "plt.plot(small_x, line_ys,label ='small')\n",
    "\n",
    "var_ab = [[np.sum(big_x**2)/len(big_x), np.sum(big_x)/len(big_x)], [np.sum(big_x)/len(big_x), 1]]\n",
    "var_bb = [np.sum(big_x*big_y)/len(big_x), np.sum(big_y)/len(big_x)]\n",
    "\n",
    "vab , vbb = np.linalg.solve(var_ab,var_bb)\n",
    "line_yb = [f(xx, vbb, vab) for xx in big_x]\n",
    "plt.plot(big_x, line_yb, label = 'big')\n",
    "\n",
    "plt.grid()\n",
    "plt.legend()"
   ]
  },
  {
   "cell_type": "markdown",
   "metadata": {},
   "source": [
    "5.3) (Optional, for fun only.) Suppose that he small ship can carry 1000 tons of good while big ship can carry 2000 tons of good. The cost of ship fuel(bunker) is about 250 Dollar per metric tons. Company normally charge about 0.10 Dollar per ton of good per mile travel.\n",
    "\n",
    "The faster your ship goes the more trip you can make the more revenue you can get. Yet, at the same time the trip will cost you more cost on fuel.\n",
    "\n",
    "Your job is to figure out what speed you need to run the ship at for maximum profit and which ship is better for you."
   ]
  },
  {
   "cell_type": "code",
   "execution_count": null,
   "metadata": {
    "collapsed": true
   },
   "outputs": [],
   "source": []
  }
 ],
 "metadata": {
  "kernelspec": {
   "display_name": "Python 3",
   "language": "python",
   "name": "python3"
  },
  "language_info": {
   "codemirror_mode": {
    "name": "ipython",
    "version": 3
   },
   "file_extension": ".py",
   "mimetype": "text/x-python",
   "name": "python",
   "nbconvert_exporter": "python",
   "pygments_lexer": "ipython3",
   "version": "3.6.2"
  }
 },
 "nbformat": 4,
 "nbformat_minor": 1
}

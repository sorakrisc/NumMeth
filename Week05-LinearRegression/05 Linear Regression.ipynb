{
 "cells": [
  {
   "cell_type": "code",
   "execution_count": 1,
   "metadata": {},
   "outputs": [],
   "source": [
    "%matplotlib inline\n",
    "import math\n",
    "import numpy as np\n",
    "from matplotlib import pyplot as plt"
   ]
  },
  {
   "cell_type": "markdown",
   "metadata": {},
   "source": [
    "###Linear Regression"
   ]
  },
  {
   "cell_type": "code",
   "execution_count": 2,
   "metadata": {},
   "outputs": [
    {
     "name": "stdout",
     "output_type": "stream",
     "text": [
      "[[ 3.  2.]\n",
      " [ 1. -1.]] [ 10.  -4.]\n",
      "[ 10.  -4.]\n"
     ]
    },
    {
     "data": {
      "text/plain": [
       "array([ 0.4,  4.4])"
      ]
     },
     "execution_count": 2,
     "metadata": {},
     "output_type": "execute_result"
    }
   ],
   "source": [
    "#     for row in range(len(A)-2, -1, -1):\n",
    "#         print(row)\n",
    "#         c= newA[row][2]/newA[2,2]\n",
    "#         newA[row] = newA[row]-(c*newA[2])\n",
    "\n",
    "#     for row in range(1,len(A)):\n",
    "#         c = newA[row][0]/newA[0,0]\n",
    "#         newA[row] = newA[row]-(c*newA[0])\n",
    "#     for row in range(2,len(A)):\n",
    "#         c = newA[row][1]/newA[1,1]\n",
    "#         newA[row] = newA[row]-(c*newA[1])\n",
    "#         for col in range(len(A[i])):\n",
    "def solveSysEq(A, B):\n",
    "    def forward(A, B):\n",
    "        newA = A.copy()\n",
    "        newB = B.copy()\n",
    "        for pivot_row in range(len(A)):\n",
    "            for pivot_elim in range(pivot_row+1,len(A)):\n",
    "                c = newA[pivot_elim][pivot_row]/newA[pivot_row,pivot_row]\n",
    "                newA[pivot_elim] = newA[pivot_elim]-(c*newA[pivot_row])\n",
    "                newB[pivot_elim] = newB[pivot_elim]-(c*newB[pivot_row])\n",
    "        for pivot_row in range(len(A)-1, -1, -1):\n",
    "            for pivot_elim in range(pivot_row-1, -1, -1):\n",
    "                c = newA[pivot_elim][pivot_row]/newA[pivot_row,pivot_row]\n",
    "                newA[pivot_elim] = newA[pivot_elim]-(c*newA[pivot_row])\n",
    "                newB[pivot_elim] = newB[pivot_elim]-(c*newB[pivot_row])\n",
    "        return newA, newB\n",
    "    def backward(A, B):\n",
    "        newA = A.copy()\n",
    "        newB = B.copy()\n",
    "        for pivot_row in range(len(A)):\n",
    "            newB[pivot_row]=newB[pivot_row]/newA[pivot_row][pivot_row]\n",
    "\n",
    "        return newB\n",
    "    \n",
    "    Ap, Bp =forward(A,B)\n",
    "    return backward(Ap, Bp)\n",
    "\n",
    "\n",
    "# A = np.array(\n",
    "# [\n",
    "#     [3., 2, 1],\n",
    "#     [1,-1,-1],\n",
    "#     [1,10,-20],\n",
    "# ]\n",
    "# )\n",
    "# B = np.array([10.,-4,-39])\n",
    "A = np.array(\n",
    "[\n",
    "    [3., 2],\n",
    "    [1,-1]\n",
    "]\n",
    ")\n",
    "B = np.array([10.,-4])\n",
    "np.linalg.solve(A,B)\n",
    "print(A,B)\n",
    "print (B)\n",
    "solveSysEq(A,B)\n"
   ]
  },
  {
   "cell_type": "code",
   "execution_count": 83,
   "metadata": {},
   "outputs": [
    {
     "data": {
      "text/plain": [
       "array([ 1.,  2.,  3.])"
      ]
     },
     "execution_count": 83,
     "metadata": {},
     "output_type": "execute_result"
    }
   ],
   "source": [
    "#cheat\n",
    "np.linalg.solve(A,B)\n"
   ]
  },
  {
   "cell_type": "markdown",
   "metadata": {},
   "source": [
    "1) Load the linear data using `np.loadtxt`. The first column is `x` and the second column is `y`."
   ]
  },
  {
   "cell_type": "code",
   "execution_count": 85,
   "metadata": {},
   "outputs": [],
   "source": [
    "data_x,data_y = np.loadtxt('linear.txt')"
   ]
  },
  {
   "cell_type": "markdown",
   "metadata": {},
   "source": [
    "2) Plot `data_x` vs `data_y`"
   ]
  },
  {
   "cell_type": "code",
   "execution_count": 86,
   "metadata": {},
   "outputs": [
    {
     "data": {
      "text/plain": [
       "[<matplotlib.lines.Line2D at 0x10f43b6d8>]"
      ]
     },
     "execution_count": 86,
     "metadata": {},
     "output_type": "execute_result"
    },
    {
     "data": {
      "image/png": "[encoded data removed]",
      "text/plain": [
       "<matplotlib.figure.Figure at 0x10f454dd8>"
      ]
     },
     "metadata": {},
     "output_type": "display_data"
    }
   ],
   "source": [
    "plt.plot(data_x, data_y, '.')"
   ]
  },
  {
   "cell_type": "markdown",
   "metadata": {},
   "source": [
    "3) What what is the equation for a striaght line?"
   ]
  },
  {
   "cell_type": "code",
   "execution_count": null,
   "metadata": {},
   "outputs": [],
   "source": []
  },
  {
   "cell_type": "markdown",
   "metadata": {},
   "source": [
    "4) What is the difference between a \"good line\" and a \"bad line\"?"
   ]
  },
  {
   "cell_type": "code",
   "execution_count": null,
   "metadata": {},
   "outputs": [],
   "source": []
  },
  {
   "cell_type": "markdown",
   "metadata": {},
   "source": [
    "5) What are we trying to adjust to minimize the $\\chi^2$?"
   ]
  },
  {
   "cell_type": "code",
   "execution_count": null,
   "metadata": {},
   "outputs": [],
   "source": []
  },
  {
   "cell_type": "markdown",
   "metadata": {},
   "source": [
    "6) How do we findind the minimum of $\\chi^2$? Whare are they?"
   ]
  },
  {
   "cell_type": "code",
   "execution_count": 89,
   "metadata": {},
   "outputs": [
    {
     "data": {
      "text/plain": [
       "array([1, 4, 9])"
      ]
     },
     "execution_count": 89,
     "metadata": {},
     "output_type": "execute_result"
    }
   ],
   "source": [
    "np.array([1,2,3])**2"
   ]
  },
  {
   "cell_type": "markdown",
   "metadata": {},
   "source": [
    "7) Find the best slope and the best intercept."
   ]
  },
  {
   "cell_type": "code",
   "execution_count": 105,
   "metadata": {},
   "outputs": [
    {
     "data": {
      "text/plain": [
       "[<matplotlib.lines.Line2D at 0x10f988b38>]"
      ]
     },
     "execution_count": 105,
     "metadata": {},
     "output_type": "execute_result"
    },
    {
     "data": {
      "image/png": "[encoded data removed]",
      "text/plain": [
       "<matplotlib.figure.Figure at 0x10f988cc0>"
      ]
     },
     "metadata": {},
     "output_type": "display_data"
    }
   ],
   "source": [
    "newX = np.array(data_x)\n",
    "\n",
    "newY = np.array(data_y)\n",
    "sumX = sum(newX)\n",
    "n = len(data_x)\n",
    "    \n",
    "A = np.array(\n",
    "[\n",
    "    [sum(newX**2), sumX],\n",
    "    [sumX, n]\n",
    "])\n",
    "B = np.array([sum(newX*newY), sum(newY)])\n",
    "a,b =solveSysEq(A,B)\n",
    "\n",
    "def f(x, a, b):\n",
    "    return a*x + b\n",
    "plt.plot(data_x, data_y, '.')\n",
    "xs = np.linspace(0,2,1000)\n",
    "ys = [f(x,a,b) for x in xs]\n",
    "plt.plot(xs,ys,color=\"red\")"
   ]
  },
  {
   "cell_type": "markdown",
   "metadata": {},
   "source": [
    "8) Plot the line along with the data point to verify that you actually got the right answer."
   ]
  },
  {
   "cell_type": "code",
   "execution_count": null,
   "metadata": {
    "collapsed": true
   },
   "outputs": [],
   "source": []
  },
  {
   "cell_type": "markdown",
   "metadata": {},
   "source": [
    "9) What is your prediction for the value of `y` when `x`=3.0?"
   ]
  },
  {
   "cell_type": "code",
   "execution_count": null,
   "metadata": {
    "collapsed": true
   },
   "outputs": [],
   "source": []
  },
  {
   "cell_type": "markdown",
   "metadata": {},
   "source": [
    "###Generalization"
   ]
  },
  {
   "cell_type": "markdown",
   "metadata": {},
   "source": [
    "The technique we learn above of finding the parameter that minimize the $\\chi^2$ does not limit you to just a straight line model. Let us use it for a more general problem."
   ]
  },
  {
   "cell_type": "markdown",
   "metadata": {},
   "source": [
    "1) Open parabola.txt and plot it. Again the first column is `x` and second column is `y`."
   ]
  },
  {
   "cell_type": "code",
   "execution_count": 106,
   "metadata": {},
   "outputs": [],
   "source": [
    "para_x,para_y = np.loadtxt('parabola.txt')"
   ]
  },
  {
   "cell_type": "markdown",
   "metadata": {},
   "source": [
    "2) What is the general form for parabola?"
   ]
  },
  {
   "cell_type": "code",
   "execution_count": null,
   "metadata": {
    "collapsed": true
   },
   "outputs": [],
   "source": []
  },
  {
   "cell_type": "markdown",
   "metadata": {},
   "source": [
    "3) What is the difference between a \"good line\" and a \"bad line\"?"
   ]
  },
  {
   "cell_type": "code",
   "execution_count": null,
   "metadata": {
    "collapsed": true
   },
   "outputs": [],
   "source": []
  },
  {
   "cell_type": "markdown",
   "metadata": {},
   "source": [
    "4) What are we trying to minimize in order to find the best parabola?"
   ]
  },
  {
   "cell_type": "code",
   "execution_count": null,
   "metadata": {
    "collapsed": true
   },
   "outputs": [],
   "source": []
  },
  {
   "cell_type": "markdown",
   "metadata": {},
   "source": [
    "5) Find the best fitted parabola and plot to verify."
   ]
  },
  {
   "cell_type": "code",
   "execution_count": 116,
   "metadata": {},
   "outputs": [
    {
     "name": "stdout",
     "output_type": "stream",
     "text": [
      "[[  1.25500834e+05   1.86162197e-12   8.35001668e+03]\n",
      " [  1.86162197e-12   8.35001668e+03  -2.16715534e-13]\n",
      " [  8.35001668e+03  -2.16715534e-13   1.00000000e+03]]\n",
      "[-55214.48507708   2553.92552865  -3239.53646967]\n"
     ]
    },
    {
     "data": {
      "text/plain": [
       "[<matplotlib.lines.Line2D at 0x11015be48>]"
      ]
     },
     "execution_count": 116,
     "metadata": {},
     "output_type": "execute_result"
    },
    {
     "data": {
      "image/png": "[encoded data removed]",
      "text/plain": [
       "<matplotlib.figure.Figure at 0x1104ec0b8>"
      ]
     },
     "metadata": {},
     "output_type": "display_data"
    }
   ],
   "source": [
    "newpX = np.array(para_x)\n",
    "\n",
    "newpY = np.array(para_y)\n",
    "sumpX = sum(newpX)\n",
    "sump2X = sum(newpX**2)\n",
    "sump3X = sum(newpX**3)\n",
    "n = len(para_x)\n",
    "    \n",
    "A = np.array(\n",
    "[\n",
    "    [sum(newpX**4), sump3X, sump2X],\n",
    "    [sump3X, sump2X, sumpX],\n",
    "    [sump2X, sumpX, n]\n",
    "])\n",
    "B = np.array([sum((newpX**2)*newpY), sum(newpX*newpY), sum(newpY)])\n",
    "print(A)\n",
    "print(B)\n",
    "a,b,c =solveSysEq(A,B)\n",
    "def f(x, a, b,c):\n",
    "    return a*(x**2) + b*x +c\n",
    "plt.plot(para_x, para_y, '.')\n",
    "xs = np.linspace(-5,5,1000)\n",
    "ys = [f(x,a,b,c) for x in xs]\n",
    "plt.plot(xs,ys,color=\"red\")"
   ]
  },
  {
   "cell_type": "markdown",
   "metadata": {
    "collapsed": true
   },
   "source": [
    "###Extra"
   ]
  },
  {
   "cell_type": "markdown",
   "metadata": {
    "collapsed": true
   },
   "source": [
    "Find something interesting from http://www.stat.ufl.edu/~winner/datasets.html and make some prediction."
   ]
  },
  {
   "cell_type": "code",
   "execution_count": null,
   "metadata": {
    "collapsed": true
   },
   "outputs": [],
   "source": []
  }
 ],
 "metadata": {
  "kernelspec": {
   "display_name": "Python 3",
   "language": "python",
   "name": "python3"
  },
  "language_info": {
   "codemirror_mode": {
    "name": "ipython",
    "version": 3
   },
   "file_extension": ".py",
   "mimetype": "text/x-python",
   "name": "python",
   "nbconvert_exporter": "python",
   "pygments_lexer": "ipython3",
   "version": "3.6.2"
  }
 },
 "nbformat": 4,
 "nbformat_minor": 1
}

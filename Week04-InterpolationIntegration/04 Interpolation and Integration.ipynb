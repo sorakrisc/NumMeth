{
 "cells": [
  {
   "cell_type": "markdown",
   "metadata": {},
   "source": [
    "##Exercise Interpolation"
   ]
  },
  {
   "cell_type": "code",
   "execution_count": 1,
   "metadata": {},
   "outputs": [],
   "source": [
    "%matplotlib inline\n",
    "import math\n",
    "import numpy as np\n",
    "from matplotlib import pyplot as plt"
   ]
  },
  {
   "cell_type": "markdown",
   "metadata": {},
   "source": [
    "1) Plot these four points (2,3), (3,1), (4,2), (5,2)."
   ]
  },
  {
   "cell_type": "code",
   "execution_count": 14,
   "metadata": {},
   "outputs": [
    {
     "data": {
      "text/plain": [
       "[<matplotlib.lines.Line2D at 0x1062a1ba8>]"
      ]
     },
     "execution_count": 14,
     "metadata": {},
     "output_type": "execute_result"
    },
    {
     "data": {
      "image/png": "[encoded data removed]",
      "text/plain": [
       "<matplotlib.figure.Figure at 0x1063316d8>"
      ]
     },
     "metadata": {},
     "output_type": "display_data"
    }
   ],
   "source": [
    "plt.plot(2,3, 'o')\n",
    "plt.plot(3,1, 'o')\n",
    "plt.plot(4,2, 'o')\n",
    "plt.plot(5,2, 'o')"
   ]
  },
  {
   "cell_type": "markdown",
   "metadata": {},
   "source": [
    "2) Find the polynomial of degree 3 that pass through these four points. Plot to verify."
   ]
  },
  {
   "cell_type": "code",
   "execution_count": 36,
   "metadata": {},
   "outputs": [
    {
     "data": {
      "image/png": "[encoded data removed]",
      "text/plain": [
       "<matplotlib.figure.Figure at 0x10700b128>"
      ]
     },
     "metadata": {},
     "output_type": "display_data"
    }
   ],
   "source": [
    "x1=2.0\n",
    "y1=3.0\n",
    "x2=3.0\n",
    "y2=1.0\n",
    "x3=4.0\n",
    "y3=2.0\n",
    "x4=5.0\n",
    "y4=2.0\n",
    "def f(x):\n",
    "    return (y1*( (((x-x2)*(x-x3)*(x-x4)))/((x1-x2)*(x1-x3)*(x1-x4))) + \n",
    "            y2*( (((x-x1)*(x-x3)*(x-x4)))/((x2-x1)*(x2-x3)*(x2-x4))) + \n",
    "            y3*( (((x-x2)*(x-x1)*(x-x4)))/((x3-x2)*(x3-x1)*(x3-x4))) + \n",
    "            y4*( (((x-x2)*(x-x3)*(x-x1)))/((x4-x2)*(x4-x3)*(x4-x1))))\n",
    "    \n",
    "xs = np.linspace(0,6,1000)\n",
    "ys = [f(x) for x in xs]\n",
    "\n",
    "plt.plot(xs,ys)\n",
    "plt.plot(2,3, 'o')\n",
    "plt.plot(3,1, 'o')\n",
    "plt.plot(4,2, 'o')\n",
    "plt.plot(5,2, 'o')\n",
    "plt.ylim(-1,5)\n",
    "plt.axhline(0,color=\"red\")\n",
    "plt.axvline(0,color=\"red\")\n",
    "plt.grid()"
   ]
  },
  {
   "cell_type": "markdown",
   "metadata": {},
   "source": [
    "3) Find polynomial of degree 3 that pass through these four points. Plot to verify.\n",
    "\n",
    "(1,2) (2,0) (3,2) (7,1)"
   ]
  },
  {
   "cell_type": "code",
   "execution_count": 38,
   "metadata": {},
   "outputs": [
    {
     "data": {
      "image/png": "[encoded data removed]",
      "text/plain": [
       "<matplotlib.figure.Figure at 0x1077474e0>"
      ]
     },
     "metadata": {},
     "output_type": "display_data"
    }
   ],
   "source": [
    "x1=1.0\n",
    "y1=2.0\n",
    "x2=2.0\n",
    "y2=0.0\n",
    "x3=3.0\n",
    "y3=2.0\n",
    "x4=7.0\n",
    "y4=1.0\n",
    "def f(x):\n",
    "    return (y1*( (((x-x2)*(x-x3)*(x-x4)))/((x1-x2)*(x1-x3)*(x1-x4))) + \n",
    "            y2*( (((x-x1)*(x-x3)*(x-x4)))/((x2-x1)*(x2-x3)*(x2-x4))) + \n",
    "            y3*( (((x-x2)*(x-x1)*(x-x4)))/((x3-x2)*(x3-x1)*(x3-x4))) + \n",
    "            y4*( (((x-x2)*(x-x3)*(x-x1)))/((x4-x2)*(x4-x3)*(x4-x1))))\n",
    "    \n",
    "xs = np.linspace(0,8,1000)\n",
    "ys = [f(x) for x in xs]\n",
    "\n",
    "plt.plot(xs,ys)\n",
    "plt.plot(1,2, 'o')\n",
    "plt.plot(2,0, 'o')\n",
    "plt.plot(3,2, 'o')\n",
    "plt.plot(7,1, 'o')\n",
    "plt.ylim(-1,5)\n",
    "plt.axhline(0,color=\"red\")\n",
    "plt.axvline(0,color=\"red\")\n",
    "plt.grid()"
   ]
  },
  {
   "cell_type": "markdown",
   "metadata": {},
   "source": [
    "4) Write a function `ledendre(x, xs, ys)` which compute the legendre polynomial given the list of x values in xs and y values in ys.\n",
    "\n",
    "`legendre(1.5, [1,2,3,7], [2,0,2,1])`\n",
    "\n",
    "should have the same value as the polymial you found in 3) evaluated at x=1.5.\n",
    "\n",
    "For those of you who know functional programming try write a functor that return a polynomial."
   ]
  },
  {
   "cell_type": "code",
   "execution_count": 12,
   "metadata": {},
   "outputs": [
    {
     "name": "stdout",
     "output_type": "stream",
     "text": [
      "[1, 2, 3, 7]\n"
     ]
    },
    {
     "data": {
      "image/png": "[encoded data removed]",
      "text/plain": [
       "<matplotlib.figure.Figure at 0x1061288d0>"
      ]
     },
     "metadata": {},
     "output_type": "display_data"
    }
   ],
   "source": [
    "def legendre_generator(xs, ys):\n",
    "    nterm = len(xs)\n",
    "    print(xs)\n",
    "    def legendre(x):\n",
    "        ans = 0\n",
    "#         print(xs)\n",
    "        for i in range(nterm):\n",
    "            y = ys[i]\n",
    "            temp=1\n",
    "            for j in range(nterm):\n",
    "                if (j!=i):\n",
    "                    temp *= (x-xs[j])/(xs[i]-xs[j])\n",
    "            ans+=(y*temp)\n",
    "        return ans\n",
    "    return legendre\n",
    "\n",
    "# def legendre_generator(xs, ys):\n",
    "#     def legendre(x):\n",
    "#         print(xs)\n",
    "#         return x\n",
    "#     return legendre\n",
    "\n",
    "\n",
    "\n",
    "\n",
    "xs = [1,2,3,7]\n",
    "ys = [2,0,2,1]\n",
    "\n",
    "leg = legendre_generator(xs, ys)\n",
    "# leg(10)\n",
    "plt.plot(xs,ys,'*',ms=\"15\",color=\"salmon\")\n",
    "linex = np.linspace(0.9,7.1,100)\n",
    "liney = [leg(x) for x in linex]\n",
    "plt.plot(linex, liney)\n",
    "plt.grid()"
   ]
  },
  {
   "cell_type": "markdown",
   "metadata": {},
   "source": [
    "5) Now sample 11 points  from $f(x) = \\sin(x)$ for for $x\\in[0, \\pi]$. Plot $\\sin(x)$ along with those 11 points. Make sure your $\\sin(x)$ is plotted with more than 100 points"
   ]
  },
  {
   "cell_type": "code",
   "execution_count": 55,
   "metadata": {},
   "outputs": [
    {
     "name": "stdout",
     "output_type": "stream",
     "text": [
      "[2, 3, 1]\n"
     ]
    }
   ],
   "source": [
    "x = [1,2,3]\n",
    "print(x[1::]+[x[0]])"
   ]
  },
  {
   "cell_type": "markdown",
   "metadata": {},
   "source": [
    "6) Plot legendre polynomial for these points. How similar is it to $\\sin(x)$ function. Make sure your legendre is plotte with at least 100 points."
   ]
  },
  {
   "cell_type": "code",
   "execution_count": null,
   "metadata": {
    "collapsed": true
   },
   "outputs": [],
   "source": []
  },
  {
   "cell_type": "markdown",
   "metadata": {},
   "source": [
    "7) Now sample 11 points  from $f(x) = \\sin(200x)$ for for $x\\in[0, \\pi]$. Plot $\\sin(x)$ along with those 11 points. Note the 200. Then plot legendre polynomial for these points."
   ]
  },
  {
   "cell_type": "code",
   "execution_count": null,
   "metadata": {},
   "outputs": [],
   "source": []
  },
  {
   "cell_type": "markdown",
   "metadata": {},
   "source": [
    "8) Does it pass through all the point? Does it look like the original function."
   ]
  },
  {
   "cell_type": "code",
   "execution_count": null,
   "metadata": {
    "collapsed": true
   },
   "outputs": [],
   "source": []
  },
  {
   "cell_type": "markdown",
   "metadata": {},
   "source": [
    "##Exercise Integration"
   ]
  },
  {
   "cell_type": "markdown",
   "metadata": {},
   "source": [
    "0) What is $$ \\int \\limits_{x=1}^{x=3} x^3 \\; dx $$"
   ]
  },
  {
   "cell_type": "code",
   "execution_count": null,
   "metadata": {
    "collapsed": true
   },
   "outputs": [],
   "source": []
  },
  {
   "cell_type": "markdown",
   "metadata": {},
   "source": [
    "1)Use Trapezoid Rule to calculate\n",
    "\n",
    "$$ \\int \\limits_{x=1}^{x=3} x^3 \\; dx $$\n",
    "\n",
    "Using 1 piece."
   ]
  },
  {
   "cell_type": "code",
   "execution_count": null,
   "metadata": {
    "collapsed": true
   },
   "outputs": [],
   "source": []
  },
  {
   "cell_type": "markdown",
   "metadata": {},
   "source": [
    "2)Use Trapezoid Rule to calculate\n",
    "\n",
    "$$ \\int \\limits_{x=1}^{x=3} x^3 \\; dx $$\n",
    "\n",
    "Using 100 pieces."
   ]
  },
  {
   "cell_type": "code",
   "execution_count": null,
   "metadata": {
    "collapsed": true
   },
   "outputs": [],
   "source": []
  },
  {
   "cell_type": "markdown",
   "metadata": {},
   "source": [
    "3) What is the bound on error for 1)?"
   ]
  },
  {
   "cell_type": "code",
   "execution_count": null,
   "metadata": {
    "collapsed": true
   },
   "outputs": [],
   "source": []
  },
  {
   "cell_type": "markdown",
   "metadata": {},
   "source": [
    "4) What is the bound on error for 2)?"
   ]
  },
  {
   "cell_type": "code",
   "execution_count": null,
   "metadata": {
    "collapsed": true
   },
   "outputs": [],
   "source": []
  },
  {
   "cell_type": "markdown",
   "metadata": {},
   "source": [
    "5) Compute the following integral\n",
    "$$ \\int \\limits_{x=0}^{x=1} e^{-x} \\sin(x^2) \\; dx $$\n",
    "\n",
    "using 100 sub divisions. This is one of those thing you can't do by hands. "
   ]
  },
  {
   "cell_type": "code",
   "execution_count": null,
   "metadata": {
    "collapsed": true
   },
   "outputs": [],
   "source": []
  },
  {
   "cell_type": "markdown",
   "metadata": {},
   "source": [
    "6) If we want compute\n",
    "$$ \\int \\limits_{x=0}^{x=1} e^{-x} \\; dx $$\n",
    "that is at most $10^{-6}$ away from the real answer. How many subdivisions do we need?"
   ]
  },
  {
   "cell_type": "code",
   "execution_count": null,
   "metadata": {
    "collapsed": true
   },
   "outputs": [],
   "source": []
  },
  {
   "cell_type": "markdown",
   "metadata": {},
   "source": [
    "7) Compute the integral above and make sure your answer is at most $10^-6$ away from the real answer. "
   ]
  },
  {
   "cell_type": "code",
   "execution_count": null,
   "metadata": {
    "collapsed": true
   },
   "outputs": [],
   "source": []
  }
 ],
 "metadata": {
  "kernelspec": {
   "display_name": "Python 3",
   "language": "python",
   "name": "python3"
  },
  "language_info": {
   "codemirror_mode": {
    "name": "ipython",
    "version": 3
   },
   "file_extension": ".py",
   "mimetype": "text/x-python",
   "name": "python",
   "nbconvert_exporter": "python",
   "pygments_lexer": "ipython3",
   "version": "3.6.2"
  }
 },
 "nbformat": 4,
 "nbformat_minor": 1
}

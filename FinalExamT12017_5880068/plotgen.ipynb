{
 "cells": [
  {
   "cell_type": "code",
   "execution_count": 2,
   "metadata": {},
   "outputs": [
    {
     "data": {
      "image/png": "[encoded data removed]",
      "text/plain": [
       "<matplotlib.figure.Figure at 0x1043b5690>"
      ]
     },
     "metadata": {},
     "output_type": "display_data"
    }
   ],
   "source": [
    "%matplotlib inline\n",
    "import shapely.geometry as sg\n",
    "import matplotlib.pyplot as plt\n",
    "import descartes\n",
    "\n",
    "# create the circles with shapely\n",
    "a = sg.Point(-1.5,0).buffer(2.)\n",
    "b = sg.Point(1.,0).buffer(2.)\n",
    "\n",
    "# compute the 3 parts\n",
    "left = a.difference(b)\n",
    "right = b.difference(a)\n",
    "middle = a.intersection(b)\n",
    "\n",
    "# use descartes to create the matplotlib patches\n",
    "ax = plt.gca()\n",
    "ax.add_patch(descartes.PolygonPatch(left, fc='r', ec='k', alpha=0.8))\n",
    "ax.add_patch(descartes.PolygonPatch(right, fc='r', ec='k', alpha=0.8))\n",
    "ax.add_patch(descartes.PolygonPatch(middle, fc='r', ec='k', alpha=0.8))\n",
    "\n",
    "# control display\n",
    "ax.set_xlim(-5, 5);\n",
    "ax.set_ylim(-5, 5)\n",
    "ax.set_aspect('equal')\n",
    "plt.grid(True)\n",
    "plt.savefig('area.png', bbox_inches='tight')"
   ]
  },
  {
   "cell_type": "code",
   "execution_count": null,
   "metadata": {},
   "outputs": [],
   "source": []
  }
 ],
 "metadata": {
  "kernelspec": {
   "display_name": "Python 2",
   "language": "python",
   "name": "python2"
  },
  "language_info": {
   "codemirror_mode": {
    "name": "ipython",
    "version": 2
   },
   "file_extension": ".py",
   "mimetype": "text/x-python",
   "name": "python",
   "nbconvert_exporter": "python",
   "pygments_lexer": "ipython2",
   "version": "2.7.9"
  },
  "toc": {
   "colors": {
    "hover_highlight": "#DAA520",
    "running_highlight": "#FF0000",
    "selected_highlight": "#FFD700"
   },
   "moveMenuLeft": true,
   "nav_menu": {
    "height": "12px",
    "width": "252px"
   },
   "navigate_menu": true,
   "number_sections": false,
   "sideBar": true,
   "threshold": 4,
   "toc_cell": false,
   "toc_section_display": "block",
   "toc_window_display": false
  }
 },
 "nbformat": 4,
 "nbformat_minor": 2
}

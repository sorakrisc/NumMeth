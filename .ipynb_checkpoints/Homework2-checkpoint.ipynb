{
 "cells": [
  {
   "cell_type": "code",
   "execution_count": 103,
   "metadata": {},
   "outputs": [],
   "source": [
    "%matplotlib inline\n",
    "import math\n",
    "import numpy as np\n",
    "from matplotlib import pyplot as plt"
   ]
  },
  {
   "cell_type": "markdown",
   "metadata": {},
   "source": [
    "# Homework"
   ]
  },
  {
   "cell_type": "markdown",
   "metadata": {},
   "source": [
    "0) Finish the implementation of false positon method. Use it to find the solution for $\\sin(x) + 1 = x$ do it 20 times."
   ]
  },
  {
   "cell_type": "code",
   "execution_count": 27,
   "metadata": {},
   "outputs": [
    {
     "name": "stdout",
     "output_type": "stream",
     "text": [
      "1.934563210751869\n"
     ]
    },
    {
     "data": {
      "image/png": "[encoded data removed]",
      "text/plain": [
       "<matplotlib.figure.Figure at 0x106533400>"
      ]
     },
     "metadata": {},
     "output_type": "display_data"
    }
   ],
   "source": [
    "def g(x):\n",
    "    return math.sin(x)+1-x\n",
    "def p(m,x1,y1,x):\n",
    "    return m*(x-x1) +y1\n",
    "def false_position(g, l, r, n):\n",
    "    left = l\n",
    "    right = r\n",
    "    for i in range(n):\n",
    "        m = (g(r)-g(l))*1.0/(r-l)\n",
    "                                            ###GRAPH###\n",
    "                                            #     xa=np.linspace(1,3,200)\n",
    "                                            #     y=[p(m,l,g(l),x) for x in xa]\n",
    "                                            #     print (p(m,l,g(l),3))\n",
    "                                            #     plt.plot(xa,y)\n",
    "        newbound = (g(l)*-1.0/m)+l\n",
    "                                            # plt.axvline(newbound, color='pink')\n",
    "        if (g(newbound)*g(l)<0):\n",
    "            r=newbound\n",
    "        else:\n",
    "            l=newbound\n",
    "    return newbound\n",
    "\n",
    "xs = np.linspace(1,3,200)\n",
    "gx = [g(x) for x in xs]\n",
    "plt.plot(xs,gx)\n",
    "plt.axhline(0, color ='red')\n",
    "plt.axvline(0, color ='red')\n",
    "plt.axvline(3, color ='blue')\n",
    "plt.axvline(1, color ='blue')\n",
    "plt.plot()\n",
    "plt.grid()\n",
    "print((false_position(g,1,3,20)))\n"
   ]
  },
  {
   "cell_type": "markdown",
   "metadata": {},
   "source": [
    "1) Give me the solution to $x = e^{-x}$ that is $10^{-6}$ using bisection method.\n",
    "\n",
    "Pick the initial bound from the following and explain why you can't pick the other one.\n",
    "Bound A: (-1,0), Bound B (0,1)"
   ]
  },
  {
   "cell_type": "markdown",
   "metadata": {},
   "source": [
    "Bound B(0,1) because at x=0 and x=1 have different sign of y value"
   ]
  },
  {
   "cell_type": "code",
   "execution_count": 36,
   "metadata": {},
   "outputs": [
    {
     "name": "stdout",
     "output_type": "stream",
     "text": [
      "0.5671443939208984\n"
     ]
    },
    {
     "data": {
      "image/png": "[encoded data removed]",
      "text/plain": [
       "<matplotlib.figure.Figure at 0x1064d0a20>"
      ]
     },
     "metadata": {},
     "output_type": "display_data"
    }
   ],
   "source": [
    "def f(x):\n",
    "    return x - math.exp(-x)\n",
    "\n",
    "def bisection(f, l, r,n):\n",
    "    left = l\n",
    "    right = r\n",
    "    mid = (l+r)/2.0\n",
    "    assert(f(left)*f(right) < 0)\n",
    "    for i in range(n):\n",
    "        mid = (left+right)/2.0\n",
    "        if (f(mid)* f(left) < 0):\n",
    "            right = mid\n",
    "        else:\n",
    "            left = mid\n",
    "    return mid\n",
    "\n",
    "print(bisection(f,0,1,19))\n",
    "\n",
    "###PLOT GRAPH ###\n",
    "xs = np.linspace(-1,2,200)\n",
    "fx = [f(x) for x in xs]\n",
    "plt.plot(xs,fx)\n",
    "plt.axhline(0, color ='red')\n",
    "plt.axvline(0, color ='red')\n",
    "plt.axvline(0, color ='blue')\n",
    "plt.axvline(1, color ='blue')\n",
    "plt.plot()\n",
    "plt.grid()\n"
   ]
  },
  {
   "cell_type": "markdown",
   "metadata": {},
   "source": [
    "2) Find all value of $x \\in [0,1]$ such that $f(x)=0$ for\n",
    "\n",
    "$f(x) = -0.000216747 + 0.0072868 x - 0.0977383 x^2 + 0.664685 x^3 - \n",
    " 2.40773 x^4 + 4.46766 x^5 - 3.7091 x^6 + x^7$\n",
    " \n",
    "Make sure your answers are at most $10^{-6}$ away from the real solution."
   ]
  },
  {
   "cell_type": "code",
   "execution_count": 85,
   "metadata": {
    "scrolled": false
   },
   "outputs": [
    {
     "name": "stdout",
     "output_type": "stream",
     "text": [
      "0.12216652870178221\n",
      "0.33329880714416493\n",
      "0.7854090595245362\n",
      "0.22002827644348144\n"
     ]
    },
    {
     "data": {
      "text/plain": [
       "111.273"
      ]
     },
     "execution_count": 85,
     "metadata": {},
     "output_type": "execute_result"
    }
   ],
   "source": [
    "def f(x):\n",
    "    return -0.000216747 + 0.0072868*x - 0.0977383*x**2 + 0.664685*x**3 - \\\n",
    "            2.40773*x**4 + 4.46766*x**5 - 3.7091*x**6 + x**7\n",
    "print(bisection(f,0.11, 0.14 ,20))\n",
    "print(bisection(f,0.33, 0.34, 20))\n",
    "print(bisection(f,0.79, 0.78, 20))\n",
    "print(bisection(f,0.215, 0.225, 20))\n",
    "\n",
    "#manually find the bound by zooming in a graph..\n",
    "\n",
    "22.2546*5"
   ]
  },
  {
   "cell_type": "markdown",
   "metadata": {},
   "source": [
    "2.1) Find all the local minima and maxima of the above function. How do you figure out whether it is a local maximum or local minimum"
   ]
  },
  {
   "cell_type": "code",
   "execution_count": 95,
   "metadata": {
    "scrolled": true
   },
   "outputs": [
    {
     "name": "stdout",
     "output_type": "stream",
     "text": [
      "local maxima at:\n",
      "(0.12121749877929688, -2.401165365375668e-10)\n",
      "(0.19121475219726564, 1.369045684854066e-06)\n",
      "(0.6817796325683595, 0.003825808321799351)\n",
      "local minima at:\n",
      "(0.1258119201660156, 3.8094957246865556e-10)\n",
      "(0.2971229553222656, -1.214713030171655e-05)\n"
     ]
    },
    {
     "data": {
      "image/png": "[encoded data removed]",
      "text/plain": [
       "<matplotlib.figure.Figure at 0x1064bda90>"
      ]
     },
     "metadata": {},
     "output_type": "display_data"
    }
   ],
   "source": [
    "def fprime(x):\n",
    "    return 0.0072864 - 0.1954766*x + 1.994055*x**2 - 9.63092*x**3 + 22.338300000000004*x**4 - 22.2546*x**5 + 7*x**6\n",
    "\n",
    "def fprimeprime(x):\n",
    "    return - 0.1954766 + 3.98811*x -28.89276*x**2 + 89.3532*x**3 - 111.273*x**4 + 42*x**5\n",
    "\n",
    "def printMaxMinMa(fpp, lstx):\n",
    "    maxl=[]\n",
    "    minl=[]\n",
    "    for x in lstx:\n",
    "        if (fpp(x)<0):\n",
    "            maxl.append((x,f(x)))\n",
    "        else:\n",
    "            minl.append((x,f(x)))\n",
    "    print(\"local maxima at:\")\n",
    "    for mx in maxl:\n",
    "        print (str(mx))\n",
    "    print(\"local minima at:\")\n",
    "    for mn in minl:\n",
    "        print (str(mn))\n",
    "xs = np.linspace(0,0.8,1000)\n",
    "fx = [f(x) for x in xs]\n",
    "plt.plot(xs,fx)\n",
    "plt.axhline(0, color ='red')\n",
    "plt.axvline(0, color ='red')\n",
    "# plt.ylim(-0.0000025,0.000005)\n",
    "# plt.xlim(0.6817,0.6818)\n",
    "# plt.xlim(0.18,0.2)\n",
    "# plt.ylim(-0.0000025,0.000005)\n",
    "# plt.xlim(0.11,0.13)\n",
    "\n",
    "# plt.ylim(-0.0000025,0.000005)\n",
    "# plt.xlim(0.119,0.1226)\n",
    "# plt.axvline(0.1200, color = 'pink')\n",
    "# plt.axvline(0.1225, color = 'pink')\n",
    "# plt.axvline(0.1250, color = 'pink')\n",
    "# plt.axvline(0.1275, color = 'pink')\n",
    "# plt.axvline(0.1900, color = 'pink')\n",
    "# plt.axvline(0.1950, color = 'pink')\n",
    "# plt.axvline(0.2950, color = 'pink')\n",
    "# plt.axvline(0.2975, color = 'pink')\n",
    "# plt.axvline(0.6800, color = 'pink')\n",
    "# plt.axvline(0.6825, color = 'pink')\n",
    "\n",
    "plt.axvline(bisection(fprime,0.1200,0.1225,14), color = 'green')\n",
    "plt.axvline(bisection(fprime,0.1250,0.1275,14), color = 'green')\n",
    "plt.axvline(bisection(fprime,0.1900,0.1925,14), color = 'green')\n",
    "plt.axvline(bisection(fprime,0.2950,0.2975,14), color = 'green')\n",
    "plt.axvline(bisection(fprime,0.6800,0.6825,14), color = 'green')\n",
    "plt.grid()\n",
    "\n",
    "# print(bisection(fprime,0.1200,0.1225,14))\n",
    "# print(bisection(fprime,0.1250,0.1275,14))\n",
    "# print(bisection(fprime,0.1900,0.1925,14))\n",
    "# print(bisection(fprime,0.2950,0.2975,14))\n",
    "# print(bisection(fprime,0.6800,0.6825,14))\n",
    "lst=[bisection(fprime,0.1200,0.1225,14), bisection(fprime,0.1250,0.1275,14), \n",
    "     bisection(fprime,0.1900,0.1925,14), bisection(fprime,0.2950,0.2975,14), bisection(fprime,0.6800,0.6825,14)]\n",
    "printMaxMinMa(fprimeprime, lst)"
   ]
  },
  {
   "cell_type": "markdown",
   "metadata": {},
   "source": [
    "2.2) What is the `global maximum` and `global minimum` of the function above within the range $x\\in[0,1]$"
   ]
  },
  {
   "cell_type": "code",
   "execution_count": 97,
   "metadata": {},
   "outputs": [
    {
     "name": "stdout",
     "output_type": "stream",
     "text": [
      "global maximum at (0.6817796325683595, 0.003825808321799351)\n",
      "global minimum at (1,-0.07515324699999937)\n"
     ]
    }
   ],
   "source": [
    "print(\"global maximum at (0.6817796325683595, 0.003825808321799351)\")\n",
    "print(\"global minimum at (1,\"+str(f(1))+\")\")"
   ]
  },
  {
   "cell_type": "markdown",
   "metadata": {},
   "source": [
    "3) In quantum physics, when finding a bound state for a finite potential well one would end up with the following equation(Yes E is negative):\n",
    "\n",
    "$$\n",
    "\\sqrt{\\frac{-E}{E+V_0}} = \\tan \\sqrt{2m \\frac{E+V_0}{\\hbar^2} a}\n",
    "$$\n",
    "\n",
    "The goal is to find all Energy($E$) that satisfy this equation.\n",
    "For simplicity, let\n",
    "- $V_0 = 1$\n",
    "- $m = 1$\n",
    "- $a = 1$\n",
    "- $\\hbar = 1$(Yes this is called natural unit)\n",
    "\n",
    "$$\n",
    "    \\sqrt{\\frac{-E}{E+1}} = \\tan \\sqrt{2(E+1)}\n",
    "$$\n",
    "\n",
    "Find the value for $E\\in (-1.0, 0)$ which satisfy the equation above). Make sure you accuracy is $<\\pm10^{-4}$\n"
   ]
  },
  {
   "cell_type": "code",
   "execution_count": 130,
   "metadata": {
    "scrolled": true
   },
   "outputs": [
    {
     "name": "stdout",
     "output_type": "stream",
     "text": [
      "-0.6037109374999998\n"
     ]
    },
    {
     "data": {
      "image/png": "[encoded data removed]",
      "text/plain": [
       "<matplotlib.figure.Figure at 0x1069b0358>"
      ]
     },
     "metadata": {},
     "output_type": "display_data"
    }
   ],
   "source": [
    "def f(x):\n",
    "    return math.sqrt(-x/(x+1))\n",
    "def g(x):\n",
    "    return math.tan(math.sqrt(2*(x + 1)))\n",
    "def h(x):\n",
    "    return f(x)-g(x)\n",
    "\n",
    "xs = np.linspace(-0.999,-0.1, 100)\n",
    "fx = [f(x) for x in xs]\n",
    "gx = [g(x) for x in xs]\n",
    "hx = [h(x) for x in xs]\n",
    "plt.plot(xs,fx)\n",
    "plt.plot(xs,gx)\n",
    "plt.plot(xs,hx)\n",
    "plt.ylim(-2.5,2.5)\n",
    "\n",
    "plt.axvline(-0.7, color=\"pink\")\n",
    "plt.axvline(-0.5, color=\"pink\")\n",
    "plt.axvline(0,color =\"red\")\n",
    "plt.axvline(bisection(h,-0.7,-0.5,10),color =\"magenta\")\n",
    "plt.axhline(0,color =\"red\")\n",
    "plt.grid()\n",
    "\n",
    "\n",
    "print(bisection(h,-0.7,-0.5,10))\n"
   ]
  },
  {
   "cell_type": "markdown",
   "metadata": {},
   "source": [
    "4) Ply quit programming and decide to be a Apple(fruit) shop owner. He bought 1000 apples everyday and try to sell it. The probability $k$ customer want Ply's apple(one each) is given by Poisson distribution:\n",
    "\n",
    "$$\n",
    "    P(k; \\lambda) = \\frac{\\lambda^k \\exp(-\\lambda)}{k!}\n",
    "$$\n",
    "\n",
    "Where $\\lambda$ is an parameter that represent the mean of number of people that want Ply's apple each day.\n",
    "\n",
    "After selling apples for 2000 days Ply found that his 1000 apples a day are sold out 600 days out of 2000 days.\n",
    "\n",
    "The goal for this problem is to figure out how he should change the number of apples he bought in a day.\n",
    "\n",
    "- In case you are curious https://en.wikipedia.org/wiki/Poisson_distribution. The true distribution of this selling apple process should be binomial distribution but with large enough customer and low enough probability of an individual buying an apple "
   ]
  },
  {
   "cell_type": "markdown",
   "metadata": {
    "collapsed": true
   },
   "source": [
    "4.1) You may find that if you try to code poisson distribution directly. It will not work with large number.\n",
    "$$\n",
    "    P(k; \\lambda) = \\frac{\\lambda^k \\exp(-\\lambda)}{k!}\n",
    "$$\n",
    "\n",
    "Explain briefly why python complains"
   ]
  },
  {
   "cell_type": "code",
   "execution_count": 132,
   "metadata": {},
   "outputs": [],
   "source": [
    "import math\n",
    "def bad_poisson(lmd, k):\n",
    "    return pow(lmd,k)*math.exp(-lmd)/math.factorial(k)\n",
    "#bad_poisson(1000,1000) # uncomment to see it breaks"
   ]
  },
  {
   "cell_type": "markdown",
   "metadata": {},
   "source": [
    "ANS: 1000^1000 will cause overflow because it is too big"
   ]
  },
  {
   "cell_type": "markdown",
   "metadata": {},
   "source": [
    "4.2) A very useful trick to avoid this problem is to take log and exponentiate. That is\n",
    "\n",
    "$$\n",
    "    P(k; \\lambda) = \\exp\\left( \\ln \\left[ \\frac{\\lambda^k \\exp(-\\lambda)}{k!} \\right] \\right)\n",
    "$$\n",
    "\n",
    "First, show that\n",
    "$$\n",
    "    \\ln(P(k; \\lambda)) = (\\ldots \\ln(\\ldots)-\\ldots)-\\ln(k!)\n",
    "$$\n",
    "\n"
   ]
  },
  {
   "cell_type": "markdown",
   "metadata": {
    "collapsed": true
   },
   "source": [
    "$\n",
    "    P(k; \\lambda) = \\exp\\left( \\ln \\left[ \\frac{\\lambda^k \\exp(-\\lambda)}{k!} \\right] \\right)\n",
    "$\n",
    "\n",
    "$\n",
    "    P(k; \\lambda) = \\exp\\left( \\ln \\left( \\lambda^k \\exp(-\\lambda) \\right) - \\ln(k!)\\right)\n",
    "$\n",
    "\n",
    "$\n",
    "    \\qquad\\:\\:\\:= \\exp\\left( \\ln \\left( \\lambda^k \\right) + \\ln \\left(\\exp(-\\lambda) \\right) - \\ln(k!)\\right)\n",
    "$\n",
    "\n",
    "$\n",
    "    \\qquad\\:\\:\\:= \\exp\\left( \\ln \\left( \\lambda^k \\right) -\\lambda - \\ln(k!)\\right)\n",
    "$\n",
    "\n",
    "\n",
    "$\n",
    "    \\ln \\left(P(k; \\lambda)\\right)  = \\ln \\left[\\exp\\left[ \\ln \\left( \\lambda^k \\right) -\\lambda - \\ln(k!)\\right]\\right]\n",
    "$\n",
    "\n",
    "$\n",
    "    \\qquad\\qquad=  \\ln \\left( \\lambda^k \\right) -\\lambda - \\ln(k!)\n",
    "$\n"
   ]
  },
  {
   "cell_type": "markdown",
   "metadata": {},
   "source": [
    "4.3) $\\ln(k!)$ shows up everywhere in math. So most math library have `lgamma` function to compute this very fast.\n",
    "For example,\n",
    "\n",
    "`math.lgamma(5) == math.log(math.factorial(4))`\n",
    "\n",
    "Your job for this problem is to implement $P(k; \\lambda)$ using log-exp trick.\n",
    "\n",
    "If you do it right, $P(k=1000; \\mu=1000) \\approx 0.0126146$"
   ]
  },
  {
   "cell_type": "code",
   "execution_count": 150,
   "metadata": {},
   "outputs": [
    {
     "name": "stdout",
     "output_type": "stream",
     "text": [
      "1.6094379124341003\n",
      "1.6094379124341003\n"
     ]
    }
   ],
   "source": [
    "def poisson(k, lmd):\n",
    "    return math.exp(math.log( lmd**k ,math.exp(1)) - lmd -math.log( math.factorial(k) ,math.exp(1)))\n",
    "\n",
    "print(math.log( 5 ,math.exp(1)))\n",
    "print(math.log(5))"
   ]
  },
  {
   "cell_type": "markdown",
   "metadata": {},
   "source": [
    "4.4) Now here is the fun part. Suppose that $\\lambda = 987.6$(this is not true). Find the probability that Ply will sell all his 1000 apples. (Remember if 2000 people want Ply's apple, he his apple will also be sold out). \n",
    "\n",
    "And No, summing up to infinity is not practical."
   ]
  },
  {
   "cell_type": "code",
   "execution_count": null,
   "metadata": {},
   "outputs": [],
   "source": [
    "    "
   ]
  },
  {
   "cell_type": "markdown",
   "metadata": {},
   "source": [
    "4.5) Recall the information that\n",
    "\n",
    "After selling apples for 2000 days Ply found that his 1000 apples a day are sold out 600 days out of 2000 days.\n",
    "\n",
    "Find the value for $\\lambda$ to a decent accuracy($<\\pm 0.1$)"
   ]
  },
  {
   "cell_type": "code",
   "execution_count": null,
   "metadata": {
    "collapsed": true
   },
   "outputs": [],
   "source": []
  },
  {
   "cell_type": "markdown",
   "metadata": {},
   "source": [
    "4.6) Using $\\lambda$ you found in 4.5).\n",
    "\n",
    "Ply bounght apple for 20 Baht each and he sell it for 50 Baht each. Which means that for each apple he sells he make a profit of 30 baht. But, at the end of each day Ply has to trash all unsold Apples(taking a loss of 20 Baht each).\n",
    "\n",
    "If Ply bought 1000 apples a day, what would be his expected profit(remember expected value from discrete math/stat/quantum?)."
   ]
  },
  {
   "cell_type": "code",
   "execution_count": null,
   "metadata": {
    "collapsed": true
   },
   "outputs": [],
   "source": []
  },
  {
   "cell_type": "markdown",
   "metadata": {},
   "source": [
    "4.7) Using $\\lambda$ you found in 4.5) Find the number of apple Ply should buy in a day to maximize his expected profit."
   ]
  },
  {
   "cell_type": "code",
   "execution_count": null,
   "metadata": {
    "collapsed": true
   },
   "outputs": [],
   "source": []
  },
  {
   "cell_type": "markdown",
   "metadata": {},
   "source": [
    "5) Full Width at Half Maximum(FWHM). Distribution width is a very important quantity. It tells you how wide a the distribution is. One way to do that is to use a quantity called full-width half max.\n",
    "\n",
    "This is the width of the distribution at half maximum. \n",
    "\n",
    "For example for distribution shown below the maximum is at x=0.0 and y=1.0\n",
    "\n",
    "The maximum of this distribution is 1.0. So we are interested in the width of the distribution when the value of the distribution is 1.0/2=0.5\n",
    "\n",
    "The width of the distribution is shown in black line. In this case it's about 2.35"
   ]
  },
  {
   "cell_type": "code",
   "execution_count": 24,
   "metadata": {},
   "outputs": [
    {
     "data": {
      "text/plain": [
       "<matplotlib.text.Text at 0x107045fd0>"
      ]
     },
     "execution_count": 24,
     "metadata": {},
     "output_type": "execute_result"
    },
    {
     "data": {
      "image/png": "[encoded data removed]",
      "text/plain": [
       "<matplotlib.figure.Figure at 0x106635f10>"
      ]
     },
     "metadata": {},
     "output_type": "display_data"
    }
   ],
   "source": [
    "import math\n",
    "def demo(x):\n",
    "    return math.exp(-x**2/2.0)\n",
    "x = np.linspace(-3,3)\n",
    "y = [demo(xx) for xx in x]\n",
    "plt.plot(x,y)\n",
    "plt.axhline(0.5, color='red')\n",
    "\n",
    "plt.axvline(2.355/2,color='red',linestyle='dashed')\n",
    "plt.axvline(-2.355/2,color='red',linestyle='dashed')\n",
    "\n",
    "plt.grid()\n",
    "plt.annotate(\n",
    "    '', xy=(-2.355/2, 0.4), xycoords='data',\n",
    "    xytext=(2.355/2, 0.4), textcoords='data',\n",
    "    arrowprops={'arrowstyle': '<->'})\n",
    "plt.text(0,0.3,'FWHM',horizontalalignment ='center')"
   ]
  },
  {
   "cell_type": "markdown",
   "metadata": {},
   "source": [
    "5.1)Find FWHM of the following function. Make sure the bound on error of the FWHM is less than $10^{-4}$."
   ]
  },
  {
   "cell_type": "code",
   "execution_count": 25,
   "metadata": {},
   "outputs": [
    {
     "data": {
      "text/plain": [
       "[<matplotlib.lines.Line2D at 0x106fd2050>]"
      ]
     },
     "execution_count": 25,
     "metadata": {},
     "output_type": "execute_result"
    },
    {
     "data": {
      "image/png": "[encoded data removed]",
      "text/plain": [
       "<matplotlib.figure.Figure at 0x10708f1d0>"
      ]
     },
     "metadata": {},
     "output_type": "display_data"
    }
   ],
   "source": [
    "import math\n",
    "def f(x, gamma=3.1):\n",
    "    mu = 2.345\n",
    "    return gamma/((x-mu)**2+gamma**2)\n",
    "x = np.linspace(-10,10,200)\n",
    "y = [f(xx) for xx in x]\n",
    "plt.plot(x,y)"
   ]
  },
  {
   "cell_type": "markdown",
   "metadata": {},
   "source": [
    "5.2) Plot FWHM(y-axis) as a function of $\\gamma$(gamma) from $\\gamma=0.5\\ldots 3$. Make sure you have at least 30 points."
   ]
  },
  {
   "cell_type": "code",
   "execution_count": 26,
   "metadata": {},
   "outputs": [
    {
     "name": "stdout",
     "output_type": "stream",
     "text": [
      "0.108165114047\n"
     ]
    }
   ],
   "source": [
    "print(f(1.0, gamma=0.2)) # you may find this useful"
   ]
  },
  {
   "cell_type": "markdown",
   "metadata": {
    "collapsed": true
   },
   "source": [
    "5.3) (Optional) Prove the relation you found in 5.2)"
   ]
  },
  {
   "cell_type": "code",
   "execution_count": null,
   "metadata": {
    "collapsed": true
   },
   "outputs": [],
   "source": []
  }
 ],
 "metadata": {
  "kernelspec": {
   "display_name": "Python 3",
   "language": "python",
   "name": "python3"
  },
  "language_info": {
   "codemirror_mode": {
    "name": "ipython",
    "version": 3
   },
   "file_extension": ".py",
   "mimetype": "text/x-python",
   "name": "python",
   "nbconvert_exporter": "python",
   "pygments_lexer": "ipython3",
   "version": "3.6.2"
  },
  "toc": {
   "colors": {
    "hover_highlight": "#DAA520",
    "running_highlight": "#FF0000",
    "selected_highlight": "#FFD700"
   },
   "moveMenuLeft": true,
   "nav_menu": {
    "height": "30px",
    "width": "252px"
   },
   "navigate_menu": true,
   "number_sections": false,
   "sideBar": true,
   "threshold": 4,
   "toc_cell": false,
   "toc_section_display": "block",
   "toc_window_display": false
  }
 },
 "nbformat": 4,
 "nbformat_minor": 1
}

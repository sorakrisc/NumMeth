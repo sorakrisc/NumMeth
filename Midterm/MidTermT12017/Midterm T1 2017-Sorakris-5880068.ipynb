{
 "cells": [
  {
   "cell_type": "markdown",
   "metadata": {},
   "source": [
    "# Midterm T1 2017"
   ]
  },
  {
   "cell_type": "code",
   "execution_count": 181,
   "metadata": {},
   "outputs": [],
   "source": [
    "%matplotlib inline\n",
    "import numpy as np\n",
    "from matplotlib import pyplot as plt\n",
    "import math"
   ]
  },
  {
   "cell_type": "markdown",
   "metadata": {},
   "source": [
    "Sorakris Chaladlamsakul 5880068"
   ]
  },
  {
   "cell_type": "markdown",
   "metadata": {},
   "source": [
    "The midterm consists of two parts: \n",
    "\n",
    " - **Easy Zone** which worth 100 point each which most of them you can just copy from exercise/homework\n",
    " - **Creative zone** which worth 150 points each.\n",
    " - The score for each sub question is equal unless indicated.\n",
    " - Comment your code!! If it takes me more than 5 minutes to figure out what your code does, I won't grade it.\n",
    " \n",
    " The total score is 900 but you will be graded out of 0.9*900=810."
   ]
  },
  {
   "cell_type": "markdown",
   "metadata": {},
   "source": [
    "# Easy Stuff (100 Each)"
   ]
  },
  {
   "cell_type": "markdown",
   "metadata": {},
   "source": [
    "### 1 Taylor Series\n",
    "\n",
    "1) Find the first 3 *non-zero* terms in Taylor series of\n",
    "$$f(x) = \\frac{1}{2-x}$$"
   ]
  },
  {
   "cell_type": "markdown",
   "metadata": {},
   "source": [
    "expand around x = 1"
   ]
  },
  {
   "cell_type": "markdown",
   "metadata": {},
   "source": [
    "$$\n",
    "    f(1+x) = \\frac{1}{2-(1+x)}\n",
    "$$\n",
    "$$\n",
    "    f(1+x) = \\frac{1}{1-x}\n",
    "$$"
   ]
  },
  {
   "cell_type": "markdown",
   "metadata": {},
   "source": [
    "$$\n",
    "    \\frac{1}{1-x} = 1 + x +x^2\n",
    "$$"
   ]
  },
  {
   "cell_type": "code",
   "execution_count": 105,
   "metadata": {},
   "outputs": [],
   "source": [
    "def f(x):\n",
    "    return 1+x+x**2\n"
   ]
  },
  {
   "cell_type": "markdown",
   "metadata": {},
   "source": [
    "2) Use the Taylor series you found in 1) to find $$\\frac{1}{0.8}$$ **along with bound on error**."
   ]
  },
  {
   "cell_type": "code",
   "execution_count": 110,
   "metadata": {},
   "outputs": [
    {
     "name": "stdout",
     "output_type": "stream",
     "text": [
      "1/0.8 is around 1.24\n",
      "error: 0.01953125 upper bound: 1.25953125 lower bound: 1.22046875\n"
     ]
    }
   ],
   "source": [
    "approx =f(0.2)\n",
    "print(\"1/0.8 is around\",approx)\n",
    "err =(6/(1-0.2)**4)*(0.2)**3/math.factorial(3)\n",
    "print(\"error:\",err, \"upper bound:\", approx +err, \"lower bound:\", approx-err)"
   ]
  },
  {
   "cell_type": "markdown",
   "metadata": {},
   "source": [
    "### 2 Bisection (100)"
   ]
  },
  {
   "cell_type": "markdown",
   "metadata": {},
   "source": [
    "We can find euler number $e$ by solving equation.\n",
    "\n",
    "$\\ln x = 1$\n",
    "\n",
    "\n"
   ]
  },
  {
   "cell_type": "markdown",
   "metadata": {},
   "source": [
    "1) If we want to find $e$ by bisection with starting bound of [2,3], how many iteration do we need to get it acuurate to $10^{-6}$"
   ]
  },
  {
   "cell_type": "code",
   "execution_count": 60,
   "metadata": {},
   "outputs": [
    {
     "name": "stdout",
     "output_type": "stream",
     "text": [
      "iteration > 18.931568569324174\n"
     ]
    }
   ],
   "source": [
    "print(\"iteration >\", math.log2(1/(10**-6))-1)"
   ]
  },
  {
   "cell_type": "markdown",
   "metadata": {},
   "source": [
    "ANS: 19"
   ]
  },
  {
   "cell_type": "markdown",
   "metadata": {},
   "source": [
    "2) Find $e$ that is accurate up to $10^{-6}$."
   ]
  },
  {
   "cell_type": "code",
   "execution_count": 61,
   "metadata": {},
   "outputs": [
    {
     "name": "stdout",
     "output_type": "stream",
     "text": [
      "2.718282699584961\n"
     ]
    }
   ],
   "source": [
    "def bisection(f, l, r,n):\n",
    "    left = l\n",
    "    right = r\n",
    "    mid = (l+r)/2.0\n",
    "    assert(f(left)*f(right) < 0)\n",
    "    for i in range(n):\n",
    "        mid = (left+right)/2.0\n",
    "        if (f(mid)* f(left) < 0):\n",
    "            right = mid\n",
    "        else:\n",
    "            left = mid\n",
    "    return mid\n",
    "def g(x):\n",
    "    return math.log(x ,math.e) -1\n",
    "print(bisection(g, 2, 3, 19))"
   ]
  },
  {
   "cell_type": "markdown",
   "metadata": {},
   "source": [
    "### 3. Newton's method (100)"
   ]
  },
  {
   "cell_type": "markdown",
   "metadata": {},
   "source": [
    "1) Find Newton's method update rule for solving\n",
    "\n",
    "$\\sin(x) + e^x + \\cos(x) = 5$\n"
   ]
  },
  {
   "cell_type": "code",
   "execution_count": 62,
   "metadata": {},
   "outputs": [],
   "source": [
    "def h(x) :\n",
    "    return math.sin(x) +math.e**x + math.cos(x) -5\n",
    "def hp(x):\n",
    "    return math.cos(x) + math.e**x -math.sin(x)\n",
    "def newtonMeth(x, itera):\n",
    "    if itera == 0:\n",
    "        return x\n",
    "    else:\n",
    "        return newtonMeth(x-(h(x)/hp(x)),itera-1)\n",
    "\n",
    "    "
   ]
  },
  {
   "cell_type": "markdown",
   "metadata": {},
   "source": [
    "2) Solve the above equation. Pick appropriate starting point."
   ]
  },
  {
   "cell_type": "code",
   "execution_count": 63,
   "metadata": {},
   "outputs": [
    {
     "name": "stdout",
     "output_type": "stream",
     "text": [
      "1.3330574168343974\n"
     ]
    }
   ],
   "source": [
    "print(newtonMeth(1,15))"
   ]
  },
  {
   "cell_type": "markdown",
   "metadata": {},
   "source": [
    "3) Draw an example when Newton's method doesn't work."
   ]
  },
  {
   "cell_type": "markdown",
   "metadata": {},
   "source": [
    "**ANS:** in zip file\n"
   ]
  },
  {
   "cell_type": "markdown",
   "metadata": {},
   "source": [
    "### 4. Derivative (100)"
   ]
  },
  {
   "cell_type": "markdown",
   "metadata": {},
   "source": [
    "1) Plot the first and second derivative of $f(x) = e^{-x} \\sin(x)$"
   ]
  },
  {
   "cell_type": "code",
   "execution_count": 65,
   "metadata": {},
   "outputs": [
    {
     "data": {
      "text/plain": [
       "<matplotlib.legend.Legend at 0x110b7acc0>"
      ]
     },
     "execution_count": 65,
     "metadata": {},
     "output_type": "execute_result"
    },
    {
     "data": {
      "image/png": "[encoded data removed]",
      "text/plain": [
       "<matplotlib.figure.Figure at 0x11097fe10>"
      ]
     },
     "metadata": {},
     "output_type": "display_data"
    }
   ],
   "source": [
    "def f(x):\n",
    "    return math.sin(x)*math.e**(-x)\n",
    "def fp(x,h):\n",
    "    return (f(x+h)-f(x-h))/(2*h)\n",
    "def fpp(x,h):\n",
    "    return (f(x + h) - 2*f(x) + f(x-h))/h**2\n",
    "xx = np.linspace(-10,10,1000)\n",
    "y = [f(x) for x in xx]\n",
    "yp = [fp(x,0.0001) for x in xx]\n",
    "ypp = [fpp(x,0.0001) for x in xx]\n",
    "plt.plot(xx,y)\n",
    "plt.plot(xx,yp, label =\"first derivative\")\n",
    "plt.plot(xx,ypp, label =\"second derivative\")\n",
    "plt.grid()\n",
    "plt.legend()"
   ]
  },
  {
   "cell_type": "markdown",
   "metadata": {},
   "source": [
    "2) Which formula is better for approximating $f'(x)$. Answer with no justification recieve no credit.\n",
    "$$\n",
    "g_1(x) = \\frac{f(x+h) - 4 f(x-h) + 3 f(x)}{6h}\n",
    "$$\n",
    "\n",
    "$$\n",
    "g_2(x) = \\frac{f(x+2h) - 3f(x-h) + 2f(x)}{5h}\n",
    "$$"
   ]
  },
  {
   "cell_type": "markdown",
   "metadata": {},
   "source": [
    "$\n",
    "g_1(x) = \\frac{f(x+h) - 4 f(x-h) + 3 f(x)}{6h}\n",
    "$\n",
    "\n",
    "$\n",
    "f(x+h) = f(x) + f'(x)h + \\frac{f''(x)}{2}h^2 + \\frac{f'''(\\xi^+)}{3!}h^3\n",
    "$\n",
    "\n",
    "$\n",
    "4f(x-h) = 4[f(x) - f'(x)h + \\frac{f''(x)}{2}h^2 -\\frac{f'''(\\xi^-)}{3!}h^3]\n",
    "$\n",
    "\n",
    "$\n",
    "= 4f(x) - 4f'(x)h + 2f''(x)h^2 -\\frac{4f'''(\\xi^-)}{3!}h^3\n",
    "$\n",
    "\n",
    "\n",
    "$$\n",
    "g_1(x)= \\frac{f(x) + f'(x)h + \\frac{f''(x)}{2}h^2 + \\frac{f'''(\\xi^+)}{3!}h^3 - 4f(x) + 4f'(x)h - 2f''(x)h^2 +\\frac{4f'''(\\xi^-)}{3!}h^3 +3f(x)}{6h}\n",
    "$$\n",
    "\n",
    "$$\n",
    "= \n",
    "$$"
   ]
  },
  {
   "cell_type": "markdown",
   "metadata": {},
   "source": [
    "### 5. Legendre (100)"
   ]
  },
  {
   "cell_type": "markdown",
   "metadata": {},
   "source": [
    "1) Find Legendre Polynomial which passes through all these point."
   ]
  },
  {
   "cell_type": "code",
   "execution_count": 66,
   "metadata": {},
   "outputs": [
    {
     "data": {
      "text/plain": [
       "[<matplotlib.lines.Line2D at 0x111347e80>]"
      ]
     },
     "execution_count": 66,
     "metadata": {},
     "output_type": "execute_result"
    },
    {
     "data": {
      "image/png": "[encoded data removed]",
      "text/plain": [
       "<matplotlib.figure.Figure at 0x110964400>"
      ]
     },
     "metadata": {},
     "output_type": "display_data"
    }
   ],
   "source": [
    "xs = np.array([1,3,5,7,8,9,11])\n",
    "ys = np.array([-2.,1,0,-1,0,1,2])\n",
    "plt.plot(xs, ys, 'o')"
   ]
  },
  {
   "cell_type": "code",
   "execution_count": 76,
   "metadata": {},
   "outputs": [
    {
     "data": {
      "text/plain": [
       "[<matplotlib.lines.Line2D at 0x115897470>]"
      ]
     },
     "execution_count": 76,
     "metadata": {},
     "output_type": "execute_result"
    },
    {
     "data": {
      "image/png": "[encoded data removed]",
      "text/plain": [
       "<matplotlib.figure.Figure at 0x1158973c8>"
      ]
     },
     "metadata": {},
     "output_type": "display_data"
    }
   ],
   "source": [
    "def legendre_generator(xs, ys):\n",
    "    nterm = len(xs)\n",
    "    def legendre(x):\n",
    "        ans = 0\n",
    "        for i in range(nterm):\n",
    "            y = ys[i]\n",
    "            temp=1\n",
    "            for j in range(nterm):\n",
    "                if (j!=i):\n",
    "                    temp *= (x-xs[j])/(xs[i]-xs[j])\n",
    "            ans+=(y*temp)\n",
    "        return ans\n",
    "    return legendre\n",
    "leg = legendre_generator(xs, ys)\n",
    "\n",
    "x = np.linspace(0,12,1000)\n",
    "\n",
    "y = [leg(xx) for xx in x]\n",
    "plt.plot(x, y)\n",
    "plt.plot(xs, ys, 'o')"
   ]
  },
  {
   "cell_type": "markdown",
   "metadata": {},
   "source": [
    "### 6. Integral (100)"
   ]
  },
  {
   "cell_type": "markdown",
   "metadata": {},
   "source": [
    "1) We want to calculate\n",
    "\n",
    "$$\\int_3^7 x^3 +1 \\; dx$$\n",
    "\n",
    "using trapezoid rule such that the answer is at most $10^{-5}$ away from the real answer how many pieces do we need?"
   ]
  },
  {
   "cell_type": "code",
   "execution_count": 121,
   "metadata": {},
   "outputs": [
    {
     "name": "stdout",
     "output_type": "stream",
     "text": [
      "n >= 4732.863826479693\n"
     ]
    }
   ],
   "source": [
    "def fpp(x):\n",
    "    return 6*x\n",
    "def findMaxM(a,b):\n",
    "    lst=[]\n",
    "    for i in range(a,b+1):\n",
    "        lst.append(abs(fpp(i)))\n",
    "    return max(lst)\n",
    "def trapError(a,b,approx):\n",
    "    return math.sqrt(((b-a)**3) *findMaxM(a,b) /(12*approx))\n",
    "\n",
    "print(\"n >=\", trapError(3, 7, 10**-5))\n"
   ]
  },
  {
   "cell_type": "markdown",
   "metadata": {},
   "source": [
    "2) Use trapezoid rule to calculate\n",
    "$$\\int_3^7 x^3 + 1 \\; dx$$\n",
    "such that your answer is at most $10^{-5}$ from the real answer.\n",
    "\n"
   ]
  },
  {
   "cell_type": "code",
   "execution_count": 80,
   "metadata": {},
   "outputs": [
    {
     "name": "stdout",
     "output_type": "stream",
     "text": [
      "AREA:  584.0000071424486\n"
     ]
    }
   ],
   "source": [
    "def f6(x):\n",
    "    return 1 + x**3\n",
    "def TrapezoidRule(f, a, b, n):\n",
    "    h=(b-a)/n\n",
    "    summ=0\n",
    "    for i in range(1,n):\n",
    "        summ+=f(a+i*h)\n",
    "    return (h/2)*(f(a)+f(b)) + h*summ\n",
    "print(\"AREA: \", TrapezoidRule(f6, 3, 7, 4733))"
   ]
  },
  {
   "cell_type": "markdown",
   "metadata": {},
   "source": [
    "# Creative Stuff (It's actually easier than you think.)"
   ]
  },
  {
   "cell_type": "markdown",
   "metadata": {},
   "source": [
    "### 7. The other Legendre Polynomial.\n",
    "\n",
    "Legendre did so many things in the past sometimes we have name clash. This is a different one from what we learned in class. This Legendre Polynomial shows up many places in Physics, Engineering and data analysis. https://en.wikipedia.org/wiki/Legendre_polynomials\n",
    "\n",
    "In the homework we did fourier series where we found we can approximate complex function as a sum of sine and cosine. We can do the same thing, but instead of using sine and cosine. We will be using (the other) Legendre Polynomail. Let us get started.\n",
    "\n",
    "Legendre polynomial can be computed recursively by using the following recurrence formula:\n",
    "$$\n",
    "    P_0(x) = 1 \\\\\n",
    "    P_1(x) = x\n",
    "$$\n",
    "and \n",
    "$$\n",
    "    P_{n+1} = \\frac{1}{n+1}\\left[(2n+1)xP_n(x) - nP_{n-1}(x)\\right]\n",
    "$$\n",
    "or equivalently(this is easier for coding)\n",
    "$$\n",
    "    P_{n} = \\frac{1}{n}\\left[ (2n-1) x P_{n-1}(x) - (n-1)P_{n-2}(x)\\right]\n",
    "$$"
   ]
  },
  {
   "cell_type": "markdown",
   "metadata": {},
   "source": [
    "$triangle = 1 -|x|$"
   ]
  },
  {
   "cell_type": "markdown",
   "metadata": {},
   "source": [
    "**Task 1** Write a function $P(x, n)$ which computes $P_n(x)$. Check your answer by plotting your $P(x, 4)$ against \n",
    "$$P_4(x) = \\frac{1}{8}(35x^4-30x^2+3)$$ \n",
    "there are couple more for you to check given on wikipedia."
   ]
  },
  {
   "cell_type": "code",
   "execution_count": 117,
   "metadata": {},
   "outputs": [
    {
     "data": {
      "text/plain": [
       "<matplotlib.legend.Legend at 0x11697def0>"
      ]
     },
     "execution_count": 117,
     "metadata": {},
     "output_type": "execute_result"
    },
    {
     "data": {
      "image/png": "[encoded data removed]",
      "text/plain": [
       "<matplotlib.figure.Figure at 0x1168dae80>"
      ]
     },
     "metadata": {},
     "output_type": "display_data"
    }
   ],
   "source": [
    "def P4(x):\n",
    "    return (1/8)*(35*x**4 - 30*x**2 +3)\n",
    "def P(x, n):\n",
    "    if n == 0:\n",
    "        return 1\n",
    "    if n == 1:\n",
    "        return x\n",
    "    else:\n",
    "        return (1/n)*( (2*n - 1)*x*P(x,n-1) - (n-1)*P(x,n-2) )\n",
    "x7 = np.linspace(-10,10,1000)\n",
    "yp4 = [P4(x) for x in x7]\n",
    "ypn4 = [P(x,4) for x in x7]\n",
    "plt.plot(x7,yp4, lw = 6, label=\"P_4(x)\")\n",
    "plt.plot(x7,ypn4, lw=6,ls = \"dashed\", label=\"legPoLApprox\")\n",
    "plt.legend()"
   ]
  },
  {
   "cell_type": "markdown",
   "metadata": {},
   "source": [
    "**Task 2** Legendre Polynomial has a very nice property that is\n",
    "$$\n",
    "\\int_{-1}^{1} P_n(x)P_m(x) \\; dx = \\begin{cases} \n",
    "0 & \\text{if }n\\neq m \\\\\n",
    "\\frac{2}{2n+1} & \\text{if } n = m\n",
    "\\end{cases}\n",
    "$$\n",
    "\n",
    "We know something about how to get computer to do integral. **Numerically show that this property is true for all pairs of n,m from 0 to 4.**\n",
    "\n",
    "Clarification: Write a function that compute the right handside quickly and compare left and right hand side. Pick a suitable number of subdivision. They should be close enough."
   ]
  },
  {
   "cell_type": "code",
   "execution_count": 210,
   "metadata": {},
   "outputs": [],
   "source": [
    "def fpp(f,x):\n",
    "    return (f(x + 0.0001) - 2*f(x) + f(x-0.0001))/0.0001**2\n",
    "def findMaxM(f,a,b):\n",
    "    lst=[]\n",
    "    for i in range(a,b+1):\n",
    "        lst.append(abs(fpp(f,i)))\n",
    "    return max(lst)\n",
    "def trapError(f,a,b,approx):\n",
    "    return math.sqrt(((b-a)**3) *findMaxM(f,a,b) /(12*approx))\n",
    "\n",
    "def TrapezoidRule(f, a, b, n):\n",
    "    h=(b-a)/n\n",
    "    summ=0\n",
    "    for i in range(1,n):\n",
    "        summ+=f(a+i*h)\n",
    "    return (h/2)*(f(a)+f(b)) + h*summ\n"
   ]
  },
  {
   "cell_type": "code",
   "execution_count": 211,
   "metadata": {},
   "outputs": [
    {
     "data": {
      "text/plain": [
       "True"
      ]
     },
     "execution_count": 211,
     "metadata": {},
     "output_type": "execute_result"
    }
   ],
   "source": [
    "allnm = [ (i,j) for i in range(5) for j in range(5)]\n",
    "# print(allnm)\n",
    "\n",
    "def proofLegPol(allnm):\n",
    "    for ech in allnm:\n",
    "        \n",
    "        n,m=ech\n",
    "#         print(n,m)\n",
    "        #righthandside\n",
    "        if (n==m):\n",
    "            rh = 2/(2*n+1)\n",
    "        else:\n",
    "            rh = 0\n",
    "            \n",
    "        #lefthandside\n",
    "        def f(x):\n",
    "            return P(x,n)*P(x,m)\n",
    "        itera = int(trapError(f,-1,1,10**-5))+1\n",
    "        lh = TrapezoidRule(f, -1, 1, itera)\n",
    "        if (abs(rh -lh) >10**-5):\n",
    "            return False\n",
    "    return True\n",
    "\n",
    "proofLegPol(allnm)   "
   ]
  },
  {
   "cell_type": "markdown",
   "metadata": {},
   "source": [
    "**Task 3** The property we learned in Task2 is called Orthorgornality. This is actually what make fourier series magic in the homework works. This means that we can also write a complex function as a sum of Legendre Polynomials just as we did with sine and cosine in homework.\n",
    "\n",
    "$$\n",
    "    f(x) = a_0 P_0(x) + a_1 P_1(x) + a_2 P_2(x) + a_3 P_3(x) + a_4 P_4(x) + \\ldots\n",
    "$$\n",
    "\n",
    "where\n",
    "\n",
    "$$\n",
    "    a_i = \\frac{2i+1}{2}\\int_{-1}^{1} f(x) P_i(x) dx\n",
    "$$\n",
    "(Bonus:(0.0000000001 Point) Prove the above formula.)\n",
    "\n",
    "For example, an approximation of triangle function using sum of Legendre Polynomial for triangle function is shown below.\n",
    "![Triangle Aproximation](leg_series.png)\n",
    "\n",
    "**Your job: Find all the coefficient and make the plot above**\n",
    "\n",
    "Note: up to P20 one may take a while so do up to P5 and P10 and make sure you get it right first."
   ]
  },
  {
   "cell_type": "code",
   "execution_count": 235,
   "metadata": {},
   "outputs": [
    {
     "name": "stdout",
     "output_type": "stream",
     "text": [
      "1.3828124826812755\n",
      "0.5000000000000001\n"
     ]
    }
   ],
   "source": [
    "\n",
    "def f73(x):\n",
    "    return 1 - abs(x)\n",
    "def fpp(f,x):\n",
    "    return (f(x + 0.0001) - 2*f(x) + f(x-0.0001))/0.0001**2\n",
    "def findMaxM(f,a,b):\n",
    "    lst=[]\n",
    "    for i in range(a,b+1):\n",
    "        lst.append(abs(fpp(f,i)))\n",
    "    return max(lst)\n",
    "def trapError(f,a,b,approx):\n",
    "    return math.sqrt(((b-a)**3) *findMaxM(f,a,b) /(12*approx))\n",
    "\n",
    "def TrapezoidRule(f, a, b, n):\n",
    "    h=(b-a)/n\n",
    "    summ=0\n",
    "    for i in range(1,n):\n",
    "        summ+=f(a+i*h)\n",
    "    return (h/2)*(f(a)+f(b)) + h*summ\n",
    "def P(x, n):\n",
    "    if n == 0:\n",
    "        return 1\n",
    "    if n == 1:\n",
    "        return x\n",
    "    else:\n",
    "        return (1/n)*( (2*n - 1)*x*P(x,n-1) - (n-1)*P(x,n-2) )\n",
    "\n",
    "def P0(x):\n",
    "    i=0\n",
    "    temp = P(x,i)\n",
    "    def fxPi(x):\n",
    "            return f73(x)*temp\n",
    "    itera = int(trapError(fxPi,-1,1,10**-4))+1\n",
    "    ai= ((2*i+1)/2)*TrapezoidRule(fxPi,-1,1, itera)\n",
    "    return ai*temp\n",
    "def P5(x):\n",
    "    summ=0\n",
    "    for i in range(5):\n",
    "        temp = P(x,i)\n",
    "\n",
    "        itera = int(trapError(P*temp,-1,1,10**-4))+1\n",
    "        ai= ((2*i+1)/2)*TrapezoidRule(PxFx,-1,1, itera)\n",
    "        summ+=ai*temp\n",
    "    return summ\n",
    "# xx=np.linspace(-1,1,1000)\n",
    "# yy=[P5(x) for x in xx]\n",
    "# plt.plot(xx,yy)\n",
    "print(P5(0))\n",
    "print(P0(0))"
   ]
  },
  {
   "cell_type": "markdown",
   "metadata": {},
   "source": [
    "### 8 Ply's Buffet Restaurant. (150)\n",
    "\n",
    "Since it's late evening and I know you are hungry. Let's do a problem about food.\n",
    "\n",
    "Ply apple shop business is doing very well so he expands his business line to Shabu Shabu Buffet called Meme Shabu since he know how to maximize the profit using Poisson distribution. Let us assume that the number of people who wants to eat at his restaurant each day also follows poisson distribution $P(x; \\lambda)$.\n",
    "\n",
    "It's not practical to determine how many days he sell off his buffet like in his apple shop since the food can go over a day. But Ply need to find some other method to determine the parameter $\\lambda$ which he can use to improve his business.\n",
    "\n",
    "Luckily Meme Shabu has a restaurant rating card which *every customer* fills. The rating goes from 5 to 0 stars and the nature of rating customer gives goes as follow\n",
    " - First 50 people for that day will always give 5 stars(each). Since they got good service\n",
    " - Next 50 people, will give 4 stars(each).\n",
    " - Next 50 peole, will give 3 stars(each).\n",
    " - Next 50 peole, will give 2 stars(each).\n",
    " - Next 50 peole, will give 1 stars(each).\n",
    " - The rest will either give 0 star(since they didn't receive service).\n",
    " \n",
    "For example, if there are 157 people who wants to eat at Meme Shabu. The total number of star would be $50*5 + 50*4 + 50*3 + 7*2$. It goes like tax bracket you did in programming 1.\n",
    "\n",
    "Ply found that on average the **total** number of stars his Shabu restaurant gets is 500 stars. **Find $\\lambda$.**"
   ]
  },
  {
   "cell_type": "code",
   "execution_count": 226,
   "metadata": {},
   "outputs": [
    {
     "name": "stdout",
     "output_type": "stream",
     "text": [
      "lambda = 121.3801498413086\n"
     ]
    },
    {
     "data": {
      "image/png": "[encoded data removed]",
      "text/plain": [
       "<matplotlib.figure.Figure at 0x116d11cf8>"
      ]
     },
     "metadata": {},
     "output_type": "display_data"
    }
   ],
   "source": [
    "def poisson(k, lmd):\n",
    "    return math.exp(k*math.log(lmd) - lmd -math.lgamma(k+1))\n",
    "def bisection(f, l, r,n):\n",
    "    left = l\n",
    "    right = r\n",
    "    mid = (l+r)/2.0\n",
    "    assert(f(left)*f(right) < 0)\n",
    "    for i in range(n):\n",
    "        mid = (left+right)/2.0\n",
    "        if (f(mid)* f(left) < 0):\n",
    "            right = mid\n",
    "        else:\n",
    "            left = mid\n",
    "    return mid\n",
    "def calStar(people):\n",
    "    tot_star=0\n",
    "    count = 0\n",
    "    star = 5\n",
    "    while(people>0):\n",
    "        if count == 50:\n",
    "            star-=1\n",
    "            count =0\n",
    "        tot_star+=star\n",
    "        people-=1\n",
    "        count+=1\n",
    "    return tot_star\n",
    "def calPeople(star):\n",
    "    tot_people = 0\n",
    "    count = 0\n",
    "    people = 0\n",
    "    while (star>0):\n",
    "        if (people<50):\n",
    "            star-=5\n",
    "        elif (people<100):\n",
    "            star-=4\n",
    "\n",
    "        elif (people<150):\n",
    "            star-=3\n",
    "        elif(people<200):\n",
    "            star-=2\n",
    "        elif(people<250):\n",
    "            star-=1\n",
    "        people+=1\n",
    "    return people\n",
    "\n",
    "def p(lam):\n",
    "    expr = 1\n",
    "    for k in range(0,117):\n",
    "        expr-=(poisson(k,lam))\n",
    "        \n",
    "    return expr -(500/750)\n",
    "\n",
    "\n",
    "xs = np.linspace(80,130, 1000)\n",
    "px = [p(x) for x in xs]\n",
    "lam = bisection(p, 120,122,18)\n",
    "plt.axvline(lam, color =\"g\")\n",
    "plt.plot(xs, px)\n",
    "plt.axhline(0, color=\"red\")\n",
    "plt.grid()\n",
    "print(\"lambda =\", lam)\n"
   ]
  },
  {
   "cell_type": "code",
   "execution_count": null,
   "metadata": {},
   "outputs": [],
   "source": []
  }
 ],
 "metadata": {
  "kernelspec": {
   "display_name": "Python 3",
   "language": "python",
   "name": "python3"
  },
  "language_info": {
   "codemirror_mode": {
    "name": "ipython",
    "version": 3
   },
   "file_extension": ".py",
   "mimetype": "text/x-python",
   "name": "python",
   "nbconvert_exporter": "python",
   "pygments_lexer": "ipython3",
   "version": "3.6.2"
  },
  "toc": {
   "colors": {
    "hover_highlight": "#DAA520",
    "running_highlight": "#FF0000",
    "selected_highlight": "#FFD700"
   },
   "moveMenuLeft": true,
   "nav_menu": {
    "height": "30px",
    "width": "252px"
   },
   "navigate_menu": true,
   "number_sections": false,
   "sideBar": true,
   "threshold": 4,
   "toc_cell": false,
   "toc_section_display": "block",
   "toc_window_display": false
  }
 },
 "nbformat": 4,
 "nbformat_minor": 2
}

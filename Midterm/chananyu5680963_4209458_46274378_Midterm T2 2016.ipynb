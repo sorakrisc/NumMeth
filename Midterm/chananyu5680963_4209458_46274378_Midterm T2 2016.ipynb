{
 "cells": [
  {
   "cell_type": "markdown",
   "metadata": {},
   "source": [
    "# Midterm T2 2016\n",
    "\n",
    "The midterm consists of two parts: \n",
    "\n",
    " - **Easy Zone** which worth 100 point each which most of them you can just copy from exercise/homework\n",
    " - **Creative zone** which worth 125 points each.\n",
    " - The score for each sub question is equal unless indicated.\n",
    " - Comment your code!! If it takes me more than 5 minutes to figure out what your code does, I won't grade it.\n",
    "\n",
    "The total score is 850 but you will be graded out of 0.9*850=765.\n"
   ]
  },
  {
   "cell_type": "code",
   "execution_count": 1,
   "metadata": {},
   "outputs": [
    {
     "name": "stdout",
     "output_type": "stream",
     "text": [
      "810 1.05882352941\n"
     ]
    }
   ],
   "source": [
    "score = 100 + 60 + 100 + 100 + 100 + 100 + 125 + 125\n",
    "print score, score/765."
   ]
  },
  {
   "cell_type": "code",
   "execution_count": 2,
   "metadata": {},
   "outputs": [],
   "source": [
    "%matplotlib inline\n",
    "import numpy as np\n",
    "from matplotlib import pyplot as plt\n",
    "import math"
   ]
  },
  {
   "cell_type": "markdown",
   "metadata": {},
   "source": [
    "$$Chananyu Pumpradub (Mind) 5680963$$"
   ]
  },
  {
   "cell_type": "markdown",
   "metadata": {},
   "source": [
    "## Easy Zone (100 Each)"
   ]
  },
  {
   "cell_type": "markdown",
   "metadata": {},
   "source": [
    "### 1 Taylor Series\n",
    "<span style=\"color:red\"> 100 </span>\n",
    "\n",
    "1) Find the first 3 *non-zero* terms in Taylor series of\n",
    "$$f(x) = sin(2x)$$"
   ]
  },
  {
   "cell_type": "markdown",
   "metadata": {
    "collapsed": true
   },
   "source": [
    "$$f(x) = 2x  - \\frac{8x^3}{3!} + \\frac{32x^5}{5!} $$"
   ]
  },
  {
   "cell_type": "markdown",
   "metadata": {},
   "source": [
    "2) Use the Taylor series you found in 1) to find $$sin(0.2)$$ **along with bound on error**."
   ]
  },
  {
   "cell_type": "code",
   "execution_count": 4,
   "metadata": {},
   "outputs": [
    {
     "name": "stdout",
     "output_type": "stream",
     "text": [
      "ANS:  0.198669333333\n"
     ]
    }
   ],
   "source": [
    "def f(x):\n",
    "    return 2.*x - 4./3.*x**3. + 4./15.*x**5\n",
    "\n",
    "print \"ANS: \", f(0.1)\n",
    "\n",
    "\n"
   ]
  },
  {
   "cell_type": "code",
   "execution_count": 5,
   "metadata": {},
   "outputs": [
    {
     "name": "stdout",
     "output_type": "stream",
     "text": [
      "error: 1.76594960707e-08 upper bound: 0.198669350993 lower bound: 0.198669315674\n"
     ]
    }
   ],
   "source": [
    "def calError(x,f,e):\n",
    "    c_e = f*np.abs((x**(e+1))/math.factorial(e+1))\n",
    "    return c_e\n",
    "\n",
    "err= calError(0.1,64.*math.sin(0.1*2),5)\n",
    "print \"error:\",err,\"upper bound:\",err+f(0.1),\"lower bound:\",f(0.1)-err\n",
    "\n"
   ]
  },
  {
   "cell_type": "markdown",
   "metadata": {},
   "source": [
    "error term $ f^{(6)}(\\xi) =  64sin(2x)$ "
   ]
  },
  {
   "cell_type": "markdown",
   "metadata": {},
   "source": [
    "## 2) Bisection\n",
    "\n",
    "<span style=\"color:red\"> 60 </span>"
   ]
  },
  {
   "cell_type": "markdown",
   "metadata": {},
   "source": [
    "We know that \n",
    "\n",
    "$$\\sin\\left(\\frac{\\pi}{4}\\right) = \\cos\\left(\\frac{\\pi}{4}\\right)$$\n",
    "\n",
    "This means that we can find the value of $\\pi$ by finding the solution of\n",
    "\n",
    "$$\\sin(x) = \\cos(x)$$\n",
    "\n",
    "Then multiply the solution by 4. Then we get the value of $\\pi$."
   ]
  },
  {
   "cell_type": "markdown",
   "metadata": {},
   "source": [
    "1) Since we multiply solution by 4 at the end. This means that if we want the value of $\\pi$ that is accurate at least $10^{-6}$ we need to make sure that our method of finding the solution to $\\sin(x) = \\cos(x)$ is accurate at least $\\displaystyle \\frac{10^{-6}}{4}$.\n",
    "\n",
    "If our initial range is from $x=[0,2]$ and the method we use is bisection, how many iterations do we need to make sure that the solution is at most $\\displaystyle\\frac{10^{-6}}{4}$ from the real answer."
   ]
  },
  {
   "cell_type": "code",
   "execution_count": 6,
   "metadata": {},
   "outputs": [
    {
     "name": "stdout",
     "output_type": "stream",
     "text": [
      "total iteration = 22\n"
     ]
    }
   ],
   "source": [
    "def f(x):\n",
    "    return np.sin(x)-np.cos(x)\n",
    "def check_sign(yo,yt):\n",
    "    return f(yo) * f(yt) < 0\n",
    "\n",
    "def pass_error(x,limit):\n",
    "    return np.abs(f(x)) < limit #<< no that's not how we test error bound.\n",
    "#it's the error bound on x. NOT y.\n",
    "\n",
    "def find_x(x0,x1,limit,t):\n",
    "    x = (x0+x1)/2\n",
    "    t += 1\n",
    "#     print f(x),t\n",
    "    if(pass_error(x,limit)):\n",
    "        return x,t\n",
    "    else:\n",
    "        if(check_sign(x,x0)):\n",
    "            return find_x(x0,x,limit,t)\n",
    "        else:\n",
    "            return find_x(x,x1,limit,t)\n",
    "\n",
    "ans,itera= find_x(0,2.,1e-6/4.0,0)\n",
    "print \"total iteration =\",itera"
   ]
  },
  {
   "cell_type": "markdown",
   "metadata": {},
   "source": [
    "2) Find the value of $\\pi$ that is accurate at least $10^{-6}$ using the method above."
   ]
  },
  {
   "cell_type": "code",
   "execution_count": 7,
   "metadata": {},
   "outputs": [
    {
     "name": "stdout",
     "output_type": "stream",
     "text": [
      "answer pi = 3.14159202576\n"
     ]
    }
   ],
   "source": [
    "print \"answer pi =\",4*ans"
   ]
  },
  {
   "cell_type": "markdown",
   "metadata": {},
   "source": [
    "### 3 Newton's Method\n",
    "\n",
    "<span style=\"color:red\"> 100 </span>"
   ]
  },
  {
   "cell_type": "markdown",
   "metadata": {},
   "source": [
    "1) (40) In the homework we found that we can find $\\sqrt{x}$ using \n",
    "\n",
    "$$x_{n+1}  = \\frac{\\displaystyle x_{n} + \\frac{2}{x_n}}{2}$$\n",
    "\n",
    "Derive an analogous relation for finding $\\sqrt[5]{x}$"
   ]
  },
  {
   "cell_type": "markdown",
   "metadata": {
    "collapsed": true
   },
   "source": [
    "Let $f(x) = x^5 - a = 0$ where $x = \\sqrt[5]a$\n",
    "\n",
    "Newton's method: \n",
    "\n",
    "$$\n",
    "x_{n+1} = x_n - \\frac{f(x_n)}{f'(x_n)} \\\\\n",
    "x_{n+1} = x_n - \\frac{x_n^5 - a}{5x_n^4} \\\\\n",
    "x_{n+1} = \\frac{5x_n}{5} - \\frac{x_n - \\frac{a}{x_n^4}}{5} \\\\\n",
    "x_{n+1} = \\frac{5x_n - x_n + \\frac{a}{x_n^4}}{5} \\\\\n",
    "x_{n+1} = \\frac{4x_n + \\frac{a}{x_n^4}}{5} \n",
    "$$"
   ]
  },
  {
   "cell_type": "markdown",
   "metadata": {},
   "source": [
    "2) (40) Find $\\sqrt[5]{31}$ to a decent accuracy using what you found above"
   ]
  },
  {
   "cell_type": "code",
   "execution_count": 8,
   "metadata": {},
   "outputs": [
    {
     "name": "stdout",
     "output_type": "stream",
     "text": [
      "My Method: 1.98734075466 Real Answer: 1.98734075466\n"
     ]
    }
   ],
   "source": [
    "def nextroot(x,a):\n",
    "    return (4*x+a/(x**4))/5.\n",
    "def findroot(x,a,n):\n",
    "    for i in range(n):\n",
    "        c_val = nextroot(x,a)\n",
    "        x = c_val\n",
    "    return x\n",
    "\n",
    "x = 7\n",
    "\n",
    "print \"My Method:\",findroot(x,31,10),\"Real Answer:\",31**(1/5.)"
   ]
  },
  {
   "cell_type": "markdown",
   "metadata": {},
   "source": [
    "3) (20) Newtons's Method vs Bisection method.\n",
    "\n",
    "3.1) Which one converge faster?\n",
    "\n",
    "3.2) Why should we bother using slower one?"
   ]
  },
  {
   "cell_type": "markdown",
   "metadata": {
    "collapsed": true
   },
   "source": [
    "ANSWER:::::::\n",
    "\n",
    "3.1)Newton's Method converge faster (Quadratic convergence)\n",
    "\n",
    "3.2)Newton's method doesn't guarantee solution, bisection we can give the section where the answer is. "
   ]
  },
  {
   "cell_type": "markdown",
   "metadata": {},
   "source": [
    "### 4 Legendre\n",
    "\n",
    "<span style=\"color:red\"> 100 </span>"
   ]
  },
  {
   "cell_type": "markdown",
   "metadata": {},
   "source": [
    "1)If we use Legendre method to find polynomail which passes through all thsese points. What would be the degree of the polynomial? (20)"
   ]
  },
  {
   "cell_type": "code",
   "execution_count": 9,
   "metadata": {},
   "outputs": [
    {
     "data": {
      "text/plain": [
       "(-2, 2)"
      ]
     },
     "execution_count": 9,
     "metadata": {},
     "output_type": "execute_result"
    },
    {
     "data": {
      "image/png": "[encoded data removed]",
      "text/plain": [
       "<matplotlib.figure.Figure at 0x10548a890>"
      ]
     },
     "metadata": {},
     "output_type": "display_data"
    }
   ],
   "source": [
    "xs = [1,3,5,7,8,9,11]\n",
    "ys = [-1,1,1,-1,1,1,-1]\n",
    "plt.plot(xs,ys,'o')\n",
    "plt.ylim(-2,2)\n"
   ]
  },
  {
   "cell_type": "markdown",
   "metadata": {},
   "source": [
    "degree 6"
   ]
  },
  {
   "cell_type": "markdown",
   "metadata": {},
   "source": [
    "2) Use Legendre method and plot polynomial which passes through all the points given. (80)"
   ]
  },
  {
   "cell_type": "code",
   "execution_count": 10,
   "metadata": {},
   "outputs": [
    {
     "data": {
      "text/plain": [
       "(-3, 3)"
      ]
     },
     "execution_count": 10,
     "metadata": {},
     "output_type": "execute_result"
    },
    {
     "data": {
      "image/png": "[encoded data removed]",
      "text/plain": [
       "<matplotlib.figure.Figure at 0x10548aa10>"
      ]
     },
     "metadata": {},
     "output_type": "display_data"
    }
   ],
   "source": [
    "xs = [1,3,5,7,8,9,11]\n",
    "ys = [-1,1,1,-1,1,1,-1]\n",
    "def legendre(x,l,yl):\n",
    "    ans = 0\n",
    "    for i in range(len(l)):\n",
    "        numerator = 1\n",
    "        denominator = 1\n",
    "        for j in range(len(l)):\n",
    "            if j != i:\n",
    "                numerator = numerator * (x-l[j])\n",
    "                denominator = denominator * (l[i]-l[j])\n",
    "        ans+= yl[i]*numerator/float(denominator)\n",
    "    return ans\n",
    "\n",
    "xxs = np.linspace(0,12,100)\n",
    "plt.plot(xxs,[legendre(x,xs,ys) for x in xxs])\n",
    "plt.plot(xs,ys,'o')\n",
    "plt.ylim(-3,3)\n"
   ]
  },
  {
   "cell_type": "markdown",
   "metadata": {},
   "source": [
    "### 5 Integration\n",
    "\n",
    "<span style=\"color:red\"> 100 </span>"
   ]
  },
  {
   "cell_type": "markdown",
   "metadata": {},
   "source": [
    "1) We want to calculate\n",
    "\n",
    "$$\\int_3^7 \\sqrt{x} \\; dx$$\n",
    "\n",
    "using trapezoid rule such that the answer is at most $10^{-5}$ away from the real answer how many pieces do we need?"
   ]
  },
  {
   "cell_type": "code",
   "execution_count": 10,
   "metadata": {},
   "outputs": [
    {
     "name": "stdout",
     "output_type": "stream",
     "text": [
      "-0.25660011963983365\n",
      "0.06415002990995841\n",
      "0.028511124404425964\n",
      "0.016037507477489603\n",
      "0.010264004785593348\n",
      "0.007127781101106491\n",
      "0.00523673713550681\n",
      "0.004009376869372401\n",
      "0.0031679027116028853\n",
      "TERM: 161.0\n",
      "-0.01349873117890097\n"
     ]
    }
   ],
   "source": [
    "def ddf(x):\n",
    "    return -1./(4*x**(3./2.))\n",
    "\n",
    "def cheati(x):\n",
    "    return 2.*x**(3./2.)/3.\n",
    "def error(a,b,n,xi):\n",
    "    return (b-a)**3/(12.*n**2) * ddf(xi)\n",
    "\n",
    "def findSol(a,b,n,xi):\n",
    "    err = error(a,b,n,xi)\n",
    "    print(err)\n",
    "    while(np.abs(err)>1e-5):\n",
    "        n+=1\n",
    "        err = error(a,b,n,xi)\n",
    "    return n\n",
    "\n",
    "term= findSol(3.,7.,1.,3.)\n",
    "\n",
    "print (\"TERM:\",term,)\n",
    "print(ddf(7.))"
   ]
  },
  {
   "cell_type": "markdown",
   "metadata": {},
   "source": [
    "2) Use trapezoid rule to calculate\n",
    "$$\\int_3^7 \\sqrt{x} \\; dx$$\n",
    "such that your answer is at most $10^{-5}$ from the real answer.\n"
   ]
  },
  {
   "cell_type": "code",
   "execution_count": 12,
   "metadata": {},
   "outputs": [
    {
     "name": "stdout",
     "output_type": "stream",
     "text": [
      "AREA = 8.88273270847\n"
     ]
    }
   ],
   "source": [
    "def f(x):\n",
    "    return x**(1./2.)\n",
    "\n",
    "def calculate(x0,xf,n):\n",
    "    h = (xf-x0)/n\n",
    "    ans = f(x0)/2. + f(xf)/2.\n",
    "    \n",
    "\n",
    "    for i in range(1,n):\n",
    "        ans+=f(x0+h*i)\n",
    "    \n",
    "    ans = h*ans\n",
    "    return ans\n",
    "\n",
    "myx =  calculate(3.,7.,161)\n",
    "\n",
    "print \"AREA =\",myx\n"
   ]
  },
  {
   "cell_type": "markdown",
   "metadata": {},
   "source": [
    "### 6 Derivative\n",
    "\n",
    "<span style=\"color:red\"> 100 </span>"
   ]
  },
  {
   "cell_type": "markdown",
   "metadata": {},
   "source": [
    "1) Find the lowest point in the of function `math.lgamma` in the range of [1,2]. (Give me both x and y) "
   ]
  },
  {
   "cell_type": "code",
   "execution_count": 13,
   "metadata": {},
   "outputs": [
    {
     "data": {
      "text/plain": [
       "[<matplotlib.lines.Line2D at 0x1059c20d0>]"
      ]
     },
     "execution_count": 13,
     "metadata": {},
     "output_type": "execute_result"
    },
    {
     "data": {
      "image/png": "[encoded data removed]",
      "text/plain": [
       "<matplotlib.figure.Figure at 0x105652050>"
      ]
     },
     "metadata": {},
     "output_type": "display_data"
    }
   ],
   "source": [
    "def f(x):\n",
    "    return math.lgamma(x)\n",
    "\n",
    "def df(x,h):\n",
    "    return (f(x+h)-f(x-h))/(2*h)\n",
    "\n",
    "xs = np.linspace(1,2)\n",
    "plt.plot(xs,[f(x) for x in xs])\n"
   ]
  },
  {
   "cell_type": "code",
   "execution_count": 14,
   "metadata": {},
   "outputs": [
    {
     "name": "stdout",
     "output_type": "stream",
     "text": [
      "Lowest (x,y):  (1.4616470336914062, -0.1214862904285966) Slope at that point: -3.51409451538e-07\n"
     ]
    }
   ],
   "source": [
    "\n",
    "def check_sign(yo,yt):\n",
    "    return df(yo,0.01) * df(yt,0.01) < 0\n",
    "\n",
    "def pass_error(x,limit):\n",
    "    return math.fabs(df(x,0.01)) < limit\n",
    "\n",
    "def find_x(x0,x1,limit):\n",
    "    x = (x0+x1)/2\n",
    "#     print f(x),t\n",
    "    if(pass_error(x,limit)):\n",
    "        return x\n",
    "    else:\n",
    "        if(check_sign(x,x0)):\n",
    "            return find_x(x0,x,limit)\n",
    "        else:\n",
    "            return find_x(x,x1,limit)\n",
    "\n",
    "ans= find_x(1,2.,1e-6)\n",
    "print \"Lowest (x,y): \",(ans,f(ans)),\"Slope at that point:\",df(ans,0.01)\n"
   ]
  },
  {
   "cell_type": "markdown",
   "metadata": {},
   "source": [
    "2) Show that \n",
    "$$\\frac{9f(x+h)-f(x+3h)-8f(x)}{6h} = f'(x) + O(h^2)$$"
   ]
  },
  {
   "cell_type": "markdown",
   "metadata": {
    "collapsed": true
   },
   "source": [
    "$$9f(x+h) = 9[f(x)+f'(x)h+\\frac{f''(x)h^2}{2!}+\\frac{f'''(\\xi')h^3}{3!}]$$\n",
    "$$9f(x+h) = 9f(x)+9f'(x)h+\\frac{9f''(x)h^2}{2!}+\\frac{9f'''(\\xi')h^3}{3!}$$\n",
    "\n",
    "$$-f(x+3h) = -[f(x)+f'(x)3h+\\frac{9f''(x)h^2}{2!}+\\frac{27f'''(\\xi')h^3}{3!}]$$\n",
    "$$-f(x+3h) = -f(x)-f'(x)3h-\\frac{9f''(x)h^2}{2!}-\\frac{27f'''(\\xi')h^3}{3!}$$"
   ]
  },
  {
   "cell_type": "markdown",
   "metadata": {},
   "source": [
    "$$\\frac{9f(x+h)-f(x+3h)-8f(x)}{6h} = \\frac{9f(x)+9f'(x)h+\\frac{9f''(x)h^2}{2!}+\\frac{9f'''(\\xi')h^3}{3!}-f(x)-f'(x)3h-\\frac{9f''(x)h^2}{2!}-\\frac{27f'''(\\xi')h^3}{3!} - 8f(x)}{6h} $$\n",
    "\n",
    "$$\\frac{9f(x+h)-f(x+3h)-8f(x)}{6h} = \\frac{6f'(x)h+\\frac{9f'''(\\xi')h^3}{3!}-\\frac{27f'''(\\xi')h^3}{3!}}{6h} $$\n",
    "\n",
    "$$\\frac{9f(x+h)-f(x+3h)-8f(x)}{6h} = f'(x)+\\frac{9f'''(\\xi')h^2}{6*3!}-\\frac{27f'''(\\xi')h^2}{6*3!} $$\n",
    "\n",
    "$$\\frac{9f(x+h)-f(x+3h)-8f(x)}{6h} = f'(x)+ O(h^2) $$\n"
   ]
  },
  {
   "cell_type": "markdown",
   "metadata": {},
   "source": [
    "## Creative Zone (125 Each)\n",
    "\n",
    "The questions may look ridiculous. ** Do not panic **. It is much easier than it looks."
   ]
  },
  {
   "cell_type": "markdown",
   "metadata": {},
   "source": [
    "### 7 Confidence Interval\n",
    "\n",
    "##### Intro\n"
   ]
  },
  {
   "cell_type": "markdown",
   "metadata": {},
   "source": [
    "In the homework you have calculated full width half max which is a measure of how spread out a distribution is there is another measure which has a better statistical intepretation and is widely used called 95% confidence interval.\n",
    "\n",
    "All the statistical interpretations aside(which you will learn in AJ Ko's class), the 95% interval is defined to be an interval symmetric around the most probable(highest value) $\\bar{x}$, \n",
    "$$[\\bar{x} - \\alpha, \\bar{x} + \\alpha]$$ such that the **area under the distribution in this interval is 95% of the total area**. Note that the range is symmetric around the most probable(highest value) $\\bar{x}$.\n",
    "\n",
    "The concept is illustrated in the figure below that the 95% confidence interval of the distribution shown below is approximately [-1.2,1.6] since the highest point is at 0.2 and the area of interval [0.2-1.4, 0.2+1.4] = [-1.2, 1.6] is about 95% of the total area."
   ]
  },
  {
   "cell_type": "code",
   "execution_count": null,
   "metadata": {},
   "outputs": [],
   "source": []
  },
  {
   "cell_type": "code",
   "execution_count": 15,
   "metadata": {},
   "outputs": [
    {
     "data": {
      "text/plain": [
       "<matplotlib.text.Text at 0x105adac90>"
      ]
     },
     "execution_count": 15,
     "metadata": {},
     "output_type": "execute_result"
    },
    {
     "data": {
      "image/png": "[encoded data removed]",
      "text/plain": [
       "<matplotlib.figure.Figure at 0x1058c9150>"
      ]
     },
     "metadata": {},
     "output_type": "display_data"
    }
   ],
   "source": [
    "def gaussian(x):\n",
    "    sigma = 0.7\n",
    "    mu = 0.2\n",
    "    return 1/math.sqrt(2*math.pi*sigma**2)*np.exp(-(x-mu)**2/(2*sigma))\n",
    "\n",
    "xs = np.linspace(-5,5,100)\n",
    "ys = gaussian(xs)\n",
    "\n",
    "xs2 = np.linspace(-1.2,1.6,100)\n",
    "ys2 = gaussian(xs2)\n",
    "\n",
    "\n",
    "\n",
    "plt.plot(xs, ys)\n",
    "plt.fill_between(xs2, 0, ys2,color='green')\n",
    "plt.axvline(1.6,color='r')\n",
    "plt.axvline(-1.2,color='r')\n",
    "plt.axvline(0.2,color='r',ls='dashed')\n",
    "plt.text(-4,0.3, r'$\\bar{x}-\\alpha$',size=20)\n",
    "plt.text(2.3, 0.3, r'$\\bar{x}+\\alpha$',size=20)\n",
    "plt.text(0.8, 0.5,r'$\\bar{x}$', size=20)\n"
   ]
  },
  {
   "cell_type": "markdown",
   "metadata": {},
   "source": [
    "##### Your task\n",
    "\n",
    "For this problem your task is to find 95% confidence interval for the following distribution.\n",
    "$$f(x) = \\frac{1}{\\pi\\gamma} \\frac{1}{(x-\\mu)^2+\\gamma^2}$$\n",
    "with $\\mu = 1.$ and $\\gamma = 2.$. Your answer should be a range. (Do it for a reasonable accuracy. If you have done the homework, you know what I mean)\n",
    "\n",
    "You may assume that the total area from $x=-\\infty, \\infty$ of this distribution is 1. (It actually is 1.)"
   ]
  },
  {
   "cell_type": "code",
   "execution_count": 15,
   "metadata": {},
   "outputs": [
    {
     "data": {
      "text/plain": [
       "[<matplotlib.lines.Line2D at 0x10f3126a0>]"
      ]
     },
     "execution_count": 15,
     "metadata": {},
     "output_type": "execute_result"
    },
    {
     "data": {
      "image/png": "[encoded data removed]",
      "text/plain": [
       "<matplotlib.figure.Figure at 0x10f1b0470>"
      ]
     },
     "metadata": {},
     "output_type": "display_data"
    }
   ],
   "source": [
    "def cauchy(x):\n",
    "    mu = 1.\n",
    "    gamma = 2.\n",
    "    return 1./(math.pi*gamma)*(gamma**2/((x-mu)**2+gamma**2))\n",
    "\n",
    "xs = np.linspace(-10,10, 100)\n",
    "ys = cauchy(xs)\n",
    "plt.plot(xs, ys)"
   ]
  },
  {
   "cell_type": "code",
   "execution_count": 16,
   "metadata": {},
   "outputs": [
    {
     "data": {
      "text/plain": [
       "<matplotlib.lines.Line2D at 0x10f409908>"
      ]
     },
     "execution_count": 16,
     "metadata": {},
     "output_type": "execute_result"
    },
    {
     "data": {
      "image/png": "[encoded data removed]",
      "text/plain": [
       "<matplotlib.figure.Figure at 0x10f409400>"
      ]
     },
     "metadata": {},
     "output_type": "display_data"
    }
   ],
   "source": [
    "def df(x,h):\n",
    "    return (cauchy(x+h)-cauchy(x-h))/(2*h)\n",
    "\n",
    "def check_sign(yo,yt):\n",
    "    return df(yo,0.01) * df(yt,0.01) < 0\n",
    "\n",
    "def pass_error(x,limit):\n",
    "    return math.fabs(df(x,0.01)) < limit\n",
    "\n",
    "def find_x(x0,x1,limit):\n",
    "    x = (x0+x1)/2\n",
    "#     print f(x),t\n",
    "    if(pass_error(x,limit)):\n",
    "        return x\n",
    "    else:\n",
    "        if(check_sign(x,x0)):\n",
    "            return find_x(x0,x,limit)\n",
    "        else:\n",
    "            return find_x(x,x1,limit)\n",
    "\n",
    "maxx= find_x(0,3.,1e-6)\n",
    "xs = np.linspace(-10,10, 100)\n",
    "ys = cauchy(xs)\n",
    "plt.plot(xs, ys)\n",
    "plt.axvline(maxx,color='r')"
   ]
  },
  {
   "cell_type": "code",
   "execution_count": 25,
   "metadata": {},
   "outputs": [
    {
     "name": "stdout",
     "output_type": "stream",
     "text": [
      "1.0000076293945312\n",
      "Alpha= 25.414087078017573 [x-alpha,x+alpha] [-24.414079448623042, 26.414094707412104]\n"
     ]
    },
    {
     "data": {
      "text/plain": [
       "<matplotlib.lines.Line2D at 0x1100ba470>"
      ]
     },
     "execution_count": 25,
     "metadata": {},
     "output_type": "execute_result"
    },
    {
     "data": {
      "image/png": "[encoded data removed]",
      "text/plain": [
       "<matplotlib.figure.Figure at 0x10f409c18>"
      ]
     },
     "metadata": {},
     "output_type": "display_data"
    }
   ],
   "source": [
    "def calculate(x0,xf,n):\n",
    "    h = (xf-x0)/n\n",
    "    ans = cauchy(x0)/2. + cauchy(xf)/2.\n",
    "    \n",
    "    for i in range(1,n):\n",
    "        ans+=cauchy(x0+h*i)\n",
    "    \n",
    "    ans = h*ans\n",
    "    return ans\n",
    "\n",
    "def findSol(s,f,x,n,b):\n",
    "    cf = f\n",
    "    ans = calculate(x-s,x+s,n)\n",
    "    while np.abs(ans-b) > 1e-6: \n",
    "\n",
    "        if ans > b:\n",
    "            s = (s+cf)/2.            \n",
    "        else:\n",
    "            os = s\n",
    "\n",
    "            s = f-(s+cf)/2.\n",
    "            cf = os\n",
    "        ans = calculate(x-s,x+s,n)\n",
    "    return s,ans\n",
    "\n",
    "alp,area = findSol(0.,100.,maxx,100,0.95)\n",
    "print (\"Alpha=\",alp,\"[x-alpha,x+alpha]\",[maxx-alp,maxx+alp])\n",
    "xs = np.linspace(-30,30, 100)\n",
    "ys = cauchy(xs)\n",
    "plt.plot(xs, ys)\n",
    "plt.axvline(maxx,color='r')\n",
    "plt.axvline(maxx-alp,color='r')\n",
    "plt.axvline(maxx+alp,color='r')\n",
    "\n"
   ]
  },
  {
   "cell_type": "code",
   "execution_count": null,
   "metadata": {
    "collapsed": true
   },
   "outputs": [],
   "source": []
  },
  {
   "cell_type": "code",
   "execution_count": null,
   "metadata": {
    "collapsed": true
   },
   "outputs": [],
   "source": []
  },
  {
   "cell_type": "markdown",
   "metadata": {},
   "source": [
    "### 8 Sum of $i^k$\n",
    "\n",
    "<span style=\"color:red\"> 100 </span>\n",
    "\n",
    "\n",
    "#### Intro\n",
    "\n",
    "In discrete math we learn that the sum of integer from $1 \\ldots n$ is given by\n",
    "$$\\sum_{i=1}^n i = \\frac{n(n-1)}{2} = \\frac{n^2}{2} - \\frac{n}{2}$$\n",
    "and\n",
    "$$\\sum_{i=1}^n i^2 = \\frac{n^3}{3}+\\frac{n^2}{2}+\\frac{n}{6}$$\n",
    "and\n",
    "$$\\sum_{i=1}^n i^3 = \\left( \\frac{n(n-1)}{2} \\right)^2 = \\frac{n^4}{4} + \\ldots$$\n",
    "\n",
    "As you may notice, one can actually show that $\\displaystyle \\sum_{i=1}^n i^k$ has is a polynomial of degree $k+1$.\n",
    "\n",
    "To calculate the sum if we use for loop and calculate the left hand side it will be $O(n)$. But if we use the right hand side we can calculate it in $O(1)$. So, calculating it with a closed form is a much better approach.\n",
    "\n",
    "But as you recall getting the close formed formula is quite difficult to do by hands. In this problem we will use legendre method to find it.\n",
    "\n",
    "#### Problem\n",
    "\n",
    "In this problem we want to calculate \n",
    "$$\\sum_{i=1}^n i^7$$\n",
    "We expect this to have a closed form of polynomial of degree 8.\n",
    "\n",
    "Use what you learn about Legendre Method and write a function that takes in $n$ and calculate $$\\sum_{i=1}^n i^7$$ in O(1). (Any other methods will not be accepted)\n",
    "\n",
    "##### Warning: don't try to sum up too far as it can cause integer overflow."
   ]
  },
  {
   "cell_type": "code",
   "execution_count": 35,
   "metadata": {},
   "outputs": [
    {
     "data": {
      "text/plain": [
       "241561425.0"
      ]
     },
     "execution_count": 35,
     "metadata": {},
     "output_type": "execute_result"
    },
    {
     "data": {
      "image/png": "[encoded data removed]",
      "text/plain": [
       "<matplotlib.figure.Figure at 0x110bd4a90>"
      ]
     },
     "metadata": {},
     "output_type": "display_data"
    }
   ],
   "source": [
    "def f(x): #<< why not comprehension\n",
    "    s = 0\n",
    "    for i in range(x):\n",
    "        s+= (i+1)**7\n",
    "    return s\n",
    "xs = [1,2,3,4,5,6,7,8,9]\n",
    "ys = [f(x) for x in xs]\n",
    "# nxs = range(11)\n",
    "def legendre(x,l,yl):\n",
    "    ans = 0\n",
    "    for i in range(len(l)):\n",
    "        numerator = 1\n",
    "        denominator = 1\n",
    "        for j in range(len(l)):\n",
    "            if j != i:\n",
    "                numerator = numerator * (x-l[j])\n",
    "                denominator = denominator * (l[i]-l[j])\n",
    "        ans+= yl[i]*numerator/float(denominator)\n",
    "    return ans\n",
    "\n",
    "def findSeven(n):\n",
    "    return legendre(n,xs,ys)\n",
    "\n",
    "# plt.plot(xs,ys)\n",
    "plt.plot(range(20),[findSeven(x) for x in range(20)],lw=6,color='k')\n",
    "\n",
    "plt.plot(range(20),[f(x) for x in range(20)],lw=6,ls=\"--\",color='y')\n",
    "\n",
    "findSeven(14)"
   ]
  },
  {
   "cell_type": "code",
   "execution_count": null,
   "metadata": {},
   "outputs": [],
   "source": []
  },
  {
   "cell_type": "code",
   "execution_count": null,
   "metadata": {
    "collapsed": true
   },
   "outputs": [],
   "source": []
  },
  {
   "cell_type": "code",
   "execution_count": null,
   "metadata": {
    "collapsed": true
   },
   "outputs": [],
   "source": []
  }
 ],
 "metadata": {
  "kernelspec": {
   "display_name": "Python 3",
   "language": "python",
   "name": "python3"
  },
  "language_info": {
   "codemirror_mode": {
    "name": "ipython",
    "version": 3
   },
   "file_extension": ".py",
   "mimetype": "text/x-python",
   "name": "python",
   "nbconvert_exporter": "python",
   "pygments_lexer": "ipython3",
   "version": "3.6.2"
  }
 },
 "nbformat": 4,
 "nbformat_minor": 1
}

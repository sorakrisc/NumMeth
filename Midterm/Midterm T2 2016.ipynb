{
 "cells": [
  {
   "cell_type": "markdown",
   "metadata": {},
   "source": [
    "# Midterm T2 2016\n",
    "\n",
    "The midterm consists of two parts: \n",
    "\n",
    " - **Easy Zone** which worth 100 point each which most of them you can just copy from exercise/homework\n",
    " - **Creative zone** which worth 125 points each.\n",
    " - The score for each sub question is equal unless indicated.\n",
    " - Comment your code!! If it takes me more than 5 minutes to figure out what your code does, I won't grade it.\n",
    "\n",
    "The total score is 850 but you will be graded out of 0.9*850=765.\n"
   ]
  },
  {
   "cell_type": "code",
   "execution_count": 2,
   "metadata": {},
   "outputs": [],
   "source": [
    "%matplotlib inline\n",
    "import numpy as np\n",
    "from matplotlib import pyplot as plt\n",
    "import math"
   ]
  },
  {
   "cell_type": "markdown",
   "metadata": {},
   "source": [
    "## Easy Zone (100 Each)"
   ]
  },
  {
   "cell_type": "markdown",
   "metadata": {},
   "source": [
    "### 1 Taylor Series\n",
    "\n",
    "1) Find the first 3 *non-zero* terms in Taylor series of\n",
    "$$f(x) = sin(2x)$$"
   ]
  },
  {
   "cell_type": "markdown",
   "metadata": {
    "collapsed": true
   },
   "source": [
    "$\n",
    " f(x) = 2x -\\frac{8x^3}{3!} + \\frac{32x^5}{5!}\n",
    "$"
   ]
  },
  {
   "cell_type": "markdown",
   "metadata": {},
   "source": [
    "2) Use the Taylor series you found in 1) to find $$sin(0.2)$$ **along with bound on error**."
   ]
  },
  {
   "cell_type": "code",
   "execution_count": 3,
   "metadata": {},
   "outputs": [
    {
     "name": "stdout",
     "output_type": "stream",
     "text": [
      "sin(0.2) on three term tay= 0.3894186666666667\n",
      "bound on error: 1.7659496070672113e-08\n"
     ]
    }
   ],
   "source": [
    "def threeTermTayOfSin2x(x):\n",
    "    return 2*x - 8*(x**3)/(math.factorial(3)) + 32*(x**5)/(math.factorial(5))\n",
    "\n",
    "print(\"sin(0.2) on three term tay=\",threeTermTayOfSin2x(0.2) )\n",
    "print(\"bound on error:\",64*math.sin(0.2)*0.1**6/math.factorial(6))"
   ]
  },
  {
   "cell_type": "markdown",
   "metadata": {},
   "source": [
    "## 2) Bisection"
   ]
  },
  {
   "cell_type": "markdown",
   "metadata": {},
   "source": [
    "We know that \n",
    "\n",
    "$$\\sin\\left(\\frac{\\pi}{4}\\right) = \\cos\\left(\\frac{\\pi}{4}\\right)$$\n",
    "\n",
    "This means that we can find the value of $\\pi$ by finding the solution of\n",
    "\n",
    "$$\\sin(x) = \\cos(x)$$\n",
    "\n",
    "Then multiply the solution by 4. Then we get the value of $\\pi$."
   ]
  },
  {
   "cell_type": "markdown",
   "metadata": {},
   "source": [
    "1) Since we multiply solution by 4 at the end. This means that if we want the value of $\\pi$ that is accurate at least $10^{-6}$ we need to make sure that our method of finding the solution to $\\sin(x) = \\cos(x)$ is accurate at least $\\displaystyle \\frac{10^{-6}}{4}$.\n",
    "\n",
    "If our initial range is from $x=[0,2]$ and the method we use is bisection, how many iterations do we need to make sure that the solution is at most $\\displaystyle\\frac{10^{-6}}{4}$ from the real answer."
   ]
  },
  {
   "cell_type": "code",
   "execution_count": 4,
   "metadata": {},
   "outputs": [
    {
     "name": "stdout",
     "output_type": "stream",
     "text": [
      "iteration > 21.931568569324174\n"
     ]
    }
   ],
   "source": [
    "iteration = math.log2(8*10**6) -1\n",
    "print(\"iteration >\",iteration)"
   ]
  },
  {
   "cell_type": "markdown",
   "metadata": {},
   "source": [
    "2) Find the value of $\\pi$ that is accurate at least $10^{-6}$ using the method above."
   ]
  },
  {
   "cell_type": "code",
   "execution_count": 6,
   "metadata": {},
   "outputs": [
    {
     "name": "stdout",
     "output_type": "stream",
     "text": [
      "3.141592653589793\n"
     ]
    },
    {
     "data": {
      "text/plain": [
       "3.141592025756836"
      ]
     },
     "execution_count": 6,
     "metadata": {},
     "output_type": "execute_result"
    }
   ],
   "source": [
    "def f(x):\n",
    "    return math.sin(x) - math.cos(x)\n",
    "def bisection(f, l, r,n):\n",
    "    left = l\n",
    "    right = r\n",
    "    mid = (l+r)/2.0\n",
    "    assert(f(left)*f(right) < 0)\n",
    "    for i in range(n):\n",
    "        mid = (left+right)/2.0\n",
    "        if (f(mid)* f(left) < 0):\n",
    "            right = mid\n",
    "        else:\n",
    "            left = mid\n",
    "    return mid\n",
    "\n",
    "print (math.pi)\n",
    "bisection(f, 0, 2, 22)*4\n"
   ]
  },
  {
   "cell_type": "markdown",
   "metadata": {},
   "source": [
    "### 3 Newton's Method"
   ]
  },
  {
   "cell_type": "markdown",
   "metadata": {},
   "source": [
    "1) (40) In the homework we found that we can find $\\sqrt{x}$ using \n",
    "\n",
    "$$x_{n+1}  = \\frac{\\displaystyle x_{n} + \\frac{a}{x_n}}{2}$$\n",
    "\n",
    "Derive an analogous relation for finding $\\sqrt[5]{x}$"
   ]
  },
  {
   "cell_type": "markdown",
   "metadata": {
    "collapsed": true
   },
   "source": [
    "$$\n",
    "    x_{n+1} = x_n -\\frac{f(x_n)}{f'(x_n)}\n",
    "$$\n",
    "\n",
    "\n",
    "$$\n",
    "    = x_n -\\frac{x_n^5-a}{5x_n^4}\n",
    "$$\n",
    "\n",
    "$$\n",
    "    = \\frac{5x_n^5 - x_n^5 + a}{5x_n^4}\n",
    "$$\n",
    "\n",
    "$$\n",
    "    = \\frac{4x_n^5 + a}{5x_n^4}\n",
    "$$\n",
    "$$\n",
    "    = \\frac{4x_n + \\frac{a}{x_n^4}}{5}\n",
    "$$"
   ]
  },
  {
   "cell_type": "markdown",
   "metadata": {},
   "source": [
    "2) (40) Find $\\sqrt[5]{31}$ to a decent accuracy using what you found above"
   ]
  },
  {
   "cell_type": "code",
   "execution_count": 30,
   "metadata": {},
   "outputs": [
    {
     "name": "stdout",
     "output_type": "stream",
     "text": [
      "ANS: 1.9873408102930585\n"
     ]
    }
   ],
   "source": [
    "def next5Rt(x,a):\n",
    "    return (4*x + a/x**4)/5\n",
    "def find5Rt(f, x, a, itera):\n",
    "    if (itera == 0):\n",
    "        return x\n",
    "    else:\n",
    "        return find5Rt(f, next5Rt(x,a), a, itera-1)\n",
    "print(\"ANS:\",find5Rt(next5Rt,1.5, 31,5))"
   ]
  },
  {
   "cell_type": "markdown",
   "metadata": {},
   "source": [
    "3) (20) Newtons's Method vs Bisection method.\n",
    "\n",
    "3.1) Which one converge faster?\n",
    "\n",
    "3.2) Why should we bother using slower one?"
   ]
  },
  {
   "cell_type": "markdown",
   "metadata": {
    "collapsed": true
   },
   "source": [
    "ANS:\n",
    "\n",
    "3.1) newton method is faster it coverges quadratically but bisection mehod coverges linearly\n",
    "\n",
    "3.2) Newton's method is instability. If you hit a place where the function is close to flat, it may send your next iteration out beyond Pluto. And in fact, there is no guarantee of convergence. You can find it getting caught in a loop. On the other hand, Bisection Method, Guaranteed convergence, provided you can straddle the root at the start. Easily understood, easily programmed, easily performed, slow as blazes. Never sends your iteration off into the wild blue yonder. But still slow as blazes. This is your fallback method when all else fails."
   ]
  },
  {
   "cell_type": "markdown",
   "metadata": {},
   "source": [
    "### 4 Legendre"
   ]
  },
  {
   "cell_type": "markdown",
   "metadata": {},
   "source": [
    "1)If we use Legendre method to find polynomail which passes through all thsese points. What would be the degree of the polynomial? (20)"
   ]
  },
  {
   "cell_type": "code",
   "execution_count": 15,
   "metadata": {},
   "outputs": [
    {
     "data": {
      "text/plain": [
       "(-2, 2)"
      ]
     },
     "execution_count": 15,
     "metadata": {},
     "output_type": "execute_result"
    },
    {
     "data": {
      "image/png": "[encoded data removed]",
      "text/plain": [
       "<matplotlib.figure.Figure at 0x106060290>"
      ]
     },
     "metadata": {},
     "output_type": "display_data"
    }
   ],
   "source": [
    "xs = [1,3,5,7,8,9,11]\n",
    "ys = [-1,1,1,-1,1,1,-1]\n",
    "plt.plot(xs,ys,'o')\n",
    "plt.ylim(-2,2)"
   ]
  },
  {
   "cell_type": "markdown",
   "metadata": {},
   "source": [
    "ANS: degree 6"
   ]
  },
  {
   "cell_type": "markdown",
   "metadata": {},
   "source": [
    "2) Use Legendre method and plot polynomial which passes through all the points given. (80)"
   ]
  },
  {
   "cell_type": "code",
   "execution_count": 41,
   "metadata": {},
   "outputs": [
    {
     "data": {
      "text/plain": [
       "(-7, 7)"
      ]
     },
     "execution_count": 41,
     "metadata": {},
     "output_type": "execute_result"
    },
    {
     "data": {
      "image/png": "[encoded data removed]",
      "text/plain": [
       "<matplotlib.figure.Figure at 0x10f3f7ba8>"
      ]
     },
     "metadata": {},
     "output_type": "display_data"
    }
   ],
   "source": [
    "def legendre_generator(xs, ys):\n",
    "    nterm = len(xs)\n",
    "    def legendre(x):\n",
    "        ans = 0\n",
    "        for i in range(nterm):\n",
    "            y = ys[i]\n",
    "            temp=1\n",
    "            for j in range(nterm):\n",
    "                if (j!=i):\n",
    "                    temp *= (x-xs[j])/(xs[i]-xs[j])\n",
    "            ans+=(y*temp)\n",
    "        return ans\n",
    "    return legendre\n",
    "xs = [1,3,5,7,8,9,11]\n",
    "ys = [-1,1,1,-1,1,1,-1]\n",
    "leg = legendre_generator(xs, ys)\n",
    "\n",
    "plt.plot(xs,ys,'o')\n",
    "linex =np.linspace(0,12,1000)\n",
    "liney =[leg(x) for x in linex]\n",
    "plt.plot(linex,liney)\n",
    "plt.ylim(-7,7)"
   ]
  },
  {
   "cell_type": "markdown",
   "metadata": {},
   "source": [
    "### 5 Integration"
   ]
  },
  {
   "cell_type": "markdown",
   "metadata": {},
   "source": [
    "1) We want to calculate\n",
    "\n",
    "$$\\int_3^7 \\sqrt{x} \\; dx$$\n",
    "\n",
    "using trapezoid rule such that the answer is at most $10^{-5}$ away from the real answer how many pieces do we need?"
   ]
  },
  {
   "cell_type": "code",
   "execution_count": 80,
   "metadata": {},
   "outputs": [
    {
     "name": "stdout",
     "output_type": "stream",
     "text": [
      "0.048112522432468816\n",
      "-0.048112522432468816\n",
      "n >= 160.1874276089836\n"
     ]
    }
   ],
   "source": [
    "def fpp(x):\n",
    "    return (-1/4)*(x**(-3/2))\n",
    "def findMaxM(a,b):\n",
    "    lst=[]\n",
    "    for i in range(a,b+1):\n",
    "        lst.append(abs(fpp(i)))\n",
    "    return max(lst)\n",
    "def trapError(a,b,approx):\n",
    "    return math.sqrt(((b-a)**3) *findMaxM(a,b) /(12*approx))\n",
    "\n",
    "print(findMaxM(3,7))\n",
    "print(fpp(3))\n",
    "print(\"n >=\",trapError(3,7,10**-5))\n"
   ]
  },
  {
   "cell_type": "markdown",
   "metadata": {},
   "source": [
    "2) Use trapezoid rule to calculate\n",
    "$$\\int_3^7 \\sqrt{x} \\; dx$$\n",
    "such that your answer is at most $10^{-5}$ from the real answer.\n"
   ]
  },
  {
   "cell_type": "code",
   "execution_count": 72,
   "metadata": {},
   "outputs": [
    {
     "name": "stdout",
     "output_type": "stream",
     "text": [
      "8.882732708470549\n"
     ]
    }
   ],
   "source": [
    "def f(x):\n",
    "    return x**0.5\n",
    "def TrapezoidRule(f, a, b, n):\n",
    "    h=(b-a)/n\n",
    "    summ=0\n",
    "    for i in range(1,n):\n",
    "        summ+=f(a+i*h)\n",
    "    return (h/2)*(f(a)+f(b)) + h*summ\n",
    "print(TrapezoidRule(f, 3, 7, 161))\n"
   ]
  },
  {
   "cell_type": "markdown",
   "metadata": {},
   "source": [
    "### 6 Derivative"
   ]
  },
  {
   "cell_type": "markdown",
   "metadata": {},
   "source": [
    "1) Find the lowest point in the of function `math.lgamma` in the range of [1,2]. (Give me both x and y) "
   ]
  },
  {
   "cell_type": "code",
   "execution_count": 8,
   "metadata": {},
   "outputs": [
    {
     "name": "stdout",
     "output_type": "stream",
     "text": [
      "x: 1.4616317749023438 y: -0.12148629053578297\n"
     ]
    },
    {
     "data": {
      "text/plain": [
       "[<matplotlib.lines.Line2D at 0x10f6e99b0>]"
      ]
     },
     "execution_count": 8,
     "metadata": {},
     "output_type": "execute_result"
    },
    {
     "data": {
      "image/png": "[encoded data removed]",
      "text/plain": [
       "<matplotlib.figure.Figure at 0x10f62a710>"
      ]
     },
     "metadata": {},
     "output_type": "display_data"
    }
   ],
   "source": [
    "xs = np.linspace(1,2,1000)\n",
    "ys = [math.lgamma(x) for x in xs]\n",
    "plt.plot(xs,ys)\n",
    "\n",
    "def f(x):\n",
    "    return math.lgamma(x)\n",
    "def fp(x):\n",
    "    return (f(x+0.001)-f(x-0.001))/(2*0.001)\n",
    "def bisection(f, l, r,n):\n",
    "    left = l\n",
    "    right = r\n",
    "    mid = (l+r)/2.0\n",
    "    assert(f(left)*f(right) < 0)\n",
    "    for i in range(n):\n",
    "        mid = (left+right)/2.0\n",
    "        if (f(mid)* f(left) < 0):\n",
    "            right = mid\n",
    "        else:\n",
    "            left = mid\n",
    "    return mid\n",
    "ansx= bisection(fp,1.4,1.6,17)\n",
    "ansy= f(bisection(fp,1.4,1.6,17))\n",
    "print(\"x:\",ansx,\"y:\",ansy)\n",
    "plt.plot(ansx,ansy,\"o\")"
   ]
  },
  {
   "cell_type": "markdown",
   "metadata": {},
   "source": [
    "2) Show that \n",
    "$$\\frac{9f(x+h)-f(x+3h)-8f(x)}{6h} = f'(x) + O(h^2)$$"
   ]
  },
  {
   "cell_type": "code",
   "execution_count": 81,
   "metadata": {},
   "outputs": [
    {
     "data": {
      "text/plain": [
       "16.609640474436812"
      ]
     },
     "execution_count": 81,
     "metadata": {},
     "output_type": "execute_result"
    }
   ],
   "source": [
    "math.log2(0.2/10**-6)-1"
   ]
  },
  {
   "cell_type": "markdown",
   "metadata": {},
   "source": [
    "## Creative Zone (125 Each)\n",
    "\n",
    "The questions may look ridiculous. ** Do not panic **. It is much easier than it looks."
   ]
  },
  {
   "cell_type": "markdown",
   "metadata": {},
   "source": [
    "### 7 Confidence Interval\n",
    "\n",
    "##### Intro\n"
   ]
  },
  {
   "cell_type": "markdown",
   "metadata": {},
   "source": [
    "In the homework you have calculated full width half max which is a measure of how spread out a distribution is there is another measure which has a better statistical intepretation and is widely used called 95% confidence interval.\n",
    "\n",
    "All the statistical interpretations aside(which you will learn in AJ Ko's class), the 95% interval is defined to be an interval symmetric around the most probable(highest value) $\\bar{x}$, \n",
    "$$[\\bar{x} - \\alpha, \\bar{x} + \\alpha]$$ such that the **area under the distribution in this interval is 95% of the total area**. Note that the range is symmetric around the most probable(highest value) $\\bar{x}$.\n",
    "\n",
    "The concept is illustrated in the figure below that the 95% confidence interval of the distribution shown below is approximately [-1.2,1.6] since the highest point is at 0.2 and the area of interval [0.2-1.4, 0.2+1.4] = [-1.2, 1.6] is about 95% of the total area."
   ]
  },
  {
   "cell_type": "code",
   "execution_count": 88,
   "metadata": {},
   "outputs": [
    {
     "data": {
      "text/plain": [
       "<matplotlib.text.Text at 0x11089aef0>"
      ]
     },
     "execution_count": 88,
     "metadata": {},
     "output_type": "execute_result"
    },
    {
     "data": {
      "image/png": "[encoded data removed]",
      "text/plain": [
       "<matplotlib.figure.Figure at 0x10f91b208>"
      ]
     },
     "metadata": {},
     "output_type": "display_data"
    }
   ],
   "source": [
    "def gaussian(x):\n",
    "    sigma = 0.7\n",
    "    mu = 0.2\n",
    "    return 1/math.sqrt(2*math.pi*sigma**2)*np.exp(-(x-mu)**2/(2*sigma))\n",
    "\n",
    "xs = np.linspace(-5,5,100)\n",
    "ys = gaussian(xs)\n",
    "\n",
    "xs2 = np.linspace(-1.2,1.6,100)\n",
    "ys2 = gaussian(xs2)\n",
    "\n",
    "\n",
    "plt.plot(xs, ys)\n",
    "plt.fill_between(xs2, 0, ys2,color='green')\n",
    "plt.axvline(1.6,color='r')\n",
    "plt.axvline(-1.2,color='r')\n",
    "plt.axvline(0.2,color='r',ls='dashed')\n",
    "plt.text(-4,0.3, r'$\\bar{x}-\\alpha$',size=20)\n",
    "plt.text(2.3, 0.3, r'$\\bar{x}+\\alpha$',size=20)\n",
    "plt.text(0.8, 0.5,r'$\\bar{x}$', size=20)\n"
   ]
  },
  {
   "cell_type": "markdown",
   "metadata": {},
   "source": [
    "##### Your task\n",
    "\n",
    "For this problem your task is to find 95% confidence interval for the following distribution.\n",
    "$$f(x) = \\frac{1}{\\pi\\gamma} \\frac{1}{(x-\\mu)^2+\\gamma^2}$$\n",
    "with $\\mu = 1.$ and $\\gamma = 2.$. Your answer should be a range. (Do it for a reasonable accuracy. If you have done the homework, you know what I mean)\n",
    "\n",
    "You may assume that the total area from $x=-\\infty, \\infty$ of this distribution is 1. (It actually is 1.)"
   ]
  },
  {
   "cell_type": "code",
   "execution_count": 131,
   "metadata": {},
   "outputs": [
    {
     "name": "stdout",
     "output_type": "stream",
     "text": [
      "0.9835392570818964\n",
      "xbar = 0.9999999850988388\n",
      "Alpha:  25.414014265624694 CI: [-24.414014280525855, 26.414014250723532]\n"
     ]
    },
    {
     "data": {
      "text/plain": [
       "<matplotlib.lines.Line2D at 0x113288f60>"
      ]
     },
     "execution_count": 131,
     "metadata": {},
     "output_type": "execute_result"
    },
    {
     "data": {
      "image/png": "[encoded data removed]",
      "text/plain": [
       "<matplotlib.figure.Figure at 0x113821780>"
      ]
     },
     "metadata": {},
     "output_type": "display_data"
    }
   ],
   "source": [
    "def cauchy(x):\n",
    "    mu = 1.\n",
    "    gamma = 2.\n",
    "    return 1./(math.pi*gamma)*(gamma**2/((x-mu)**2+gamma**2))\n",
    "def fp2(x):\n",
    "    return (cauchy(x+0.0001)-cauchy(x-0.0001))/2*0.0001\n",
    "def bisection2(f, l, r,n):\n",
    "    left = l\n",
    "    right = r\n",
    "    mid = (l+r)/2.0\n",
    "    assert(f(left)*f(right) < 0)\n",
    "    for i in range(n):\n",
    "        mid = (left+right)/2.0\n",
    "        if (f(mid)* f(left) < 0):\n",
    "            right = mid\n",
    "        else:\n",
    "            left = mid\n",
    "    return mid\n",
    "def TrapezoidRule(f, a, b, n):\n",
    "    h=(b-a)/n\n",
    "    summ=0\n",
    "    for i in range(1,n):\n",
    "        summ+=f(a+i*h)\n",
    "    return (h/2)*(f(a)+f(b)) + h*summ\n",
    "\n",
    "def findAlpha(f,xbar,pivAlp,n,ci):\n",
    "    ans= TrapezoidRule(f, xbar-pivAlp, xbar+pivAlp, n)\n",
    "    while(abs(ans-ci)>10**-6):\n",
    "        if(ans>ci):\n",
    "            pivAlp/=2\n",
    "        elif(ans<ci):\n",
    "            pivAlp= pivAlp+ pivAlp/2\n",
    "        else:\n",
    "            return pivAlp\n",
    "        ans= TrapezoidRule(f, xbar-pivAlp, xbar+pivAlp, n)\n",
    "    return pivAlp\n",
    "print(TrapezoidRule(cauchy, -100,100,100))\n",
    "\n",
    "xs = np.linspace(-30,30, 1000)\n",
    "ys = cauchy(xs)\n",
    "plt.plot(xs, ys)\n",
    "xbar=bisection2( fp2, 0,1.5,25 )\n",
    "print (\"xbar =\",xbar)\n",
    "plt.axvline(xbar, color=\"r\", ls=\"dashed\")\n",
    "plt.text(1.1,0.02, r'$\\bar{x}=1$',size=20)\n",
    "\n",
    "alpha =findAlpha(cauchy,xbar,100,100,0.95)\n",
    "print(\"Alpha: \", alpha, \"CI: [\"+str(xbar-alpha)+\",\",str(xbar+alpha)+\"]\")\n",
    "plt.axvline(xbar-alpha, color=\"r\")\n",
    "plt.axvline(xbar+alpha, color=\"r\")\n",
    "plt.axhline(0, color=\"black\")"
   ]
  },
  {
   "cell_type": "markdown",
   "metadata": {},
   "source": [
    "### 8 Sum of $i^k$\n",
    "\n",
    "\n",
    "#### Intro\n",
    "\n",
    "In discrete math we learn that the sum of integer from $1 \\ldots n$ is given by\n",
    "$$\\sum_{i=1}^n i = \\frac{n(n-1)}{2} = \\frac{n^2}{2} - \\frac{n}{2}$$\n",
    "and\n",
    "$$\\sum_{i=1}^n i^2 = \\frac{n^3}{3}+\\frac{n^2}{2}+\\frac{n}{6}$$\n",
    "and\n",
    "$$\\sum_{i=1}^n i^3 = \\left( \\frac{n(n-1)}{2} \\right)^2 = \\frac{n^4}{4} + \\ldots$$\n",
    "\n",
    "As you may notice, one can actually show that $\\displaystyle \\sum_{i=1}^n i^k$ has is a polynomial of degree $k+1$.\n",
    "\n",
    "To calculate the sum if we use for loop and calculate the left hand side it will be $O(n)$. But if we use the right hand side we can calculate it in $O(1)$. So, calculating it with a closed form is a much better approach.\n",
    "\n",
    "But as you recall getting the close formed formula is quite difficult to do by hands. In this problem we will use legendre polynomial to find it.\n",
    "\n",
    "#### Problem\n",
    "\n",
    "\n",
    "Use what you learn about Legendre Method and write a function that takes in $n$ and $k$ and calculate $$\\sum_{i=1}^n i^k$$ in $O(k)$ (NOT $O(n)$).\n",
    "\n",
    "##### Warning: don't try to sum up too far as it can cause integer overflow."
   ]
  },
  {
   "cell_type": "code",
   "execution_count": null,
   "metadata": {},
   "outputs": [],
   "source": []
  },
  {
   "cell_type": "code",
   "execution_count": 220,
   "metadata": {},
   "outputs": [
    {
     "data": {
      "text/plain": [
       "3103591687.000244"
      ]
     },
     "execution_count": 220,
     "metadata": {},
     "output_type": "execute_result"
    }
   ],
   "source": [
    "def sumiPowK(n, k):\n",
    "    \n",
    "    def f(x):\n",
    "        s = 0\n",
    "        for i in range(x):\n",
    "            s+= (i+1)**k\n",
    "        return s\n",
    "\n",
    "    def legendre_generator(xs, ys):\n",
    "        nterm = len(xs)\n",
    "        def legendre(x):\n",
    "            ans = 0\n",
    "            for i in range(nterm):\n",
    "                y = ys[i]\n",
    "                temp=1\n",
    "                for j in range(nterm):\n",
    "                    if (j!=i):\n",
    "                        temp *= (x-xs[j])/(xs[i]-xs[j])\n",
    "                ans+=(y*temp)\n",
    "            return ans\n",
    "        return legendre\n",
    "    xs = range(1,k+3)\n",
    "    ys = [f(x) for x in xs]\n",
    "    return legendre_generator(xs, ys)(n)\n",
    "\n",
    "sumiPowK(14,8)\n"
   ]
  },
  {
   "cell_type": "code",
   "execution_count": null,
   "metadata": {},
   "outputs": [],
   "source": []
  }
 ],
 "metadata": {
  "kernelspec": {
   "display_name": "Python 3",
   "language": "python",
   "name": "python3"
  },
  "language_info": {
   "codemirror_mode": {
    "name": "ipython",
    "version": 3
   },
   "file_extension": ".py",
   "mimetype": "text/x-python",
   "name": "python",
   "nbconvert_exporter": "python",
   "pygments_lexer": "ipython3",
   "version": "3.6.2"
  },
  "toc": {
   "colors": {
    "hover_highlight": "#DAA520",
    "running_highlight": "#FF0000",
    "selected_highlight": "#FFD700"
   },
   "moveMenuLeft": true,
   "nav_menu": {
    "height": "247px",
    "width": "252px"
   },
   "navigate_menu": true,
   "number_sections": false,
   "sideBar": true,
   "threshold": 4,
   "toc_cell": false,
   "toc_section_display": "block",
   "toc_window_display": false
  }
 },
 "nbformat": 4,
 "nbformat_minor": 1
}

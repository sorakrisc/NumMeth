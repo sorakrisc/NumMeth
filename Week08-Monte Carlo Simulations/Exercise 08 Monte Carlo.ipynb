{
 "cells": [
  {
   "cell_type": "markdown",
   "metadata": {},
   "source": [
    "## Pseudo Random Number Generator\n",
    "\n",
    "Let us learn about how to generate a random number."
   ]
  },
  {
   "cell_type": "code",
   "execution_count": 6,
   "metadata": {},
   "outputs": [],
   "source": [
    "%matplotlib inline\n",
    "from matplotlib import pyplot as plt\n",
    "import numpy as np\n",
    "import math"
   ]
  },
  {
   "cell_type": "markdown",
   "metadata": {},
   "source": [
    "#### 1) Linear Congruent\n",
    "One of the easiest way to make random number is using linear congruential.\n",
    "\n",
    "$$x_{n+1} = a x_{n} + b \\mod 2^{31}$$\n",
    "\n",
    "pick a random $a$ and $b$ then try."
   ]
  },
  {
   "cell_type": "code",
   "execution_count": 7,
   "metadata": {},
   "outputs": [
    {
     "name": "stdout",
     "output_type": "stream",
     "text": [
      "17\n",
      "2204\n",
      "26261\n",
      "290888\n",
      "3201785\n",
      "35221652\n",
      "387440189\n",
      "2114360448\n",
      "1783130465\n",
      "287084300\n",
      "1010445669\n",
      "377486136\n",
      "2004865865\n",
      "578690052\n",
      "2070625293\n",
      "1302043760\n",
      "1437581489\n",
      "781012860\n",
      "1208885\n",
      "13299752\n",
      "146299289\n",
      "1609294196\n",
      "522368989\n",
      "1451093600\n",
      "929646081\n",
      "1636174316\n",
      "818050309\n",
      "408620824\n",
      "199863785\n",
      "51020004\n",
      "561222061\n",
      "1878477392\n",
      "1335900497\n",
      "1810005596\n",
      "582710741\n",
      "2114852872\n",
      "1788547129\n",
      "346667604\n",
      "1665862013\n",
      "1144614976\n",
      "1853348513\n",
      "1059482828\n",
      "916894885\n",
      "1495911160\n",
      "1422639241\n",
      "616648132\n",
      "340680525\n",
      "1600004144\n",
      "420178417\n",
      "326997308\n",
      "1449488757\n",
      "911992808\n",
      "1441988313\n",
      "829487924\n",
      "534434589\n",
      "1583815200\n",
      "242100033\n",
      "515618732\n",
      "1376840773\n",
      "112864984\n",
      "1241516841\n",
      "771785380\n",
      "2047190253\n",
      "1044258320\n",
      "749425297\n",
      "1801229340\n",
      "486171925\n",
      "1052925896\n",
      "844768633\n",
      "702522388\n",
      "1285297341\n",
      "1253370880\n",
      "902179809\n",
      "1334045324\n",
      "1789598693\n",
      "358234808\n",
      "1793101257\n",
      "396763012\n",
      "69427853\n",
      "763708400\n",
      "1958343473\n",
      "66943740\n",
      "736383157\n",
      "1657765800\n",
      "1055556633\n",
      "873706740\n",
      "1020841565\n",
      "491840992\n",
      "1115285633\n",
      "1530725740\n",
      "1805599621\n",
      "534245016\n",
      "1581729897\n",
      "219161700\n",
      "263297069\n",
      "748786128\n",
      "1794198481\n",
      "408832476\n",
      "202191957\n",
      "76629896\n",
      "842930873\n",
      "682307028\n",
      "1062928381\n",
      "954795968\n",
      "1912823073\n",
      "1713702988\n",
      "1670865701\n",
      "1199655544\n",
      "311311113\n",
      "1276940612\n",
      "1161446861\n",
      "2038499248\n",
      "948657265\n",
      "1845297340\n",
      "970919925\n",
      "2090186600\n",
      "1517218137\n",
      "1657015988\n",
      "1047308701\n",
      "782979488\n",
      "22841793\n",
      "251261740\n",
      "616397509\n",
      "337923672\n",
      "1569678761\n",
      "86599204\n",
      "952593261\n",
      "1888593296\n",
      "1447175441\n",
      "886546332\n",
      "1162077077\n",
      "2045431624\n",
      "1024913401\n",
      "536631188\n",
      "1607977789\n",
      "507888512\n",
      "1291808353\n",
      "1324992012\n",
      "1690012261\n",
      "1410267704\n",
      "480561225\n",
      "991208196\n",
      "165873933\n",
      "1824615280\n",
      "743417265\n",
      "1735140988\n",
      "1906683701\n",
      "1646169896\n",
      "928001689\n",
      "1618086004\n",
      "619078877\n",
      "367418720\n",
      "1894124289\n",
      "1508016364\n",
      "1555796485\n",
      "2081377816\n",
      "1420321513\n",
      "591153124\n",
      "60235437\n",
      "662591824\n",
      "846061137\n",
      "716739932\n",
      "1441690325\n",
      "826210056\n",
      "498378041\n",
      "1187193172\n",
      "174225021\n",
      "1916477248\n",
      "1753898913\n",
      "2113020876\n",
      "1768395173\n",
      "124996088\n",
      "1374958985\n",
      "92165316\n",
      "1013820493\n",
      "414609200\n",
      "265735921\n",
      "775613500\n",
      "2089299573\n",
      "1507460840\n",
      "1549685721\n",
      "2014159412\n",
      "680919069\n",
      "1047660832\n",
      "786852929\n",
      "65449644\n",
      "719948101\n",
      "1476980184\n",
      "1214398505\n",
      "473483684\n",
      "913355245\n",
      "1456975120\n",
      "994342801\n",
      "200354588\n",
      "56418837\n",
      "620609224\n",
      "384252537\n",
      "2079296276\n",
      "1397424573\n",
      "339286784\n",
      "1584672993\n",
      "251535756\n",
      "619411685\n",
      "371079608\n",
      "1934394057\n",
      "1950983812\n",
      "2133471117\n",
      "1993347824\n",
      "451991601\n",
      "676942332\n",
      "1003916725\n",
      "305667752\n",
      "1214863641\n",
      "478600180\n",
      "969636701\n",
      "2076071136\n",
      "1361948033\n",
      "2096528492\n",
      "1586978949\n",
      "276901272\n",
      "898432361\n",
      "1292823396\n",
      "1336157485\n",
      "1812832464\n",
      "613806289\n",
      "309420252\n",
      "1256141141\n",
      "932652680\n",
      "1669246905\n",
      "1181848788\n",
      "115436797\n",
      "1269806784\n",
      "1082974753\n",
      "1175306060\n",
      "43466789\n",
      "478136696\n",
      "964538377\n",
      "2019989572\n",
      "745050829\n",
      "1753110192\n",
      "2104344945\n",
      "1672959932\n",
      "1222692085\n",
      "564713064\n",
      "1916878425\n",
      "1758311860\n",
      "14079645\n",
      "154878112\n",
      "1703661249\n",
      "1560406572\n",
      "2132088773\n",
      "1978142040\n",
      "284727977\n",
      "984526116\n",
      "92371053\n",
      "1016083600\n",
      "439503377\n",
      "539571868\n",
      "1640325269\n",
      "863710792\n",
      "910886137\n",
      "1429814932\n",
      "695580733\n",
      "1208939136\n",
      "413430625\n",
      "252771596\n",
      "633005925\n",
      "520616248\n",
      "1431813449\n",
      "717564420\n",
      "1450759693\n",
      "925973104\n",
      "1595771569\n",
      "373620092\n",
      "1962339381\n",
      "110898728\n",
      "1219888025\n",
      "533868404\n",
      "1577587165\n",
      "173591648\n",
      "1909510145\n",
      "1677260780\n",
      "1270001413\n",
      "1085115672\n",
      "1198856169\n",
      "302517988\n",
      "1180216237\n",
      "97478736\n",
      "1072268113\n",
      "1057533020\n",
      "895446997\n",
      "1259984392\n",
      "974928441\n",
      "2134280276\n",
      "2002248573\n",
      "549899840\n",
      "1753932961\n",
      "2113395404\n",
      "1772514981\n",
      "170313976\n",
      "1873455753\n",
      "1280662468\n",
      "1202387277\n",
      "341360176\n",
      "1607480305\n",
      "502416188\n",
      "1231612789\n",
      "662840808\n",
      "848799961\n",
      "746866996\n",
      "1773088029\n",
      "176617504\n",
      "1942794561\n",
      "2043389356\n",
      "1002448453\n",
      "289516760\n",
      "1037202729\n",
      "671813796\n",
      "947502829\n",
      "1832598544\n",
      "831233169\n",
      "553632284\n",
      "1794989845\n",
      "417537480\n",
      "297947001\n",
      "1129935380\n",
      "1691872957\n",
      "1430735360\n",
      "705705441\n",
      "1320310924\n",
      "1638520293\n",
      "843856056\n",
      "692484041\n",
      "1174875524\n",
      "38730893\n",
      "426041840\n",
      "391494961\n",
      "11479292\n",
      "126274229\n",
      "1389018536\n",
      "246820377\n",
      "567542516\n",
      "1948002397\n",
      "2100675552\n",
      "1632596609\n",
      "778695532\n",
      "2123201925\n",
      "1880386712\n",
      "1356903017\n",
      "2041033316\n",
      "976532013\n",
      "4435920\n",
      "48797137\n",
      "536770524\n",
      "1609510485\n",
      "524748168\n",
      "1477264569\n",
      "1217526740\n",
      "507894269\n",
      "1291871680\n",
      "1325688609\n",
      "1697674828\n",
      "1494555941\n",
      "1407731832\n",
      "452666633\n",
      "684367684\n",
      "1085595597\n",
      "1204135344\n",
      "360588913\n",
      "1818996412\n",
      "681609717\n",
      "1055257960\n",
      "870421337\n",
      "984702132\n",
      "94307229\n",
      "1037381536\n",
      "673780673\n",
      "969138476\n",
      "2070590661\n",
      "1301662808\n",
      "1433391017\n",
      "734917668\n",
      "1641645421\n",
      "878232464\n",
      "1070624529\n",
      "1039453596\n",
      "696573333\n",
      "1219857736\n",
      "533535225\n",
      "1573922196\n",
      "133276989\n",
      "1466048896\n",
      "1094154337\n",
      "1298281484\n",
      "1396196453\n",
      "325777464\n",
      "1436070473\n",
      "764391684\n",
      "1965859597\n",
      "149621104\n",
      "1645834161\n",
      "924308604\n",
      "1577462069\n",
      "172215592\n",
      "1894373529\n",
      "1510758004\n",
      "1585954525\n",
      "265632608\n",
      "774477057\n",
      "2076798700\n",
      "1369951237\n",
      "37080088\n",
      "407882985\n",
      "191747556\n",
      "2109225133\n",
      "1726642000\n",
      "1813194833\n",
      "617792348\n",
      "353266901\n",
      "1738454280\n",
      "1943129913\n",
      "2047078228\n",
      "1043026045\n",
      "735870272\n",
      "1652124065\n",
      "993497548\n",
      "191056805\n",
      "2101626872\n",
      "1643061129\n",
      "893805252\n",
      "1241925197\n",
      "776277296\n",
      "2096601329\n",
      "1587780156\n",
      "285714549\n",
      "995378408\n",
      "211746265\n",
      "181727284\n",
      "1999002141\n",
      "514189088\n",
      "1361114689\n",
      "2087361708\n",
      "1486144325\n",
      "1315204056\n",
      "1582344745\n",
      "225925028\n",
      "337693677\n",
      "1567148816\n",
      "58769809\n",
      "646469916\n",
      "668720149\n",
      "913472712\n",
      "1458267257\n",
      "1008556308\n",
      "356703165\n",
      "1776253184\n",
      "211434209\n",
      "178294668\n",
      "1961243365\n",
      "98842552\n",
      "1087270089\n",
      "1222554756\n",
      "563202445\n",
      "1900261616\n",
      "1575526961\n",
      "150929404\n",
      "1660225461\n",
      "1082612904\n",
      "1171325721\n",
      "2147166708\n",
      "2143999325\n",
      "2109158112\n",
      "1725904769\n",
      "1805085292\n",
      "528587397\n",
      "1519496088\n",
      "1682073449\n",
      "1322940772\n",
      "1667448621\n",
      "1162067664\n",
      "2045328081\n",
      "1023774428\n",
      "524102485\n",
      "1470162056\n",
      "1139399097\n",
      "1795973844\n",
      "428361469\n",
      "417010880\n",
      "292154401\n",
      "1066216780\n",
      "990968357\n",
      "163235704\n",
      "1795594761\n",
      "424191556\n",
      "371141837\n",
      "1935078576\n",
      "1958513521\n",
      "68814268\n",
      "756958965\n",
      "1884099688\n",
      "1397745753\n",
      "342819764\n",
      "1623535773\n",
      "679026336\n",
      "1026840769\n",
      "557832236\n",
      "1841189317\n",
      "925731672\n",
      "1593115817\n",
      "344406820\n",
      "1640993389\n",
      "871060112\n",
      "991728657\n",
      "171599004\n",
      "1887591061\n",
      "1436150856\n",
      "765275897\n",
      "1975585940\n",
      "256610877\n",
      "675238016\n",
      "985169249\n",
      "99445516\n",
      "1093902693\n",
      "1295513400\n",
      "1365747529\n",
      "2138322948\n",
      "2046717965\n",
      "1039063152\n",
      "692278449\n",
      "1172614012\n",
      "13854261\n",
      "152398888\n",
      "1676389785\n",
      "1260420468\n",
      "979725277\n",
      "39561824\n",
      "435182081\n",
      "492037612\n",
      "1117448453\n",
      "1554516760\n",
      "2067300841\n",
      "1265474788\n",
      "1035322797\n",
      "651134544\n",
      "720031057\n",
      "1477892700\n",
      "1224436181\n",
      "583898120\n",
      "2127914041\n",
      "1932219988\n",
      "1927069053\n",
      "1870408768\n",
      "1247145633\n",
      "833702092\n",
      "580790437\n",
      "2093729528\n",
      "1556190345\n",
      "2085710276\n",
      "1467978573\n",
      "1115380784\n",
      "1531772401\n",
      "1817112892\n",
      "660890997\n",
      "827352040\n",
      "510939865\n",
      "1325373236\n",
      "1694205725\n",
      "1456395808\n",
      "987970369\n",
      "130257836\n",
      "1432838213\n",
      "728836824\n",
      "1574756137\n",
      "142450340\n",
      "1566955757\n",
      "56646160\n",
      "623109777\n",
      "411758620\n",
      "234379541\n",
      "430693320\n",
      "442661241\n",
      "574308372\n",
      "2022426813\n",
      "771860480\n",
      "2048016353\n",
      "1053345420\n",
      "849383397\n",
      "753284792\n",
      "1843683785\n",
      "953170820\n",
      "1894946445\n",
      "1517060080\n",
      "1655277361\n",
      "1028183804\n",
      "572605621\n",
      "2003696552\n",
      "565827609\n",
      "1929138420\n",
      "1893171805\n",
      "1497539040\n",
      "1440545921\n",
      "813621612\n",
      "359905157\n",
      "1811475096\n",
      "598875241\n",
      "145178724\n",
      "1596967981\n",
      "386780624\n",
      "2107105233\n",
      "1703323100\n",
      "1556686933\n",
      "2091172744\n",
      "1528065721\n",
      "1776339412\n",
      "212382717\n",
      "188728256\n",
      "2076012833\n",
      "1361306700\n",
      "2089473829\n",
      "1509377656\n",
      "1570770697\n",
      "98610500\n",
      "1084717517\n",
      "1194476464\n",
      "254341233\n",
      "650271932\n",
      "710542325\n",
      "1373516648\n",
      "76299609\n",
      "839297716\n",
      "642342301\n",
      "623316384\n",
      "414031297\n",
      "259378988\n",
      "705687237\n",
      "1320110680\n",
      "1636317609\n",
      "819626532\n",
      "425959277\n",
      "390586768\n",
      "1489169\n",
      "16382876\n",
      "180213653\n",
      "1982352200\n",
      "331039737\n",
      "1493955476\n",
      "1401126717\n",
      "380010368\n",
      "2032632417\n",
      "884122124\n",
      "1135410789\n",
      "1752102456\n",
      "2093259849\n",
      "1551023876\n",
      "2028879117\n",
      "842835824\n",
      "681261489\n",
      "1051427452\n",
      "828285749\n",
      "521210664\n",
      "1438352025\n",
      "789488756\n",
      "94443741\n",
      "1038883168\n",
      "690298625\n",
      "1150835948\n",
      "1921779205\n",
      "1812220440\n",
      "607074025\n",
      "235365348\n",
      "441537197\n",
      "561943888\n",
      "1886417489\n",
      "1423241564\n",
      "623273685\n",
      "413561608\n",
      "254212409\n",
      "648854868\n",
      "694954621\n",
      "1202051904\n",
      "337671073\n",
      "1566900172\n",
      "56034725\n",
      "616383992\n",
      "337774985\n",
      "1568043204\n",
      "68608077\n",
      "754690864\n",
      "1859150577\n",
      "1123305532\n",
      "1618944629\n",
      "628523752\n",
      "471312345\n",
      "889470516\n",
      "1194243101\n",
      "251774240\n",
      "622035009\n",
      "399936172\n",
      "104332613\n",
      "1147660760\n",
      "1886852137\n",
      "1428022692\n",
      "675866093\n",
      "992078096\n",
      "175442833\n",
      "1929873180\n",
      "1901254165\n",
      "1586445000\n",
      "271027833\n",
      "833824532\n",
      "582137277\n",
      "2108544768\n",
      "1719157985\n",
      "1730870668\n",
      "1859710181\n",
      "1129461176\n",
      "1686656713\n",
      "1373356676\n",
      "74539917\n",
      "819941104\n",
      "429419569\n",
      "428649980\n",
      "420184501\n",
      "327064232\n",
      "1450224921\n",
      "920090612\n",
      "1531064157\n",
      "1809322208\n",
      "575193473\n",
      "2032162924\n",
      "878957701\n",
      "1078602136\n",
      "1127207273\n",
      "1661863780\n",
      "1100634413\n",
      "1369562320\n",
      "32802001\n",
      "360824028\n",
      "1821582677\n",
      "710058632\n",
      "1368196025\n",
      "17772756\n",
      "195502333\n",
      "3044032\n",
      "33486369\n",
      "368352076\n",
      "1904391205\n",
      "1620952440\n",
      "650609673\n",
      "714257476\n",
      "1414383309\n",
      "525832880\n",
      "1489196401\n",
      "1348776892\n",
      "1951645941\n",
      "2140754536\n",
      "2073465433\n",
      "1333285300\n",
      "1781238429\n",
      "266271904\n",
      "781509313\n",
      "6669868\n",
      "73370565\n",
      "807078232\n",
      "287927977\n",
      "1019726116\n",
      "479571053\n",
      "980316304\n",
      "46063121\n",
      "506696348\n",
      "1278694549\n",
      "1180740168\n",
      "103241977\n",
      "1135663764\n",
      "1754885181\n",
      "2123869824\n",
      "1887733601\n",
      "1437718796\n",
      "782523237\n",
      "17823032\n",
      "196055369\n",
      "9127428\n",
      "100403725\n",
      "1104442992\n",
      "1411456689\n",
      "493640060\n",
      "1135075381\n",
      "1748412968\n",
      "2052675481\n",
      "1104595828\n",
      "1413137885\n",
      "512133216\n",
      "1338500097\n",
      "1838601196\n",
      "897262341\n",
      "1279953176\n",
      "1194585065\n",
      "255535844\n",
      "663412653\n",
      "855090256\n",
      "816060241\n",
      "386730076\n",
      "2106549205\n",
      "1697206792\n",
      "1489407545\n",
      "1351099476\n",
      "1977194365\n",
      "274303552\n",
      "869857441\n",
      "978499276\n",
      "26075813\n",
      "286835960\n",
      "1007713929\n",
      "347436996\n",
      "1674325325\n",
      "1237711408\n",
      "729925617\n",
      "1586732860\n",
      "274194293\n",
      "868655592\n",
      "965278937\n",
      "2028135732\n",
      "834658589\n",
      "591311904\n",
      "61982017\n",
      "681804204\n",
      "1057397317\n",
      "893954264\n",
      "1243564329\n",
      "794307748\n",
      "147452653\n",
      "1621981200\n",
      "661926033\n",
      "838737436\n",
      "636179221\n",
      "555522504\n",
      "1815782265\n",
      "646254100\n",
      "666346173\n",
      "887358976\n",
      "1171016161\n",
      "2143761548\n",
      "2106542565\n",
      "1697133752\n",
      "1488604105\n",
      "1342261636\n",
      "1879978125\n",
      "1352408560\n",
      "1991594289\n",
      "432702716\n",
      "464764597\n",
      "817445288\n",
      "401965593\n",
      "126656244\n",
      "1393220701\n",
      "293044192\n",
      "1076004481\n",
      "1098633068\n",
      "1347547525\n",
      "1938122904\n",
      "1992001129\n",
      "437177956\n",
      "513992237\n",
      "1358949328\n",
      "2063542737\n",
      "1224135644\n",
      "580592213\n",
      "2091549064\n",
      "1532205241\n",
      "1821874132\n",
      "713264637\n",
      "1403462080\n",
      "405699361\n",
      "167727692\n",
      "1845006629\n",
      "967722104\n",
      "2055010569\n",
      "1130281796\n",
      "1695683533\n",
      "1472651696\n",
      "1166785137\n",
      "2097220284\n",
      "1594588661\n",
      "360608104\n",
      "1819207513\n",
      "683931828\n",
      "1080801181\n",
      "1151396768\n",
      "1927948225\n",
      "1880079660\n",
      "1353525445\n",
      "2003880024\n",
      "567845801\n",
      "1951338532\n",
      "2137373037\n",
      "2036268944\n",
      "924123921\n",
      "1575430556\n",
      "149868949\n",
      "1648560456\n",
      "954297849\n",
      "1907343764\n",
      "1653430589\n",
      "1007869312\n",
      "349146209\n",
      "1693126668\n",
      "1444526181\n",
      "857404472\n",
      "841516617\n",
      "666750212\n",
      "891803405\n",
      "1219904880\n",
      "534053809\n",
      "1579626620\n",
      "196025653\n",
      "8800552\n",
      "96808089\n",
      "1064890996\n",
      "976384733\n",
      "2815840\n",
      "30976257\n",
      "340740844\n",
      "1600667653\n",
      "427477016\n",
      "407281897\n",
      "185135588\n",
      "2036493485\n",
      "926593872\n",
      "1602600017\n",
      "448733020\n",
      "641097941\n",
      "609628424\n",
      "263463737\n",
      "750619476\n",
      "1814365309\n",
      "630667584\n",
      "494894497\n",
      "1148874188\n",
      "1900199845\n",
      "1574847480\n",
      "143455113\n",
      "1578008260\n",
      "178223693\n",
      "1960462640\n",
      "90254577\n",
      "992802364\n",
      "183409781\n",
      "2017509608\n",
      "717771225\n",
      "1453034548\n",
      "950996509\n",
      "1871029024\n",
      "1253968449\n",
      "908753068\n",
      "1406351173\n",
      "437479384\n",
      "517307945\n",
      "1395422116\n",
      "317259757\n",
      "1342375696\n",
      "1881232785\n",
      "1366209820\n",
      "2143408149\n",
      "2102655176\n",
      "1654372473\n",
      "1018230036\n",
      "463114173\n",
      "799290624\n",
      "202264289\n",
      "77425548\n",
      "851683045\n",
      "778580920\n",
      "2121941193\n",
      "1866518660\n",
      "1204354445\n",
      "362999024\n",
      "1845507633\n",
      "973233148\n",
      "2115632053\n",
      "1797118120\n",
      "440948505\n",
      "555468276\n",
      "1815185757\n",
      "639692512\n",
      "594168705\n",
      "93406828\n",
      "1027477125\n",
      "564832152\n",
      "1918188393\n",
      "1772721508\n",
      "172585773\n",
      "1898445520\n",
      "1555549905\n",
      "2078665436\n",
      "1390485333\n",
      "262955144\n",
      "745024953\n",
      "1752825556\n",
      "2101213949\n",
      "1638518976\n",
      "843841569\n"
     ]
    },
    {
     "data": {
      "text/plain": [
       "843841569"
      ]
     },
     "execution_count": 7,
     "metadata": {},
     "output_type": "execute_result"
    }
   ],
   "source": [
    "def f(x, a, b, itera): \n",
    "    print(x)\n",
    "    if(itera == 0):\n",
    "        return x\n",
    "    else:\n",
    "        return f((a*x + b )% (2**31), 11, 2017,itera-1)\n",
    "f(17,11,2017, 1000)"
   ]
  },
  {
   "cell_type": "markdown",
   "metadata": {},
   "source": [
    "a,b,modulo must be coprime\n",
    "a,b, must be large enough"
   ]
  },
  {
   "cell_type": "markdown",
   "metadata": {},
   "source": [
    "#### 2) Cycle Problem\n",
    "\n",
    "One of the problem with linear congruent is short cycle length. For example,\n",
    "\n",
    "$$x_{n+1} =  ax_{n} + b \\mod 11$$\n",
    "\n",
    "No matter what value you give $a$ and $b$. Your cycle length will be at most 11."
   ]
  },
  {
   "cell_type": "code",
   "execution_count": 8,
   "metadata": {},
   "outputs": [],
   "source": [
    "x = 1239\n",
    "a = 16645\n",
    "b = 13232227\n",
    "for i in range(30):\n",
    "    xn = a*xn+b\n",
    "    "
   ]
  },
  {
   "cell_type": "markdown",
   "metadata": {},
   "source": [
    "#### 3) Fixing Cycle problem\n",
    "\n",
    "One way to do it is to generate it with a better cycle and then mod 11."
   ]
  },
  {
   "cell_type": "code",
   "execution_count": null,
   "metadata": {},
   "outputs": [],
   "source": []
  },
  {
   "cell_type": "markdown",
   "metadata": {},
   "source": [
    "#### 4) Some available random number from numpy/python\n",
    "\n",
    "`np.random.random` for random a float uniformly between 0 and 1.\n",
    "\n",
    "`np.random.randint` for random integer uniformly in some range.\n",
    "\n",
    "`np.random.randn` for random float from normal distribution with mean 0 and standard deviation 1."
   ]
  },
  {
   "cell_type": "code",
   "execution_count": 10,
   "metadata": {},
   "outputs": [
    {
     "data": {
      "text/plain": [
       "0.1193147159337602"
      ]
     },
     "execution_count": 10,
     "metadata": {},
     "output_type": "execute_result"
    }
   ],
   "source": [
    "from numpy.random import random, randint, randn\n",
    "random()\n"
   ]
  },
  {
   "cell_type": "code",
   "execution_count": 9,
   "metadata": {},
   "outputs": [
    {
     "data": {
      "image/png": "[encoded data removed]",
      "text/plain": [
       "<matplotlib.figure.Figure at 0x10f1f6dd8>"
      ]
     },
     "metadata": {},
     "output_type": "display_data"
    }
   ],
   "source": [
    "x= np.random.randn(10000000)\n",
    "plt.hist(x, bins=100);"
   ]
  },
  {
   "cell_type": "markdown",
   "metadata": {},
   "source": [
    "#### 5) Manipulating random number to get desired behavior.\n",
    "\n",
    "Random a float from 0 to 5.\n",
    "\n",
    "Random a float from -1 to 1.\n",
    "\n",
    "Random a float form normal distribution with mean 5 and std dev 1.\n",
    "\n",
    "Random a float form normal distribution with mean 2 and std dev 10."
   ]
  },
  {
   "cell_type": "markdown",
   "metadata": {
    "collapsed": true
   },
   "source": [
    "[0,1) x5-> [0,5)\n",
    "\n",
    "[0,1) x2-> [0,2) -1-> [-1, 1)\n",
    "\n",
    "multiplu before you add adn then shift it\n"
   ]
  },
  {
   "cell_type": "code",
   "execution_count": 12,
   "metadata": {},
   "outputs": [
    {
     "data": {
      "image/png": "[encoded data removed]",
      "text/plain": [
       "<matplotlib.figure.Figure at 0x114a7acf8>"
      ]
     },
     "metadata": {},
     "output_type": "display_data"
    },
    {
     "data": {
      "image/png": "[encoded data removed]",
      "text/plain": [
       "<matplotlib.figure.Figure at 0x114a7a6d8>"
      ]
     },
     "metadata": {},
     "output_type": "display_data"
    }
   ],
   "source": [
    "x = np.random.random(100000)*2-1\n",
    "plt.hist(x, bins=100)\n",
    "plt.figure()\n",
    "x=np.random.randn(100000)*10+2\n",
    "plt.hist(x, bins=100);"
   ]
  },
  {
   "cell_type": "markdown",
   "metadata": {},
   "source": [
    "6) What does np.random.seed do?"
   ]
  },
  {
   "cell_type": "code",
   "execution_count": null,
   "metadata": {
    "collapsed": true
   },
   "outputs": [],
   "source": [
    "np.random.seed(2184390)\n",
    "np.random.random(5)"
   ]
  },
  {
   "cell_type": "code",
   "execution_count": 19,
   "metadata": {},
   "outputs": [
    {
     "data": {
      "text/plain": [
       "array([ 0.2032107 ,  0.50819331,  0.22084468,  0.64537302,  0.78026019])"
      ]
     },
     "execution_count": 19,
     "metadata": {},
     "output_type": "execute_result"
    }
   ],
   "source": [
    "np.random.random(5)"
   ]
  },
  {
   "cell_type": "markdown",
   "metadata": {},
   "source": [
    "### Monte Carlo Integration"
   ]
  },
  {
   "cell_type": "markdown",
   "metadata": {},
   "source": [
    "#### 1) Let integrate\n",
    "$$ \\iiint \\limits_{C} x^2(y-1)^2(z-2)^2\\exp(xyz) \\; dx \\; dy \\; dz$$\n",
    "Over a cube $x \\in [-1,1], y\\in [-1,1], z\\in [-1,1]$"
   ]
  },
  {
   "cell_type": "code",
   "execution_count": 14,
   "metadata": {},
   "outputs": [
    {
     "name": "stdout",
     "output_type": "stream",
     "text": [
      "16.0909428444\n"
     ]
    }
   ],
   "source": [
    "n = 10000000\n",
    "x = np.random.random(n)*2-1\n",
    "y = np.random.random(n)*2-1\n",
    "z = np.random.random(n)*2-1\n",
    "\n",
    "print(np.sum(x**2*(y-1)**2*(z-2)**2*np.exp(x*y*z))*8./n)"
   ]
  },
  {
   "cell_type": "markdown",
   "metadata": {},
   "source": [
    "$\n",
    "\\sum\n",
    "$"
   ]
  },
  {
   "cell_type": "markdown",
   "metadata": {},
   "source": [
    "#### 2) Evaluate\n",
    "$$ \\iiint \\limits_{C} x^2(y-1)^2(z-2)^2\\exp(xyz) \\; dx \\; dy \\; dz$$\n",
    "Over a sphere of radius 1 centered at the origin."
   ]
  },
  {
   "cell_type": "code",
   "execution_count": 44,
   "metadata": {},
   "outputs": [
    {
     "data": {
      "text/plain": [
       "3.9910908135788397"
      ]
     },
     "execution_count": 44,
     "metadata": {},
     "output_type": "execute_result"
    }
   ],
   "source": [
    "\n",
    "n = 100000\n",
    "x = np.random.random(n)*2-1\n",
    "y = np.random.random(n)*2-1\n",
    "z = np.random.random(n)*2-1\n",
    "summ = 0\n",
    "for i in range(n):\n",
    "    if(x[i]**2+y[i]**2+z[i]**2<=1):\n",
    "        summ+=x[i]**2*(y[i]-1)**2*(z[i]-2)**2*np.exp(x[i]*y[i]*z[i])\n",
    "summ*8./n"
   ]
  },
  {
   "cell_type": "markdown",
   "metadata": {},
   "source": [
    "3) Do we guarantee to get the same answer when we repeat the experiment?"
   ]
  },
  {
   "cell_type": "code",
   "execution_count": null,
   "metadata": {
    "collapsed": true
   },
   "outputs": [],
   "source": [
    "no"
   ]
  },
  {
   "cell_type": "markdown",
   "metadata": {},
   "source": [
    "4) What do we need to do to guarantee the same answer?"
   ]
  },
  {
   "cell_type": "code",
   "execution_count": null,
   "metadata": {
    "collapsed": true
   },
   "outputs": [],
   "source": [
    "seed it"
   ]
  },
  {
   "cell_type": "markdown",
   "metadata": {},
   "source": [
    "5) How do we defind the convergence and how fast is the convergence for monte carlo integration?"
   ]
  },
  {
   "cell_type": "code",
   "execution_count": null,
   "metadata": {
    "collapsed": true
   },
   "outputs": [],
   "source": []
  },
  {
   "cell_type": "markdown",
   "metadata": {},
   "source": [
    "## Monte Carlo Simulations"
   ]
  },
  {
   "cell_type": "markdown",
   "metadata": {},
   "source": [
    "### Loaded Die.\n",
    "\n",
    "<table>\n",
    "<tr style=\"text-align:center\">\n",
    "    <td>Number</td>\n",
    "    <td>1</td>\n",
    "    <td>2</td>\n",
    "    <td>3</td>\n",
    "    <td>4</td>\n",
    "    <td>5</td>\n",
    "    <td>6</td>\n",
    "</tr>\n",
    "<tr style=\"text-align:center\">\n",
    "    <td>Probability</td>\n",
    "    <td>0.3</td>\n",
    "    <td>0.2</td>\n",
    "    <td>0.1</td>\n",
    "    <td>0.2</td>\n",
    "    <td>0.1</td>\n",
    "    <td>0.1</td>\n",
    "</tr>\n",
    "</table>"
   ]
  },
  {
   "cell_type": "markdown",
   "metadata": {},
   "source": [
    "#### 1) Simulating the dice.\n",
    "\n",
    "Simulate the dice result such that it has the given probability distribution."
   ]
  },
  {
   "cell_type": "code",
   "execution_count": 36,
   "metadata": {},
   "outputs": [
    {
     "data": {
      "image/png": "[encoded data removed]",
      "text/plain": [
       "<matplotlib.figure.Figure at 0x113f724e0>"
      ]
     },
     "metadata": {},
     "output_type": "display_data"
    }
   ],
   "source": [
    "def rollLoadedDie():\n",
    "    x = np.random.random()\n",
    "    if (x > 0 and x <=0.3):\n",
    "        return 1\n",
    "    elif (x>0.3 and x<=0.5):\n",
    "        return 2\n",
    "    elif (x>0.5 and x<=0.6):\n",
    "        return 3\n",
    "    elif (x>0.6 and x<=0.8):\n",
    "        return 4\n",
    "    elif (x>0.8 and x<=0.9):\n",
    "        return 5\n",
    "    else: \n",
    "        return 6\n",
    "    \n",
    "x=[rollLoadedDie() for i in range(100000)]\n",
    "plt.hist(x, bins=100);    "
   ]
  },
  {
   "cell_type": "markdown",
   "metadata": {},
   "source": [
    "#### 2) Expected Value.\n",
    "\n",
    "What is the expected value of dice result? Try both simulation and analytical formula."
   ]
  },
  {
   "cell_type": "code",
   "execution_count": 38,
   "metadata": {},
   "outputs": [
    {
     "data": {
      "text/plain": [
       "2.9251"
      ]
     },
     "execution_count": 38,
     "metadata": {},
     "output_type": "execute_result"
    }
   ],
   "source": [
    "n = 10000\n",
    "sum(rollLoadedDie() for i in range(n))/float(n)"
   ]
  },
  {
   "cell_type": "markdown",
   "metadata": {},
   "source": [
    "3) What is the expected value of $A+B$ where $A$ is the result of the first dice and $B$ is the result of the second dice? Use simulation and compare with analytic answer."
   ]
  },
  {
   "cell_type": "code",
   "execution_count": 39,
   "metadata": {},
   "outputs": [
    {
     "data": {
      "text/plain": [
       "5.819"
      ]
     },
     "execution_count": 39,
     "metadata": {},
     "output_type": "execute_result"
    }
   ],
   "source": [
    "n = 10000\n",
    "sum(rollLoadedDie()+rollLoadedDie() for i in range(n))/float(n)"
   ]
  },
  {
   "cell_type": "markdown",
   "metadata": {},
   "source": [
    "4) What is the expected value of $AB$?"
   ]
  },
  {
   "cell_type": "code",
   "execution_count": 45,
   "metadata": {},
   "outputs": [
    {
     "data": {
      "text/plain": [
       "8.4327"
      ]
     },
     "execution_count": 45,
     "metadata": {},
     "output_type": "execute_result"
    }
   ],
   "source": [
    "n = 10000\n",
    "sum(rollLoadedDie()*rollLoadedDie() for i in range(n))/float(n)"
   ]
  },
  {
   "cell_type": "markdown",
   "metadata": {},
   "source": [
    "5) Try the experiment 10,000 times and plot out the probability of getting each result for $AB$. (Probability is given by #of times we get the number/total number of experiment."
   ]
  },
  {
   "cell_type": "code",
   "execution_count": 46,
   "metadata": {},
   "outputs": [
    {
     "data": {
      "image/png": "[encoded data removed]",
      "text/plain": [
       "<matplotlib.figure.Figure at 0x10652ae48>"
      ]
     },
     "metadata": {},
     "output_type": "display_data"
    }
   ],
   "source": [
    "n = 10000\n",
    "x=[rollLoadedDie()*rollLoadedDie() for i in range(n)]\n",
    "plt.hist(x, bins=100); "
   ]
  },
  {
   "cell_type": "markdown",
   "metadata": {},
   "source": [
    "6) Now we play the games of two people. We take the product of the two dice. Whoever get more number wins. What is the probability of getting a draw."
   ]
  },
  {
   "cell_type": "code",
   "execution_count": 48,
   "metadata": {},
   "outputs": [
    {
     "data": {
      "text/plain": [
       "0.0829"
      ]
     },
     "execution_count": 48,
     "metadata": {},
     "output_type": "execute_result"
    }
   ],
   "source": [
    "n = 10000\n",
    "count =0\n",
    "for i in range(n):\n",
    "    A = rollLoadedDie()*rollLoadedDie()\n",
    "    B = rollLoadedDie()*rollLoadedDie()\n",
    "    if (A == B):\n",
    "        count+=1\n",
    "count/n"
   ]
  },
  {
   "cell_type": "markdown",
   "metadata": {},
   "source": [
    "7) A little bit harder: consider the game of product dice. If our first dice is 3, what is the probability of winning?"
   ]
  },
  {
   "cell_type": "code",
   "execution_count": 49,
   "metadata": {},
   "outputs": [
    {
     "data": {
      "text/plain": [
       "0.54"
      ]
     },
     "execution_count": 49,
     "metadata": {},
     "output_type": "execute_result"
    }
   ],
   "source": [
    "n = 10000\n",
    "count = 0\n",
    "for i in range(n):\n",
    "    A = 3*rollLoadedDie()\n",
    "    B= rollLoadedDie() * rollLoadedDie()\n",
    "    if (A>B):\n",
    "        count+=1\n",
    "count/n"
   ]
  },
  {
   "cell_type": "markdown",
   "metadata": {},
   "source": [
    "### Geometric Brownian Motion.\n",
    "\n",
    "One popular way to simulate stock is using geometric brownian motion. Stockprice at $t+dt$ is related to the stock price at time $t$ by\n",
    "\n",
    "$$s(t+dt) = s(t) + s(t)(\\mu dt + \\epsilon\\sigma \\sqrt{dt}) $$\n",
    "\n",
    "where\n",
    "1. $\\mu$ is the mean rate of return. Typically quote as $\\%$ per year.\n",
    "2. $\\epsilon$ is a normally distributed random variable with mean 0 and variance of 1.\n",
    "3. $\\sigma$ is called volatility. It typically quoted as $\\%$ per $\\sqrt{\\text{year}}$. It represent how wildly stock can go.\n",
    "\n",
    "To use this formula, we need to make sure the unit for $t$ is correct. Normally just convert it to year\n",
    "\n",
    "All these number can be looked up from the internet (you can calculate one yourself from historical data too). \n",
    "\n",
    "Here is one example: google for aapl volatility.\n",
    "\n",
    "The funny unit of $\\sqrt{t}$ has to do with scaling behavior. You can read it in the lecture notes."
   ]
  },
  {
   "cell_type": "markdown",
   "metadata": {},
   "source": [
    "1) Given the volatility($\\sigma$) of $28\\%$ per $\\sqrt{\\text{year}}$ and mean rate of return $8.77\\%$. The stock today is 119.21$. Write a function to generate the price for tomorrow given the price today."
   ]
  },
  {
   "cell_type": "code",
   "execution_count": 54,
   "metadata": {},
   "outputs": [],
   "source": [
    "def next_price(s, mu, sigma, dt):\n",
    "    e = np.random.randn()\n",
    "    return s + s *(mu*dt+e*sigma*math.sqrt(dt))\n"
   ]
  },
  {
   "cell_type": "markdown",
   "metadata": {},
   "source": [
    "2) Generate the price for 1 trading year(all the time we said year it actually means trading year). Have dt = 1 day. 1 Trading year is actually 252 day."
   ]
  },
  {
   "cell_type": "code",
   "execution_count": 55,
   "metadata": {},
   "outputs": [
    {
     "data": {
      "text/plain": [
       "[<matplotlib.lines.Line2D at 0x114965668>]"
      ]
     },
     "execution_count": 55,
     "metadata": {},
     "output_type": "execute_result"
    },
    {
     "data": {
      "image/png": "[encoded data removed]",
      "text/plain": [
       "<matplotlib.figure.Figure at 0x114299ef0>"
      ]
     },
     "metadata": {},
     "output_type": "display_data"
    }
   ],
   "source": [
    "def gen_1year(mu, sigma):\n",
    "    ret = []\n",
    "    ndays = 252\n",
    "    dt = 1/ndays\n",
    "    s = 119.21\n",
    "    ret.append(s)\n",
    "    for i in range( ndays-1):\n",
    "        s = next_price(s,mu,sigma,dt)\n",
    "        ret.append(s)\n",
    "    return ret\n",
    "prices = gen_1year(0.0877, 0.28)\n",
    "plt.plot(prices)"
   ]
  },
  {
   "cell_type": "markdown",
   "metadata": {},
   "source": [
    "3) What is the expected value of the stock at the end of year?"
   ]
  },
  {
   "cell_type": "code",
   "execution_count": null,
   "metadata": {
    "collapsed": true
   },
   "outputs": [],
   "source": []
  },
  {
   "cell_type": "markdown",
   "metadata": {},
   "source": [
    "4) What is the variance of the stock at the end of the year?"
   ]
  },
  {
   "cell_type": "code",
   "execution_count": 58,
   "metadata": {},
   "outputs": [
    {
     "data": {
      "image/png": "[encoded data removed]",
      "text/plain": [
       "<matplotlib.figure.Figure at 0x11462b1d0>"
      ]
     },
     "metadata": {},
     "output_type": "display_data"
    }
   ],
   "source": [
    "aapl = [gen_1year(0.0877, 0.28) for i in range(10000)] \n",
    "\n",
    "for i in range(20): \n",
    "    plt.plot(aapl[i])"
   ]
  },
  {
   "cell_type": "markdown",
   "metadata": {},
   "source": [
    "5) What is the probability that the price of the stock will dip below 70 at anytime of the year?"
   ]
  },
  {
   "cell_type": "code",
   "execution_count": 59,
   "metadata": {},
   "outputs": [
    {
     "name": "stdout",
     "output_type": "stream",
     "text": [
      "0.0377\n"
     ]
    }
   ],
   "source": [
    "def dip_prob(n,below): \n",
    "    count = 0. \n",
    "    for i in range(n): \n",
    "        for j in range(len(aapl[i])): \n",
    "            if (aapl[i][j] < below) : \n",
    "                count += 1 \n",
    "                break \n",
    "    return count/float(n)\n",
    "\n",
    "print (dip_prob(10000,70))"
   ]
  },
  {
   "cell_type": "markdown",
   "metadata": {},
   "source": [
    "6) What is the proabability that th stock will dip below 100 and come back to 110 within a year? "
   ]
  },
  {
   "cell_type": "code",
   "execution_count": null,
   "metadata": {
    "collapsed": true
   },
   "outputs": [],
   "source": []
  },
  {
   "cell_type": "markdown",
   "metadata": {},
   "source": [
    "### Hill Climbing"
   ]
  },
  {
   "cell_type": "markdown",
   "metadata": {},
   "source": [
    "### Biggest Triangle.\n",
    "Let us consider the problem of finding the triangle with maximum area from given 500 points."
   ]
  },
  {
   "cell_type": "code",
   "execution_count": 9,
   "metadata": {},
   "outputs": [
    {
     "data": {
      "text/plain": [
       "[<matplotlib.lines.Line2D at 0x1060f04d0>]"
      ]
     },
     "execution_count": 9,
     "metadata": {},
     "output_type": "execute_result"
    },
    {
     "data": {
      "image/png": "[encoded data removed]",
      "text/plain": [
       "<matplotlib.figure.Figure at 0x1060fc090>"
      ]
     },
     "metadata": {},
     "output_type": "display_data"
    }
   ],
   "source": [
    "np.random.seed(13)\n",
    "n = 500\n",
    "x = np.random.randn(n)*2-1\n",
    "y = np.random.randn(n)*2-1\n",
    "plt.plot(x,y,'.r')"
   ]
  },
  {
   "cell_type": "code",
   "execution_count": 1,
   "metadata": {},
   "outputs": [],
   "source": [
    "def triarea(x1,y1, x2,y2, x3,y3):\n",
    "    #shoelace formula\n",
    "    return 0.5*abs(x1*y2 + x2*y3 + x3*y1 - y1*x2 - y2*x3 - y3*x1)\n",
    "\n",
    "def triarea2(r):\n",
    "    x1,y1 = r[0]\n",
    "    x2,y2 = r[1]\n",
    "    x3,y3 = r[2]\n",
    "    return triarea(x1,y1, x2,y2, x3,y3)\n"
   ]
  },
  {
   "cell_type": "code",
   "execution_count": null,
   "metadata": {
    "collapsed": true
   },
   "outputs": [],
   "source": []
  },
  {
   "cell_type": "markdown",
   "metadata": {
    "collapsed": true
   },
   "source": [
    "### Scheduling Exam\n",
    "\n",
    "Give classes and the intersection of students. Find a decent scheduling under 15 slot for 70 classes. Number of student taking both class `i` and class `j` can be found using `student[i][j]`."
   ]
  },
  {
   "cell_type": "code",
   "execution_count": 105,
   "metadata": {},
   "outputs": [
    {
     "name": "stdout",
     "output_type": "stream",
     "text": [
      "[[ 0 25 27 ..., 40  0 54]\n",
      " [25  0 64 ...,  0  0  8]\n",
      " [27 64  0 ...,  0 69 45]\n",
      " ..., \n",
      " [40  0  0 ...,  0 25 70]\n",
      " [ 0  0 69 ..., 25  0 66]\n",
      " [54  8 45 ..., 70 66  0]]\n"
     ]
    },
    {
     "data": {
      "text/plain": [
       "<matplotlib.image.AxesImage at 0x107dad490>"
      ]
     },
     "execution_count": 105,
     "metadata": {},
     "output_type": "execute_result"
    },
    {
     "data": {
      "image/png": "[encoded data removed]",
      "text/plain": [
       "<matplotlib.figure.Figure at 0x1079ce210>"
      ]
     },
     "metadata": {},
     "output_type": "display_data"
    }
   ],
   "source": [
    "nclass = 70\n",
    "student = np.random.randint(0,100,(nclass, nclass))\n",
    "\n",
    "np.random.seed(222)\n",
    "for i in range(nclass-1):\n",
    "    for j in range(i+1,nclass):\n",
    "        student[i,j] = student[j,i]\n",
    "\n",
    "for i in range(nclass):\n",
    "    student[i,i] = 0 \n",
    "    \n",
    "student[student>70] = 0\n",
    "    \n",
    "print student\n",
    "\n",
    "plt.matshow(student)"
   ]
  },
  {
   "cell_type": "code",
   "execution_count": null,
   "metadata": {
    "collapsed": true
   },
   "outputs": [],
   "source": []
  },
  {
   "cell_type": "markdown",
   "metadata": {},
   "source": [
    "### Simulated Annealing"
   ]
  },
  {
   "cell_type": "markdown",
   "metadata": {
    "collapsed": true
   },
   "source": [
    "1) What's wrong with Hill Climbing?"
   ]
  },
  {
   "cell_type": "code",
   "execution_count": null,
   "metadata": {
    "collapsed": true
   },
   "outputs": [],
   "source": []
  },
  {
   "cell_type": "markdown",
   "metadata": {},
   "source": [
    "2) What is the main idea for fixing that?"
   ]
  },
  {
   "cell_type": "code",
   "execution_count": null,
   "metadata": {
    "collapsed": true
   },
   "outputs": [],
   "source": []
  },
  {
   "cell_type": "markdown",
   "metadata": {},
   "source": [
    "3) Implement the exam scheduling again with Simulated Annealing"
   ]
  },
  {
   "cell_type": "code",
   "execution_count": null,
   "metadata": {
    "collapsed": true
   },
   "outputs": [],
   "source": []
  }
 ],
 "metadata": {
  "kernelspec": {
   "display_name": "Python 3",
   "language": "python",
   "name": "python3"
  },
  "language_info": {
   "codemirror_mode": {
    "name": "ipython",
    "version": 3
   },
   "file_extension": ".py",
   "mimetype": "text/x-python",
   "name": "python",
   "nbconvert_exporter": "python",
   "pygments_lexer": "ipython3",
   "version": "3.6.2"
  }
 },
 "nbformat": 4,
 "nbformat_minor": 1
}

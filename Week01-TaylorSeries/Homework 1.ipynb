{
 "cells": [
  {
   "cell_type": "code",
   "execution_count": 41,
   "metadata": {},
   "outputs": [],
   "source": [
    "%matplotlib inline\n",
    "import numpy as np\n",
    "import math\n",
    "from matplotlib import pyplot as plt"
   ]
  },
  {
   "cell_type": "markdown",
   "metadata": {},
   "source": [
    "### Homework 1\n",
    "\n",
    "Try to do it by hands first(at least for the first term) then check with/ use wolframalpha.\n",
    "\n",
    "Find 3-rd derivative: just type ` d^3/dx^3 tan(x)` or `d^3/dx^3 tan(x) at x =10`\n",
    "\n",
    "If you need to taylor series, just type `taylor cos(x) at x = 0`.\n",
    "\n"
   ]
  },
  {
   "cell_type": "markdown",
   "metadata": {},
   "source": [
    "1) Plot $\\cos(x)$ from $-\\pi$ to $\\pi$ along with the Taylor approximation using (1,2,3,4) terms. I want 5 lines on the same graph."
   ]
  },
  {
   "cell_type": "code",
   "execution_count": 5,
   "metadata": {},
   "outputs": [
    {
     "data": {
      "image/png": "[encoded data removed]",
      "text/plain": [
       "<matplotlib.figure.Figure at 0x10f3168d0>"
      ]
     },
     "metadata": {},
     "output_type": "display_data"
    }
   ],
   "source": [
    "def g(x):\n",
    "    return math.cos(x)\n",
    "def g_0(x):\n",
    "    return 1\n",
    "def g_2(x):\n",
    "    return 1 - ((x**2)/math.factorial(2))\n",
    "def g_4(x):\n",
    "    return 1 - ((x**2)/math.factorial(2)) + ((x**4)/math.factorial(4))\n",
    "def g_6(x):\n",
    "    return 1 - ((x**2)/math.factorial(2)) + ((x**4)/math.factorial(4)) - ((x**6)/math.factorial(6))\n",
    "xs = np.linspace(-math.pi,math.pi,1000)\n",
    "ys = [g(x) for x in xs]\n",
    "cosx = plt.plot(xs, ys, color=\"magenta\", label=\"cos(x)\")\n",
    "\n",
    "ys_0 = [g_0(x) for x in xs]\n",
    "plt.plot(xs, ys_0, color =\"mediumturquoise\", label=\"1 term\")\n",
    "\n",
    "ys_2 = [g_2(x) for x in xs]\n",
    "plt.plot(xs, ys_2, color =\"turquoise\", label =\"2 term\")\n",
    "\n",
    "ys_4 = [g_4(x) for x in xs]\n",
    "plt.plot(xs, ys_4, color =\"teal\", label =\"3 term\")\n",
    "\n",
    "ys_6 = [g_6(x) for x in xs]\n",
    "plt.plot(xs, ys_6, color=\"blue\", label =\"4 term\")\n",
    "\n",
    "plt.axvline(0, color=\"red\")\n",
    "plt.axhline(0, color=\"red\")\n",
    "plt.legend()\n",
    "plt.grid()"
   ]
  },
  {
   "cell_type": "markdown",
   "metadata": {},
   "source": [
    "1.1) If we estimate $\\cos(0.1)$ using 4 **non-zero** terms, what is the bound on the **truncation error**."
   ]
  },
  {
   "cell_type": "markdown",
   "metadata": {},
   "source": [
    "$$\n",
    "    cos(x) = 1 - \\frac{x^2}{2!} + \\frac{x^4}{4!} - \\frac{x^6}{6!} + R_n\n",
    "$$\n",
    "$$\n",
    "    \\begin{align*}\n",
    "    R_n = \\frac{f^{(n+1)}(\\xi)}{(n+1)!}(x-a)^{(n+1)}\\\\\n",
    "    = \\frac{f^{(n+1)}(\\xi)}{(n+1)!}(x-a)^{(n+1)}\\\\\n",
    "    = \\frac{sin(0.1)}{(7)!}(0.1-0)^{(7)}\n",
    "    \\end{align*}\n",
    "$$\n"
   ]
  },
  {
   "cell_type": "code",
   "execution_count": 7,
   "metadata": {},
   "outputs": [
    {
     "name": "stdout",
     "output_type": "stream",
     "text": [
      "error = 1.980821758865639e-12 bound=[0.9950041652797587, 0.9950041652757969]\n"
     ]
    }
   ],
   "source": [
    "err = math.sin(0.1)/math.factorial(7)*0.1**7\n",
    "print(\"error =\", err, \"bound=[\"+str(g_6(0.1)+err)+\", \"+str(g_6(0.1)-err)+\"]\")"
   ]
  },
  {
   "cell_type": "markdown",
   "metadata": {},
   "source": [
    "1.2) How many **non-zero** terms do we need to calculate $\\cos(0.1)$ such that the bound on the **truncation error** is less than $10^{-7}$"
   ]
  },
  {
   "cell_type": "code",
   "execution_count": 37,
   "metadata": {},
   "outputs": [
    {
     "name": "stdout",
     "output_type": "stream",
     "text": [
      "3.0\n"
     ]
    }
   ],
   "source": [
    "def f(n):\n",
    "    return math.sin(0.1)/math.factorial(n+1)*0.1**(n+1)\n",
    "def errorLessThan(f):\n",
    "    n=0\n",
    "    err= f(n)\n",
    "    while(err>=10**-7):\n",
    "        n=n+2\n",
    "        err=f(n)\n",
    "    return n/2+1\n",
    "print(errorLessThan(f))\n"
   ]
  },
  {
   "cell_type": "markdown",
   "metadata": {},
   "source": [
    "2) Plot $\\ln (1+x)$ from $-0.5$ to $0.5$ along with the Taylor approximation using (1,2,3,4) terms. I want 5 lines on the same plot."
   ]
  },
  {
   "cell_type": "code",
   "execution_count": 46,
   "metadata": {},
   "outputs": [
    {
     "data": {
      "image/png": "[encoded data removed]",
      "text/plain": [
       "<matplotlib.figure.Figure at 0x10f430e80>"
      ]
     },
     "metadata": {},
     "output_type": "display_data"
    }
   ],
   "source": [
    "def ln(x):\n",
    "    return math.log(x+1, math.e)\n",
    "def l_1(x):\n",
    "    return x\n",
    "def l_2(x):\n",
    "    return x-(x**2)/math.factorial(2)\n",
    "def l_3(x):\n",
    "    return x-((x**2)/math.factorial(2)) + (2*(x**3)/math.factorial(3))\n",
    "def l_4(x):\n",
    "    return x-((x**2)/math.factorial(2)) + (2*(x**3)/math.factorial(3)) - (6*(x**4)/math.factorial(4))\n",
    "xs = np.linspace(-0.5,0.5,1000)\n",
    "ys = [ln(x) for x in xs]\n",
    "plt.plot(xs,ys)\n",
    "ys1 =[l_1(x) for x in xs]\n",
    "plt.plot(xs, ys1)\n",
    "ys2=[l_2(x) for x in xs]\n",
    "plt.plot(xs, ys2)\n",
    "ys3=[l_3(x) for x in xs]\n",
    "plt.plot(xs, ys3)\n",
    "ys4=[l_4(x) for x in xs]\n",
    "plt.plot(xs, ys4)\n",
    "plt.grid()"
   ]
  },
  {
   "cell_type": "markdown",
   "metadata": {},
   "source": [
    "2.1)If we calculate $\\ln(1.5)$ using 3 **non-zero** terms, what is the bound on the **truncation error**."
   ]
  },
  {
   "cell_type": "code",
   "execution_count": 49,
   "metadata": {},
   "outputs": [
    {
     "name": "stdout",
     "output_type": "stream",
     "text": [
      "0.4010416666666667\n",
      "0.4054651081081644\n"
     ]
    }
   ],
   "source": [
    "print(l_4(0.5))\n",
    "print(math.log(1.5,math.e))"
   ]
  },
  {
   "cell_type": "markdown",
   "metadata": {},
   "source": [
    "2.2)How many **non-zero** terms do we need to calculate $\\ln(1.5)$ such that the bound on **truncation error** is less than $10^{-7}$. Be sure to justify the maximum of $f^{(n+1)}(\\xi)$ term."
   ]
  },
  {
   "cell_type": "code",
   "execution_count": 56,
   "metadata": {},
   "outputs": [
    {
     "data": {
      "text/plain": [
       "19"
      ]
     },
     "execution_count": 56,
     "metadata": {},
     "output_type": "execute_result"
    }
   ],
   "source": [
    "def cal_error(x,f,e):\n",
    "    c_e = f*np.abs((x**(e+1))/math.factorial(e+1))\n",
    "    return c_e\n",
    "e= calError(0.5,6.,3)\n",
    "def cal_term(x,f,counter,limit):\n",
    "    \n",
    "    while(True):\n",
    "        c_e = cal_error(x,math.factorial(f),counter)\n",
    "#         print(counter)\n",
    "        \n",
    "        if (c_e <= limit):\n",
    "            return counter\n",
    "        counter += 1\n",
    "        f+=1\n",
    "        \n",
    "        \n",
    "cal_term(0.5,0,0,10**-7)"
   ]
  },
  {
   "cell_type": "markdown",
   "metadata": {},
   "source": [
    "3) Notice that $\\tan(1) = \\pi/4$ , this means we can calculate $\\pi$ by using $4 \\times \\arctan(1)$\n",
    "\n",
    "So this means that if we find Taylor series expansion of $\\arctan(x)$ around $x=0$, then we can calculate $\\pi$ to any accuracy we want."
   ]
  },
  {
   "cell_type": "markdown",
   "metadata": {},
   "source": [
    "3.1) Find taylor expansion of $\\arctan$ for 3 **non-zero** terms. If you forgot,\n",
    "$$\n",
    "\\frac{d}{dx} \\arctan(x) = \\frac{1}{1+x^2}\n",
    "$$"
   ]
  },
  {
   "cell_type": "markdown",
   "metadata": {},
   "source": [
    "ANS:\n",
    "$arctan(x) = x - \\frac{2(x^3)}{3!} + \\frac{24(x^5)}{5!}$"
   ]
  },
  {
   "cell_type": "code",
   "execution_count": 63,
   "metadata": {},
   "outputs": [],
   "source": [
    "def aTan(x):\n",
    "    return math.atan(x)\n",
    "\n",
    "def at1(x):\n",
    "    return x\n",
    "\n",
    "def at3(x):\n",
    "    return x -2*(x**3)/math.factorial(3)\n",
    "def at5(x): #3 non-zero terms\n",
    "    return x -2*(x**3)/math.factorial(3) +24*(x**5)/math.factorial(5)\n"
   ]
  },
  {
   "cell_type": "markdown",
   "metadata": {},
   "source": [
    "3.2) Guess the rest of the terms"
   ]
  },
  {
   "cell_type": "code",
   "execution_count": 77,
   "metadata": {},
   "outputs": [
    {
     "data": {
      "text/plain": [
       "0.8666666666666667"
      ]
     },
     "execution_count": 77,
     "metadata": {},
     "output_type": "execute_result"
    }
   ],
   "source": [
    "#2,24,720,40320\n",
    "#2!,4!,5!,7!\n",
    "def atNonZeroTermK(x,k):\n",
    "#     if(k<=5):\n",
    "#         print(\"K MUST BE MORE THAN 5\")\n",
    "#         return 0\n",
    "    summ=0\n",
    "    sign = 1\n",
    "    neg =-1\n",
    "    for i in range(k):\n",
    "        j=i*2+1\n",
    "        summ += sign*(math.factorial(j-1)*(x**j)/math.factorial(j))\n",
    "        sign*=neg\n",
    "    return summ\n",
    "atNonZeroTermK(1,3)\n"
   ]
  },
  {
   "cell_type": "markdown",
   "metadata": {},
   "source": [
    "3.3) Calculate $\\pi$ using taylor approximation for 100 **non-zero** terms. (Note I changed this to 100 terms so you must write some sort of for loop to do it)."
   ]
  },
  {
   "cell_type": "code",
   "execution_count": 82,
   "metadata": {},
   "outputs": [
    {
     "data": {
      "text/plain": [
       "3.1315929035585537"
      ]
     },
     "execution_count": 82,
     "metadata": {},
     "output_type": "execute_result"
    }
   ],
   "source": [
    "atNonZeroTermK(1,100)*4\n"
   ]
  },
  {
   "cell_type": "markdown",
   "metadata": {},
   "source": [
    "4) The purpose of this problem is to make sure you know that the bound on $f^{(n+1)}(\\xi)$ after all the cancellation is **NOT** necessarily 1 **NOR** does it have to look the same as the next term in the series.\n",
    "\n",
    "4.1)Find the first 3 **non-zero** terms of Taylor series for\n",
    "$$f(x) = \\frac{1}{1-x}$$"
   ]
  },
  {
   "cell_type": "markdown",
   "metadata": {
    "collapsed": true
   },
   "source": [
    "$\n",
    "    1 + x +x^2\n",
    "$"
   ]
  },
  {
   "cell_type": "markdown",
   "metadata": {},
   "source": [
    "4.2) If we estimate $$\\frac{1}{0.8} = \\frac{1}{1-0.2}$$ using the first 3 non-zero terms, what is the bound on the truncation error. Be careful about evaluating the bound for $f^{(n+1)}({\\xi})$."
   ]
  },
  {
   "cell_type": "code",
   "execution_count": 86,
   "metadata": {},
   "outputs": [
    {
     "name": "stdout",
     "output_type": "stream",
     "text": [
      "error:  0.01953125\n"
     ]
    }
   ],
   "source": [
    "print(\"error: \", (6/(1-0.2)**4) * (0.2**3/ math.factorial(3)))"
   ]
  },
  {
   "cell_type": "markdown",
   "metadata": {},
   "source": [
    "5) (Optional) When Taylor series sort of doesn't work. \n",
    "$$\n",
    "f(x) = \\begin{cases}\n",
    "e^{-1/x^2} & x \\ne 0 \\\\\n",
    "0 & x = 0\n",
    "\\end{cases}\n",
    "$$\n",
    "\n",
    "Find taylor series expansion of this function around $x=0$ for 5 terms. Take the limit carefully.\n",
    "\n",
    "Did you notice something? What's happening? (Plot and Try to calculate the error term to see what is going on)"
   ]
  },
  {
   "cell_type": "code",
   "execution_count": null,
   "metadata": {
    "collapsed": true
   },
   "outputs": [],
   "source": []
  },
  {
   "cell_type": "code",
   "execution_count": null,
   "metadata": {
    "collapsed": true
   },
   "outputs": [],
   "source": []
  }
 ],
 "metadata": {
  "kernelspec": {
   "display_name": "Python 3",
   "language": "python",
   "name": "python3"
  },
  "language_info": {
   "codemirror_mode": {
    "name": "ipython",
    "version": 3
   },
   "file_extension": ".py",
   "mimetype": "text/x-python",
   "name": "python",
   "nbconvert_exporter": "python",
   "pygments_lexer": "ipython3",
   "version": "3.6.2"
  },
  "toc": {
   "colors": {
    "hover_highlight": "#DAA520",
    "running_highlight": "#FF0000",
    "selected_highlight": "#FFD700"
   },
   "moveMenuLeft": true,
   "nav_menu": {
    "height": "30px",
    "width": "252px"
   },
   "navigate_menu": true,
   "number_sections": false,
   "sideBar": true,
   "threshold": 4,
   "toc_cell": false,
   "toc_section_display": "block",
   "toc_window_display": false
  }
 },
 "nbformat": 4,
 "nbformat_minor": 1
}

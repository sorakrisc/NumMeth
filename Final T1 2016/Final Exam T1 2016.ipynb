{
 "cells": [
  {
   "cell_type": "code",
   "execution_count": 1,
   "metadata": {},
   "outputs": [
    {
     "ename": "ModuleNotFoundError",
     "evalue": "No module named 'scipy'",
     "output_type": "error",
     "traceback": [
      "\u001b[0;31m---------------------------------------------------------------------------\u001b[0m",
      "\u001b[0;31mModuleNotFoundError\u001b[0m                       Traceback (most recent call last)",
      "\u001b[0;32m<ipython-input-1-71ea33c61d94>\u001b[0m in \u001b[0;36m<module>\u001b[0;34m()\u001b[0m\n\u001b[1;32m      3\u001b[0m \u001b[0;32mimport\u001b[0m \u001b[0mnumpy\u001b[0m \u001b[0;32mas\u001b[0m \u001b[0mnp\u001b[0m\u001b[0;34m\u001b[0m\u001b[0m\n\u001b[1;32m      4\u001b[0m \u001b[0;32mimport\u001b[0m \u001b[0mmath\u001b[0m\u001b[0;34m\u001b[0m\u001b[0m\n\u001b[0;32m----> 5\u001b[0;31m \u001b[0;32mimport\u001b[0m \u001b[0mscipy\u001b[0m\u001b[0;34m\u001b[0m\u001b[0m\n\u001b[0m",
      "\u001b[0;31mModuleNotFoundError\u001b[0m: No module named 'scipy'"
     ]
    }
   ],
   "source": [
    "%matplotlib inline\n",
    "from matplotlib import pyplot as plt\n",
    "import numpy as np\n",
    "import math\n",
    "import scipy"
   ]
  },
  {
   "cell_type": "markdown",
   "metadata": {},
   "source": [
    "# Rules:\n",
    "- Open book, open notes, open google, open wolfram alpha. No chat no forum post.\n",
    "- 8 Problem 100 each.\n",
    "- Full score = 720.\n",
    "- Comment your code. Write your code with good style.\n",
    "- For problem 6, 7, 8 there is a +10 bonus for each problem on good coding style."
   ]
  },
  {
   "cell_type": "markdown",
   "metadata": {},
   "source": [
    "# 1) Easy Stuff"
   ]
  },
  {
   "cell_type": "markdown",
   "metadata": {},
   "source": [
    "1.1) Use gaussian elimination to solve the following system of equations. You can do it by hands. No need to implement one.\n",
    "\n",
    "$$\n",
    "\\begin{bmatrix}\n",
    "1 & 2 & 3 \\\\\n",
    "2 & -1 & 2 \\\\\n",
    "-1 & 2 & 3\n",
    "\\end{bmatrix}\n",
    "\\begin{bmatrix}\n",
    "x\\\\\n",
    "y \\\\\n",
    "z\n",
    "\\end{bmatrix}\n",
    "=\n",
    "\\begin{bmatrix}\n",
    "13 \\\\\n",
    "-2 \\\\\n",
    "15\n",
    "\\end{bmatrix}\n",
    "$$"
   ]
  },
  {
   "cell_type": "code",
   "execution_count": null,
   "metadata": {},
   "outputs": [],
   "source": []
  },
  {
   "cell_type": "markdown",
   "metadata": {},
   "source": [
    "1.2) Random number manipulation. \n",
    "\n",
    "Use **np.random.rand()** which generate uniform random real number from 0-1. To generate the following random number generator which generates"
   ]
  },
  {
   "cell_type": "markdown",
   "metadata": {},
   "source": [
    "1.2.1) A uniform random real number from 99-308"
   ]
  },
  {
   "cell_type": "code",
   "execution_count": null,
   "metadata": {
    "collapsed": true
   },
   "outputs": [],
   "source": []
  },
  {
   "cell_type": "markdown",
   "metadata": {},
   "source": [
    "1.2.2) A random ** integer ** which gives 0 50% of the time and  1 50% of the time."
   ]
  },
  {
   "cell_type": "code",
   "execution_count": null,
   "metadata": {
    "collapsed": true
   },
   "outputs": [],
   "source": []
  },
  {
   "cell_type": "markdown",
   "metadata": {},
   "source": [
    "1.2.3) A random ** integer ** which gives 1 20% of the time and  2 30% and 3 50% of the time."
   ]
  },
  {
   "cell_type": "code",
   "execution_count": null,
   "metadata": {
    "collapsed": true
   },
   "outputs": [],
   "source": []
  },
  {
   "cell_type": "markdown",
   "metadata": {},
   "source": [
    "# 2) System of Non-linear Equations"
   ]
  },
  {
   "cell_type": "markdown",
   "metadata": {},
   "source": [
    "Find **all solutions** to the following system of non linear equations using Newton's Method.\n",
    "$$x^2 + y^2 = 9.8667 - xy$$\n",
    "$$y^3  = 14.042904 - x$$"
   ]
  },
  {
   "cell_type": "code",
   "execution_count": null,
   "metadata": {
    "collapsed": true
   },
   "outputs": [],
   "source": [
    "#give me ALL solutions"
   ]
  },
  {
   "cell_type": "markdown",
   "metadata": {},
   "source": [
    "# 3) Gradient Descent."
   ]
  },
  {
   "cell_type": "markdown",
   "metadata": {},
   "source": [
    "3.1) (70) Implement a gradient descent method to find the **maximum** location of the following function. Note that You ** must ** use analytic gradient.\n",
    "\n",
    "$$f(x,y) = -4 x^2 + 4 x y - 6.5 y^2 + 27 y - 30.5 $$"
   ]
  },
  {
   "cell_type": "code",
   "execution_count": null,
   "metadata": {
    "collapsed": true
   },
   "outputs": [],
   "source": [
    "#REPEAT: I want the maximum NOT the minimum."
   ]
  },
  {
   "cell_type": "markdown",
   "metadata": {},
   "source": [
    "3.2) (30) Answer the following questions.\n",
    "- What is wrong with large learning rate($\\lambda$)?\n",
    "- What is wrong with small learning rate($\\lambda$)?"
   ]
  },
  {
   "cell_type": "code",
   "execution_count": null,
   "metadata": {
    "collapsed": true
   },
   "outputs": [],
   "source": []
  },
  {
   "cell_type": "markdown",
   "metadata": {},
   "source": [
    "# 4) Fitting"
   ]
  },
  {
   "cell_type": "markdown",
   "metadata": {},
   "source": [
    "Suppose that we want to fit the following data with the function\n",
    "$$\n",
    "f(x) = S \\sin(2x) + T \\cos(x)\n",
    "$$\n",
    "for some value of $S$ and $T$.\n",
    "\n",
    "Find $S$ and $T$ that gives you the best fit."
   ]
  },
  {
   "cell_type": "code",
   "execution_count": 60,
   "metadata": {},
   "outputs": [
    {
     "data": {
      "image/png": "[encoded data removed]",
      "text/plain": [
       "<matplotlib.figure.Figure at 0x106e03d10>"
      ]
     },
     "metadata": {},
     "output_type": "display_data"
    }
   ],
   "source": [
    "xs = np.array([ 0.        ,  0.07070707,  0.14141414,  0.21212121,  0.28282828,\n",
    "        0.35353535,  0.42424242,  0.49494949,  0.56565657,  0.63636364,\n",
    "        0.70707071,  0.77777778,  0.84848485,  0.91919192,  0.98989899,\n",
    "        1.06060606,  1.13131313,  1.2020202 ,  1.27272727,  1.34343434,\n",
    "        1.41414141,  1.48484848,  1.55555556,  1.62626263,  1.6969697 ,\n",
    "        1.76767677,  1.83838384,  1.90909091,  1.97979798,  2.05050505,\n",
    "        2.12121212,  2.19191919,  2.26262626,  2.33333333,  2.4040404 ,\n",
    "        2.47474747,  2.54545455,  2.61616162,  2.68686869,  2.75757576,\n",
    "        2.82828283,  2.8989899 ,  2.96969697,  3.04040404,  3.11111111,\n",
    "        3.18181818,  3.25252525,  3.32323232,  3.39393939,  3.46464646,\n",
    "        3.53535354,  3.60606061,  3.67676768,  3.74747475,  3.81818182,\n",
    "        3.88888889,  3.95959596,  4.03030303,  4.1010101 ,  4.17171717,\n",
    "        4.24242424,  4.31313131,  4.38383838,  4.45454545,  4.52525253,\n",
    "        4.5959596 ,  4.66666667,  4.73737374,  4.80808081,  4.87878788,\n",
    "        4.94949495,  5.02020202,  5.09090909,  5.16161616,  5.23232323,\n",
    "        5.3030303 ,  5.37373737,  5.44444444,  5.51515152,  5.58585859,\n",
    "        5.65656566,  5.72727273,  5.7979798 ,  5.86868687,  5.93939394,\n",
    "        6.01010101,  6.08080808,  6.15151515,  6.22222222,  6.29292929,\n",
    "        6.36363636,  6.43434343,  6.50505051,  6.57575758,  6.64646465,\n",
    "        6.71717172,  6.78787879,  6.85858586,  6.92929293,  7.        ])\n",
    "ys = np.array([ 3.72515529,  3.4727474 ,  3.3788531 ,  3.60298275,  3.8991919 ,\n",
    "        3.70314515,  3.62981858,  3.66039441,  3.72800125,  3.39174439,\n",
    "        3.63980455,  3.72510889,  3.30534045,  3.66505718,  2.97192081,\n",
    "        2.55203226,  2.17099912,  1.89021988,  2.11978339,  1.4791787 ,\n",
    "        0.24336124,  0.41316969, -0.16163589, -0.69736005, -0.61562678,\n",
    "       -1.01966665, -0.92835316, -1.78973814, -2.01805286, -2.82516124,\n",
    "       -2.12669211, -2.52379795, -3.43188576, -3.75279572, -3.47068125,\n",
    "       -4.06874075, -4.01196567, -3.96783129, -4.15055945, -3.99025741,\n",
    "       -4.32420953, -4.05742912, -4.0570261 , -3.52329268, -3.48553174,\n",
    "       -2.9995994 , -2.59735664, -2.93027728, -2.45657532, -2.39101232,\n",
    "       -2.03393182, -2.23814747, -1.24798025, -0.86659942, -1.01484673,\n",
    "       -0.80620323, -0.92322741, -1.0265768 , -0.41942525, -0.11340362,\n",
    "       -0.70481914, -0.18904058, -0.34344383, -0.45107575,  0.07779254,\n",
    "       -0.31518001,  0.36604633, -0.08380562,  0.26751127, -0.66736063,\n",
    "       -0.2376135 , -0.56938745,  0.46057821,  0.27086817,  0.47224706,\n",
    "        0.833479  ,  0.92143991,  0.98647378,  1.41751427,  1.33319141,\n",
    "        1.33386002,  1.6986983 ,  2.33267529,  1.94460353,  1.92155669,\n",
    "        2.15670953,  2.98718886,  2.55332975,  2.97739198,  3.85692973,\n",
    "        3.49767493,  3.71042522,  3.6690196 ,  4.53529569,  3.85663082,\n",
    "        3.60838203,  3.7167392 ,  3.89133533,  3.07286505,  3.63357033])\n",
    "plt.plot(xs,ys,'.');"
   ]
  },
  {
   "cell_type": "code",
   "execution_count": null,
   "metadata": {
    "collapsed": true
   },
   "outputs": [],
   "source": []
  },
  {
   "cell_type": "markdown",
   "metadata": {},
   "source": [
    "# 5) Monte Carlo Integration"
   ]
  },
  {
   "cell_type": "markdown",
   "metadata": {},
   "source": [
    "5.1) Evaluate the following integral using Monte Carlo method.\n",
    "\n",
    "$$ \\iiint \\limits_C (x^2 + y^2 + \\sin(z))^2 \\; dx \\; dy \\;dz$$\n",
    "\n",
    "where $C$ is a sphere of radius 1 centered at $(3,2,1)$"
   ]
  },
  {
   "cell_type": "code",
   "execution_count": null,
   "metadata": {
    "collapsed": true
   },
   "outputs": [],
   "source": []
  },
  {
   "cell_type": "markdown",
   "metadata": {},
   "source": [
    "5.2) Evaluate the following integral\n",
    "\n",
    "$$ \\iint \\limits_D (x+2y)^2 \\; dx \\; dy$$\n",
    "\n",
    "where $D$ the red area show in the picture below. It is the intersection of\n",
    "- circle which centers at (-1.5, 0) with radius 2\n",
    "- circle which centers at (1, 0) with readius 2\n",
    "\n",
    "<img src=\"area.png\"/>"
   ]
  },
  {
   "cell_type": "code",
   "execution_count": null,
   "metadata": {
    "collapsed": true
   },
   "outputs": [],
   "source": []
  },
  {
   "cell_type": "markdown",
   "metadata": {},
   "source": [
    "# 6) Minimization"
   ]
  },
  {
   "cell_type": "markdown",
   "metadata": {},
   "source": [
    "Suppose that AJ Piti wants to buy a new house. What he wants to do is to minimize the travel time from his house to all the places he has to go so that he has more time to play games.\n",
    "\n",
    "Here are the coordinates of places he has to go and what how frequent he goes there. For simplicity, you may assume that the car speed are the same for all routes.\n",
    "\n",
    "In a year AJ Piti will need to travel **from his home** to the following places\n",
    "- To/From MUIC at (-2.0, 1.5) 200 times a year\n",
    "- To/From Central Pinklao at (-3.0, 1.2) 50 times a year\n",
    "- To/From Don Meung at (10, -3) 10 times a year\n",
    "- To/From SuwannaBhumi at (3, 4) 5 times a year\n",
    "- To/From Noodle Place at (3,-0.1) 30 times a year\n",
    "- For the rest of the year he will just stay home and play games.\n",
    "\n",
    "Find out the corrdinate where he should buy his new house.\n",
    "\n",
    "You may use **scipy.optimize.minimize**"
   ]
  },
  {
   "cell_type": "code",
   "execution_count": 46,
   "metadata": {},
   "outputs": [
    {
     "data": {
      "text/plain": [
       "[<matplotlib.lines.Line2D at 0x106103d50>]"
      ]
     },
     "execution_count": 46,
     "metadata": {},
     "output_type": "execute_result"
    },
    {
     "data": {
      "image/png": "[encoded data removed]",
      "text/plain": [
       "<matplotlib.figure.Figure at 0x105ec9890>"
      ]
     },
     "metadata": {},
     "output_type": "display_data"
    }
   ],
   "source": [
    "xs = np.array([-2.0, -3.0, 10, 3, 3])\n",
    "ys = np.array([1.5,1.2,-3,4,-0.1])\n",
    "freq = np.array([200.0, 50.0, 10.0, 5.0, 30.0])\n",
    "plt.plot(xs, ys,'o')"
   ]
  },
  {
   "cell_type": "markdown",
   "metadata": {},
   "source": [
    "# 7) Monte Carlo Simulations."
   ]
  },
  {
   "cell_type": "markdown",
   "metadata": {},
   "source": [
    "### Background\n",
    "When people try to beat the casino, one common strategy that they come up with is called a Martingale Strategy. It works as follow.\n",
    "\n",
    "Let consider a game where you have 50% chance of winning like flipping a coin. If you bet $x$ and you win you get $2x$ back while if you lose you lose $x$.\n",
    "\n",
    "The main idea of this strategy is trying to get back what you lose on all the previous on the next turn. This means that we will need to bet more and more as we goes on. Eventually we will win and recoup all the losses and getting some profit.\n",
    "\n",
    "Suppose you start your bet with 1 Baht. If you lose, then you wil lose 1 Baht. So if the next turn you bet 2 Baht since you want to recover from the lose last turn. If you win then you will win 2 Baht in which 1 Baht will be used to cover your lost from the previous turn and net you the profit of 1 Baht.\n",
    "\n",
    "But if you lose two turn in a row that means you are down by 3 Baht. So all you have to do is to bet 4 Baht next turn to cover your lost and get 1 Baht profit if you want as simple as that.\n",
    "\n",
    "Using geometric sum one can figure out that the strategy is\n",
    "- **If we lose bet twice what we did on the previous turn.**\n",
    "- **If we win, bet 1 Baht next turn.**\n",
    "\n",
    "This will give you enough to cover your lost.\n",
    "\n",
    "### Problem\n",
    "\n",
    "For martingale strategy as described earlier. Suppose that your goal is to make profit of 5 Baht within 30 turns. This means that once your profit 5 Baht or more you will stop.\n",
    "\n",
    "What is the probability that you will walk out with 5 Baht profit in your pocket?\n",
    "\n",
    "### Bonus 1 point\n",
    "Why doesn't this work in real life?"
   ]
  },
  {
   "cell_type": "code",
   "execution_count": null,
   "metadata": {
    "collapsed": true
   },
   "outputs": [],
   "source": []
  },
  {
   "cell_type": "markdown",
   "metadata": {},
   "source": [
    "# 8) Hacking Encryption with Hill Climbing.\n",
    "\n",
    "DO NOT PANIC. THIS IS MUCH EASIER THAN IT LOOKS. THE REASON IT IS LONG IS BECAUSE I TELL YOU EXACTLY WHAT TO DO.\n",
    "\n",
    "### Substitution Encryption\n",
    "\n",
    "One of the weakest encryption is called substibution encryption. Here is how it works let's supposed that my message that I want to send to you is\n",
    "```\n",
    "this problem is easy\n",
    "```\n",
    "\n",
    "The substition encryption works by replacing each letter using a fixed dictionary. For example, suppose my encryption key dictionary is\n",
    "```python\n",
    "{'a':'b', 'b':'c', 'c':'d', ...}\n",
    "```\n",
    "This tells that every character `a` in the message should be replaced by letter `b` in the encrypted messsage and so on.\n",
    "\n",
    "Using the dictionary above, then the encrypted message would be\n",
    "```\n",
    "uijt qspcmfn jt fbtz \n",
    "```\n",
    "\n",
    "If we know the dictionary key(which is typically agreed before sending the message), it's very easy to invert. Since `a` maps to `b` in encryption that means to decrypt it we just need to replace every `b` to `a`.\n",
    "\n",
    "ROT13 you did in programming I is an example of substitution encryption.\n",
    "\n",
    "In this problem we will use hill climbing to crack this encryption. That is we want to decrypt the message **without** knowing what the encryption key is. We are going to use math and some probabilities. For simplicity of this problem we will only deal with lower case letters and no punctuation except for space.\n",
    "\n",
    "### Problem\n",
    "\n",
    "In this problem your job is to **decrypt the msssage**.\n",
    " - The encrypted message is\n",
    "```\n",
    " vxm enkv embgryjz vxrou ro vxm qnbzp r vxroi rk vxm roftrzrvl ny vxm xjefo erop vn gnbbmzfvm fzz rvk gnovmovk qm zrwm no f azfgrp rkzfop ny ruonbfogm ro vxm erpkv ny tzfgi kmfk ny royrorvl fop rv qfk onv emfov vxfv qm kxnjzp wnlfum yfb vxm kgrmogmk mfgx kvbfrorou ro rvk nqo prbmgvrno xfwm xrvxmbvn xfbemp jk zrvvzm tjv knem pfl vxm armgrou vnumvxmb ny prkkngrfvmp ionqzmpum qrzz namo ja kjgx vmbbrylrou wrkvfk ny bmfzrvl fop ny njb ybruxvyjz ankrvrno vxmbmro vxfv qm kxfzz mrvxmb un efp ybne vxm bmwmzfvrno nb yzmm ybne vxm zruxv rovn vxm amfgm fop kfymvl ny f omq pfbi fum\n",
    "```\n",
    "\n",
    "Of course you are not given the encryption key. The goal is to find the best encryption key and decrypt the message.\n",
    "\n",
    "### What is the best key?\n",
    "\n",
    "Since you are not given the encryption key, it seems like it is impossible to decrypt the message. However, due to probabilistic nature of natural language, it is quite easy to figure out whether a random sequence of letters the real english message or not. A good key would give a decrypt message that looks like a real english message.\n",
    "\n",
    "For example, given the same encrypted message and you guess for two keys. The first key gives you the decrypted message of\n",
    "```\n",
    "i am the best\n",
    "```\n",
    "while the second key give you the decrypted message of\n",
    "```\n",
    "j bn uif cftu\n",
    "```\n",
    "It is quite clear the that top one is more like an English language therefore the first key is probably a better key.\n",
    "\n",
    "To tell a computer what sequence of letter looks more like English. We can take a look at thick book and look for how frequent 2 consecutive letters(bigram) appear in the book.\n",
    "\n",
    "For example, let's take the probability of 2 consecutive letters(bigram) to appear in an english message. The bigram `th` appears way more than `di`. So, if the encryption key that gives a lot of `th` bigram is more likely to be correct than the one that gives a lot of `di`.\n",
    "\n",
    "Plus the fact that one character word is most likely going to be either `a` or `i`. If the key we guess put `a` or `i` in there, we are probably getting the right key.\n",
    "\n",
    "Our method relies on the fact that some n consecutive letters(n-gram) appear more than other. Fortunately, someone wrote a program to read a huge amount of English books and count how many times n-gram appear. The file for 2-gram frequency is given in `count_2l.txt` and the file for 3-gram frequency is given in `count_3l.txt`. Source: http://norvig.com/ngrams/\n",
    "\n",
    "To help you, I already give you a function for reading those files and convert the frequencies to score(which is a log probability). (If you want to know why, take pattern recognition.). The result is kept in dictionaries(more on next section).\n",
    "\n",
    "### How the score works\n",
    "\n",
    "As described in the previous section, the score should be a measure of how likely a sequence of decrpyted message to be an english message. To give an accurate score, we want to split the score in to three cases depending on the length of the word.\n",
    "\n",
    "To give a score on a decrypted message. The score will be the sum of the score on each decrypted word.\n",
    "- For word with 1 letter the score is given by looking up the dictionary `unigram_score`\n",
    "- For word with 2 letters the score is given by looking up the dictionary `bigram_score`\n",
    "- For word with 3 or more letters the score is given by computing the score of **every trigram**. The score of each trigram is given by the dictionary `trigram_score`. For example, the decrypted word `defts` will score\n",
    "```python\n",
    "trigram_score['def'] + trigram_score['eft'] + trigram_score['fts']\n",
    "```\n",
    "- The total score is given by the sum of score for each word in the decrypted message.\n",
    "\n",
    "#### Note:\n",
    "For dictionary lookup fail just give it score of -100). `dict.get` is your friend.\n",
    "\n",
    "### Hint\n",
    "\n",
    " - Do not write this whole thing in one big function. You will just confuse yourself.\n",
    " - It should converge within a couple thousand iterations. If it doesn't, try agian, it might get stuck at local minima.\n",
    "\n",
    "### Bonus(1 ponit)\n",
    "What story is the message from?"
   ]
  },
  {
   "cell_type": "code",
   "execution_count": 2,
   "metadata": {},
   "outputs": [],
   "source": [
    "cipher_text = 'vxm enkv embgryjz vxrou ro vxm qnbzp r vxroi rk vxm roftrzrvl ny vxm xjefo erop vn gnbbmzfvm fzz rvk gnovmovk qm zrwm no f azfgrp rkzfop ny ruonbfogm ro vxm erpkv ny tzfgi kmfk ny royrorvl fop rv qfk onv emfov vxfv qm kxnjzp wnlfum yfb vxm kgrmogmk mfgx kvbfrorou ro rvk nqo prbmgvrno xfwm xrvxmbvn xfbemp jk zrvvzm tjv knem pfl vxm armgrou vnumvxmb ny prkkngrfvmp ionqzmpum qrzz namo ja kjgx vmbbrylrou wrkvfk ny bmfzrvl fop ny njb ybruxvyjz ankrvrno vxmbmro vxfv qm kxfzz mrvxmb un efp ybne vxm bmwmzfvrno nb yzmm ybne vxm zruxv rovn vxm amfgm fop kfymvl ny f omq pfbi fum'"
   ]
  },
  {
   "cell_type": "code",
   "execution_count": 3,
   "metadata": {},
   "outputs": [
    {
     "name": "stdout",
     "output_type": "stream",
     "text": [
      "vxm enkv embgryjz vxrou ro vxm qnbzp r vxroi rk vxm roftrzrvl ny vxm xjefo erop vn gnbbmzfvm fzz rvk gnovmovk qm zrwm no f azfgrp rkzfop ny ruonbfogm ro vxm erpkv ny tzfgi kmfk ny royrorvl fop rv qfk onv emfov vxfv qm kxnjzp wnlfum yfb vxm kgrmogmk mfgx kvbfrorou ro rvk nqo prbmgvrno xfwm xrvxmbvn xfbemp jk zrvvzm tjv knem pfl vxm armgrou vnumvxmb ny prkkngrfvmp ionqzmpum qrzz namo ja kjgx vmbbrylrou wrkvfk ny bmfzrvl fop ny njb ybruxvyjz ankrvrno vxmbmro vxfv qm kxfzz mrvxmb un efp ybne vxm bmwmzfvrno nb yzmm ybne vxm zruxv rovn vxm amfgm fop kfymvl ny f omq pfbi fum\n"
     ]
    }
   ],
   "source": [
    "print (cipher_text)"
   ]
  },
  {
   "cell_type": "code",
   "execution_count": 5,
   "metadata": {},
   "outputs": [],
   "source": [
    "import string\n",
    "\n",
    "def load_l2score_dict():\n",
    "    with open('count_2l.txt') as f:\n",
    "        total = 0\n",
    "        d = {}\n",
    "        for l in f:\n",
    "            t, n = l.split()\n",
    "            d[t] = int(n)\n",
    "            total += int(n)\n",
    "        for k,v in d.items():\n",
    "            d[k] = math.log(d[k]/float(total))\n",
    "        return d\n",
    "    \n",
    "def load_l3score_dict():\n",
    "    with open('count_3l.txt') as f:\n",
    "        total = 0\n",
    "        d = {}\n",
    "        for l in f:\n",
    "            t, n = l.split()\n",
    "            d[t] = int(n)\n",
    "            total += int(n)\n",
    "        for k,v in d.items():\n",
    "            d[k] = math.log(d[k]/float(total))\n",
    "    return d\n",
    "unigram_score = {x: (math.log(0.5) if x=='a' or x=='i' else -100.) for x in string.ascii_lowercase}\n",
    "bigram_score = load_l2score_dict()\n",
    "trigram_score = load_l3score_dict()"
   ]
  },
  {
   "cell_type": "code",
   "execution_count": 7,
   "metadata": {},
   "outputs": [
    {
     "name": "stdout",
     "output_type": "stream",
     "text": [
      "-0.6931471805599453\n",
      "-3.913570062071025\n",
      "-5.299868266670957\n",
      "-6.110152491400357\n"
     ]
    }
   ],
   "source": [
    "print (unigram_score['a'])\n",
    "print (bigram_score['th']) # more frequent word more score(less negative)\n",
    "print (bigram_score['di']) # less frequent word less score(more negative)\n",
    "print (trigram_score['thi'])"
   ]
  },
  {
   "cell_type": "code",
   "execution_count": 46,
   "metadata": {},
   "outputs": [],
   "source": [
    "def lookup(dkey, c):\n",
    "    if (c==' '):\n",
    "        return ' '\n",
    "    else:\n",
    "        return dkey[c]\n",
    "def decrypt(dkey, emsg):\n",
    "    return ''.join([lookup(dkey, c) for c in emsg])\n",
    "\n",
    "def score_unigram(word):\n",
    "    return unigram_score.get(word,-100)\n",
    "def score_bigram(word):\n",
    "    return bigram_score.get(word,-100)\n",
    "def score_trigram(word):\n",
    "    if (len(word)==3):\n",
    "        return trigram_score.get(word, -100)\n",
    "    else:\n",
    "        return trigram_score.get(word[:3],-100) + score_trigram(word[1:])\n",
    "        \n",
    "def score_decrypt_message(dmsg):\n",
    "    s = 0.\n",
    "    for word in dmsg.split(' '):\n",
    "        l = len(word)\n",
    "        if l == 1:\n",
    "            s+=score_unigram(word)\n",
    "        elif l == 2:\n",
    "            s+=score_bigram(word)\n",
    "        elif l >2:\n",
    "            s+=score_trigram(word)\n",
    "    return s\n",
    "\n",
    "\n",
    "def swapkeyrandom(ddkey):\n",
    "    dkey=ddkey.copy()\n",
    "    firstrandomletter =string.ascii_lowercase[np.random.randint(26)]\n",
    "    secrandomletter = string.ascii_lowercase[np.random.randint(26)]\n",
    "    temp1 = ddkey[firstrandomletter]\n",
    "    temp2 = ddkey[secrandomletter]\n",
    "    dkey[firstrandomletter]=temp2\n",
    "    dkey[secrandomletter]= temp1\n",
    "    \n",
    "    return dkey\n"
   ]
  },
  {
   "cell_type": "code",
   "execution_count": 48,
   "metadata": {},
   "outputs": [
    {
     "name": "stdout",
     "output_type": "stream",
     "text": [
      "{'a': 'a', 'b': 'b', 'c': 'c', 'd': 'd', 'e': 'e', 'f': 'f', 'g': 'g', 'h': 'h', 'i': 'i', 'j': 'j', 'k': 'k', 'l': 'l', 'm': 'm', 'n': 'n', 'o': 'o', 'p': 'p', 'q': 'q', 'r': 'r', 's': 's', 't': 't', 'u': 'u', 'v': 'v', 'w': 'w', 'x': 'x', 'y': 'y', 'z': 'z'}\n",
      "-3903.8392713492744\n",
      "{'a': 'p', 'b': 'r', 'c': 'x', 'd': 'z', 'e': 'm', 'f': 'a', 'g': 'c', 'h': 'j', 'i': 'k', 'j': 'u', 'k': 's', 'l': 'y', 'm': 'e', 'n': 'o', 'o': 'n', 'p': 'd', 'q': 'w', 'r': 'i', 's': 'q', 't': 'b', 'u': 'g', 'v': 't', 'w': 'v', 'x': 'h', 'y': 'f', 'z': 'l'}\n"
     ]
    },
    {
     "data": {
      "text/plain": [
       "'the most merciful thing in the world i think is the inability of the human mind to correlate all its contents we live on a placid island of ignorance in the midst of black seas of infinity and it was not meant that we should voyage far the sciences each straining in its own direction have hitherto harmed us little but some day the piecing together of dissociated knowledge will open up such terrifying vistas of reality and of our frightful position therein that we shall either go mad from the revelation or flee from the light into the peace and safety of a new dark age'"
      ]
     },
     "execution_count": 48,
     "metadata": {},
     "output_type": "execute_result"
    }
   ],
   "source": [
    "inikey={}\n",
    "newMsg = cipher_text\n",
    "for alph in string.ascii_lowercase:\n",
    "    inikey[alph]=alph\n",
    "\n",
    "newKey = inikey\n",
    "print(newKey)\n",
    "MaxScore = score_decrypt_message(newMsg)\n",
    "print(MaxScore)\n",
    "for i in range(20000):\n",
    "    tempKey = swapkeyrandom(newKey)\n",
    "    tempMsg = decrypt(tempKey, newMsg)\n",
    "    tempScore = score_decrypt_message(tempMsg)\n",
    "    if (MaxScore< tempScore):\n",
    "        newKey = tempKey\n",
    "#         newMsg = tempMsg\n",
    "        MaxScore = tempScore\n",
    "    \n",
    "print(newKey)\n",
    "decrypt(newKey, newMsg)"
   ]
  },
  {
   "cell_type": "code",
   "execution_count": 10,
   "metadata": {},
   "outputs": [
    {
     "data": {
      "text/plain": [
       "{1: 2}"
      ]
     },
     "execution_count": 10,
     "metadata": {},
     "output_type": "execute_result"
    }
   ],
   "source": [
    "state={}\n",
    "state[1]=2\n",
    "state"
   ]
  },
  {
   "cell_type": "code",
   "execution_count": null,
   "metadata": {},
   "outputs": [],
   "source": []
  },
  {
   "cell_type": "code",
   "execution_count": 17,
   "metadata": {},
   "outputs": [
    {
     "data": {
      "text/plain": [
       "'def'"
      ]
     },
     "execution_count": 17,
     "metadata": {},
     "output_type": "execute_result"
    }
   ],
   "source": [
    "a=\"abcdef\"\n",
    "a[3:]"
   ]
  },
  {
   "cell_type": "code",
   "execution_count": null,
   "metadata": {},
   "outputs": [],
   "source": []
  }
 ],
 "metadata": {
  "kernelspec": {
   "display_name": "Python 3",
   "language": "python",
   "name": "python3"
  },
  "language_info": {
   "codemirror_mode": {
    "name": "ipython",
    "version": 3
   },
   "file_extension": ".py",
   "mimetype": "text/x-python",
   "name": "python",
   "nbconvert_exporter": "python",
   "pygments_lexer": "ipython3",
   "version": "3.6.2"
  }
 },
 "nbformat": 4,
 "nbformat_minor": 1
}

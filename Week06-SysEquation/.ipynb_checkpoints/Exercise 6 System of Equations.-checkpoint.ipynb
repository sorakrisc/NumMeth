{
 "cells": [
  {
   "cell_type": "markdown",
   "metadata": {},
   "source": [
    "###Exercise 6"
   ]
  },
  {
   "cell_type": "code",
   "execution_count": null,
   "metadata": {
    "collapsed": true
   },
   "outputs": [],
   "source": [
    "%matplotlib inline\n",
    "from matplotlib import pyplot as plt\n",
    "import numpy as np\n",
    "import math"
   ]
  },
  {
   "cell_type": "markdown",
   "metadata": {},
   "source": [
    "Fun with Numpy Slicing and Broadcast assignment."
   ]
  },
  {
   "cell_type": "markdown",
   "metadata": {},
   "source": [
    "1) Creating an array"
   ]
  },
  {
   "cell_type": "code",
   "execution_count": null,
   "metadata": {},
   "outputs": [],
   "source": [
    "a = np.array([[1.,2.],[3.,4.],[5.,6.]])\n",
    "print a"
   ]
  },
  {
   "cell_type": "markdown",
   "metadata": {},
   "source": [
    "2)Getting Array shape"
   ]
  },
  {
   "cell_type": "code",
   "execution_count": null,
   "metadata": {},
   "outputs": [],
   "source": [
    "print a.shape\n",
    "print a.shape[0]\n",
    "print a.shape[1]"
   ]
  },
  {
   "cell_type": "markdown",
   "metadata": {},
   "source": [
    "3) Creating array of zeros"
   ]
  },
  {
   "cell_type": "code",
   "execution_count": null,
   "metadata": {},
   "outputs": [],
   "source": [
    "b = np.zeros((10,5))\n",
    "print b\n",
    "print b.shape"
   ]
  },
  {
   "cell_type": "markdown",
   "metadata": {},
   "source": [
    "4) Using for loop to write an array"
   ]
  },
  {
   "cell_type": "code",
   "execution_count": null,
   "metadata": {},
   "outputs": [],
   "source": [
    "c = np.zeros((10,5)) #Note the parenthesis. The argument is a tuple.\n",
    "nrow, ncol = c.shape\n",
    "for irow in range(nrow):\n",
    "    for icol in range(ncol):\n",
    "        c[irow,icol] = 20*irow + icol\n",
    "        #you can do either c[irow][icol] or c[irow, icol]\n",
    "print c"
   ]
  },
  {
   "cell_type": "markdown",
   "metadata": {},
   "source": [
    "5) Access array."
   ]
  },
  {
   "cell_type": "code",
   "execution_count": null,
   "metadata": {},
   "outputs": [],
   "source": [
    "#row 2\n",
    "print c[2]\n",
    "#row 2 column 3\n",
    "print c[2][3]\n",
    "print c[2,3] #either way"
   ]
  },
  {
   "cell_type": "markdown",
   "metadata": {},
   "source": [
    "6) Array Slicing"
   ]
  },
  {
   "cell_type": "code",
   "execution_count": null,
   "metadata": {},
   "outputs": [],
   "source": [
    "print c[1:4,2] #first index can be from [2,4) = 2,3 (not including the end)\n",
    "         #second index has to be 2"
   ]
  },
  {
   "cell_type": "code",
   "execution_count": null,
   "metadata": {},
   "outputs": [],
   "source": [
    "print c[1, 1:5] #first index 1, second index from [1,5) = 1,2,3,4"
   ]
  },
  {
   "cell_type": "code",
   "execution_count": null,
   "metadata": {},
   "outputs": [],
   "source": [
    "print c[1:3,2:5] #you can slice a rectangle from it too"
   ]
  },
  {
   "cell_type": "code",
   "execution_count": null,
   "metadata": {},
   "outputs": [],
   "source": [
    "print c[1:,2] #row 1 and on, column 2"
   ]
  },
  {
   "cell_type": "code",
   "execution_count": null,
   "metadata": {},
   "outputs": [],
   "source": [
    "print c[:3,2] #row 0,1,2 and column 2"
   ]
  },
  {
   "cell_type": "code",
   "execution_count": null,
   "metadata": {},
   "outputs": [],
   "source": [
    "print c[:3,:] #row 0,1,2 and every column"
   ]
  },
  {
   "cell_type": "markdown",
   "metadata": {},
   "source": [
    "7) The one we normally use"
   ]
  },
  {
   "cell_type": "code",
   "execution_count": null,
   "metadata": {},
   "outputs": [],
   "source": [
    "print c[:,1] #First index everything (:), Second index must be 1\n",
    "             #this means getting column 1"
   ]
  },
  {
   "cell_type": "code",
   "execution_count": null,
   "metadata": {},
   "outputs": [],
   "source": [
    "print c[2,:] #First index is 2, Second index can be anything\n",
    "             #This means row number 2."
   ]
  },
  {
   "cell_type": "markdown",
   "metadata": {},
   "source": [
    "8) Reference or copy? It's reference."
   ]
  },
  {
   "cell_type": "code",
   "execution_count": null,
   "metadata": {},
   "outputs": [],
   "source": [
    "d = c[2,:]\n",
    "print d\n",
    "d[2] = 0\n",
    "print d\n",
    "print c"
   ]
  },
  {
   "cell_type": "markdown",
   "metadata": {},
   "source": [
    "9) What if you want a copy?"
   ]
  },
  {
   "cell_type": "code",
   "execution_count": null,
   "metadata": {
    "collapsed": true
   },
   "outputs": [],
   "source": [
    "c3 = c.copy()"
   ]
  },
  {
   "cell_type": "code",
   "execution_count": null,
   "metadata": {},
   "outputs": [],
   "source": [
    "c3[1,1] = 999\n",
    "print c3\n",
    "print c"
   ]
  },
  {
   "cell_type": "markdown",
   "metadata": {},
   "source": [
    "10) Refrence is actually the right choice of implementation. It allows you to do this broadcast assignment."
   ]
  },
  {
   "cell_type": "code",
   "execution_count": null,
   "metadata": {},
   "outputs": [],
   "source": [
    "c[7,:] = 1 #all row 7 or c becomes 1\n",
    "print c"
   ]
  },
  {
   "cell_type": "code",
   "execution_count": null,
   "metadata": {},
   "outputs": [],
   "source": [
    "#you can do this too\n",
    "c[2,:] = c[3,:] + c[5,:]\n",
    "print c"
   ]
  },
  {
   "cell_type": "code",
   "execution_count": null,
   "metadata": {},
   "outputs": [],
   "source": [
    "c[:,1] = c[:,1]*2 #column 1 all multiply by 2\n",
    "print c"
   ]
  },
  {
   "cell_type": "markdown",
   "metadata": {},
   "source": [
    "###Gaussian Elimination."
   ]
  },
  {
   "cell_type": "markdown",
   "metadata": {},
   "source": [
    "See the notes. That's your homework."
   ]
  },
  {
   "cell_type": "markdown",
   "metadata": {},
   "source": [
    "###System of Non-Linear Equations.\n",
    "\n",
    "Consider\n",
    "$$x^2 + xy = 10$$\n",
    "$$y + 3 xy^2 = 57$$"
   ]
  },
  {
   "cell_type": "markdown",
   "metadata": {},
   "source": [
    "1) Write it in the form of\n",
    "$$u(x,y) = 0$$\n",
    "$$v(x,y) = 0$$"
   ]
  },
  {
   "cell_type": "code",
   "execution_count": null,
   "metadata": {
    "collapsed": true
   },
   "outputs": [],
   "source": [
    "def u(x,y):\n",
    "    pass\n",
    "    #return something\n",
    "\n",
    "def v(x,y):\n",
    "    pass\n",
    "    #return something"
   ]
  },
  {
   "cell_type": "markdown",
   "metadata": {},
   "source": [
    "2) Let us visualize it by making 3d plot. Despite looking really cool it doesn't tell much."
   ]
  },
  {
   "cell_type": "code",
   "execution_count": null,
   "metadata": {},
   "outputs": [],
   "source": [
    "from mpl_toolkits.mplot3d import Axes3D\n",
    "from matplotlib import cm\n",
    "#see matplotlib3d surface\n",
    "nx = 200\n",
    "ny = 200\n",
    "x = np.linspace(-20,20,nx)\n",
    "y = np.linspace(-20,20,ny)\n",
    "xgrid, ygrid = np.meshgrid(x, y)\n",
    "#print ygrid\n",
    "uz = np.zeros((nx,ny))\n",
    "vz = np.zeros((nx,ny))\n",
    "for ix in range(nx):\n",
    "    for iy in range(ny):\n",
    "        xx = x[ix]\n",
    "        yy = y[iy]\n",
    "        uz[iy,ix] = u(xx,yy) ##<<<<<<This is not a typo: [iy,ix]\n",
    "        vz[iy,ix] = v(xx,yy) ##<<<<<<And this too.   \n",
    "\n",
    "fig = plt.figure()\n",
    "ax = fig.add_subplot(111, projection='3d')\n",
    "ucs = ax.plot_surface(xgrid, ygrid, uz, cmap=cm.coolwarm)\n",
    "plt.title('u(x,y)')\n",
    "\n",
    "fig = plt.figure()\n",
    "ax = fig.add_subplot(111, projection='3d')        \n",
    "ucs = ax.plot_surface(xgrid, ygrid, vz, cmap=cm.coolwarm)\n",
    "plt.title('v(x,y)')"
   ]
  },
  {
   "cell_type": "markdown",
   "metadata": {},
   "source": [
    "3) Contour plot."
   ]
  },
  {
   "cell_type": "code",
   "execution_count": null,
   "metadata": {
    "scrolled": false
   },
   "outputs": [],
   "source": [
    "#see http://matplotlib.org/examples/pylab_examples/contour_demo.html\n",
    "nx = 100\n",
    "ny = 100\n",
    "x = np.linspace(-20,20,nx)\n",
    "y = np.linspace(-20,20,ny)\n",
    "xgrid, ygrid = np.meshgrid(x, y)\n",
    "#print ygrid\n",
    "uz = np.zeros((nx,ny))\n",
    "vz = np.zeros((nx,ny))\n",
    "for ix in range(nx):\n",
    "    for iy in range(ny):\n",
    "        xx = x[ix]\n",
    "        yy = y[iy]\n",
    "        uz[iy,ix] = u(xx,yy) ##<<<<<<This is not a typo: [iy,ix]\n",
    "        vz[iy,ix] = v(xx,yy)\n",
    " \n",
    "\n",
    "ucs = plt.contour(x, y, uz, colors=('b','r','g'))\n",
    "plt.clabel(ucs, inline=1, fontsize=10)\n",
    "plt.grid()\n",
    "plt.title('u(x,y)')\n",
    "\n",
    "plt.figure()\n",
    "vcs = plt.contour(x, y, vz, colors=('b','r','g'))\n",
    "plt.clabel(vcs, inline=1, fontsize=10,)\n",
    "plt.title('v(x,y)')\n",
    "plt.grid()"
   ]
  },
  {
   "cell_type": "markdown",
   "metadata": {},
   "source": [
    "3) Which lines are we interested in?"
   ]
  },
  {
   "cell_type": "code",
   "execution_count": null,
   "metadata": {
    "collapsed": true
   },
   "outputs": [],
   "source": []
  },
  {
   "cell_type": "markdown",
   "metadata": {},
   "source": [
    "4)Let's overlay them on top of each other."
   ]
  },
  {
   "cell_type": "code",
   "execution_count": null,
   "metadata": {},
   "outputs": [],
   "source": [
    "#see http://matplotlib.org/examples/pylab_examples/contour_demo.html\n",
    "nx = 200\n",
    "ny = 200\n",
    "x = np.linspace(-20,20,nx)\n",
    "y = np.linspace(-20,20,ny)\n",
    "xgrid, ygrid = np.meshgrid(x, y)\n",
    "#print ygrid\n",
    "uz = np.zeros((nx,ny))\n",
    "vz = np.zeros((nx,ny))\n",
    "for ix in range(nx):\n",
    "    for iy in range(ny):\n",
    "        xx = x[ix]\n",
    "        yy = y[iy]\n",
    "        uz[iy,ix] = u(xx,yy) ##<<<<<<This is not a typo: [iy,ix]\n",
    "        vz[iy,ix] = v(xx,yy)\n",
    "\n",
    "\n",
    "ucs = plt.contour(x, y, uz, colors=('r'))\n",
    "plt.clabel(ucs, inline=1, fontsize=10)\n",
    "vcs = plt.contour(x, y, vz, colors=('b'))\n",
    "plt.clabel(vcs, inline=1, fontsize=10)\n",
    "plt.grid()"
   ]
  },
  {
   "cell_type": "markdown",
   "metadata": {},
   "source": [
    "5) Where (approximately) are the solutions to $u(x,y)=0$ and $v(x,y)=0$"
   ]
  },
  {
   "cell_type": "code",
   "execution_count": null,
   "metadata": {
    "collapsed": true
   },
   "outputs": [],
   "source": []
  },
  {
   "cell_type": "markdown",
   "metadata": {
    "collapsed": true
   },
   "source": [
    "###Newton's Method (>1D)"
   ]
  },
  {
   "cell_type": "markdown",
   "metadata": {},
   "source": [
    "1) What matrix equation you need to solve to find the next guess ($x_{n+1}, y_{n+1}$)?"
   ]
  },
  {
   "cell_type": "code",
   "execution_count": null,
   "metadata": {
    "collapsed": true
   },
   "outputs": [],
   "source": []
  },
  {
   "cell_type": "markdown",
   "metadata": {},
   "source": [
    "2)Where should you start your guess ($x_0, y_0$)?"
   ]
  },
  {
   "cell_type": "code",
   "execution_count": null,
   "metadata": {
    "collapsed": true
   },
   "outputs": [],
   "source": []
  },
  {
   "cell_type": "markdown",
   "metadata": {},
   "source": [
    "3) Find ($x_1, y_1$)"
   ]
  },
  {
   "cell_type": "code",
   "execution_count": null,
   "metadata": {
    "collapsed": true
   },
   "outputs": [],
   "source": []
  },
  {
   "cell_type": "markdown",
   "metadata": {},
   "source": [
    "4)Find ($x_2, y_2$)"
   ]
  },
  {
   "cell_type": "code",
   "execution_count": null,
   "metadata": {
    "collapsed": true
   },
   "outputs": [],
   "source": []
  },
  {
   "cell_type": "markdown",
   "metadata": {},
   "source": [
    "5)Write a program to do what you just did and find  $(x_5, y_5)$? Plot to verify. (Just at plt.plot([x],[y])). You may use np.linalg.solve."
   ]
  },
  {
   "cell_type": "code",
   "execution_count": null,
   "metadata": {
    "collapsed": true
   },
   "outputs": [],
   "source": []
  },
  {
   "cell_type": "markdown",
   "metadata": {},
   "source": [
    "6) Find the other solution."
   ]
  },
  {
   "cell_type": "code",
   "execution_count": null,
   "metadata": {
    "collapsed": true
   },
   "outputs": [],
   "source": []
  },
  {
   "cell_type": "markdown",
   "metadata": {},
   "source": [
    "7) Does it guarantee to converge to the right answer?"
   ]
  },
  {
   "cell_type": "code",
   "execution_count": null,
   "metadata": {
    "collapsed": true
   },
   "outputs": [],
   "source": []
  },
  {
   "cell_type": "markdown",
   "metadata": {},
   "source": [
    "8) Implement np.linalg.solve using gaussian elimination."
   ]
  },
  {
   "cell_type": "code",
   "execution_count": null,
   "metadata": {
    "collapsed": true
   },
   "outputs": [],
   "source": []
  }
 ],
 "metadata": {
  "kernelspec": {
   "display_name": "Python 3",
   "language": "python",
   "name": "python3"
  },
  "language_info": {
   "codemirror_mode": {
    "name": "ipython",
    "version": 3
   },
   "file_extension": ".py",
   "mimetype": "text/x-python",
   "name": "python",
   "nbconvert_exporter": "python",
   "pygments_lexer": "ipython3",
   "version": "3.6.2"
  }
 },
 "nbformat": 4,
 "nbformat_minor": 1
}
